{
 "cells": [
  {
   "cell_type": "markdown",
   "metadata": {},
   "source": [
    "# ASSIGNMENT 2 - Albertini, Lafronza, Ranieri"
   ]
  },
  {
   "cell_type": "markdown",
   "metadata": {},
   "source": [
    "### References \n",
    "\n",
    "- https://github.com/lucabenedetto/2019-ai-for-security\n",
    "\n",
    "- https://github.com/oreilly-mlsec/book-resources\n",
    "\n",
    "- https://scikit-learn.org/stable/index.html\n",
    "\n",
    "- Mark Carman's slides\n",
    "\n",
    "- Chio, C. and Freeman, D. (2018). Machine Learning and Security. O'Reilly."
   ]
  },
  {
   "cell_type": "markdown",
   "metadata": {},
   "source": [
    "### Index\n",
    "- 1. Exploring and preparing data\n",
    "- 2. Classification\n",
    "    - 2.1. Decision Tree\n",
    "    - 2.2. Random Forest\n",
    "    - 2.3. Multi-layer Perceptron\n",
    "    - 2.4. C-Support Vector Classification\n",
    "         - 2.4.1. Linear\n",
    "         - 2.4.2. Non-linear\n",
    "- 3. Cross-validation\n",
    "    - 3.1. Decision Tree\n",
    "    - 3.2. Random Forest\n",
    "    - 3.3. Multi-layer Perceptron\n",
    "    - 3.4. C-Support Vector Classification\n",
    "- 4. Results\n",
    "- 5. Clustering\n",
    "    - 5.1. Training the clustering algorithm\n",
    "         - 5.1.1. Evaluating the cluster algorithm\n",
    "    - 5.2. Hierarchical Clustering\n",
    "         - 5.2.1. Evaluating the clustering algorithm\n",
    "- 6. Mapping features to categories and re-classification using best hyperparameters combination\n",
    "    - 6.1. Mapping from features to categories\n",
    "    - 6.2. New test of the classifiers\n",
    "         - 6.2.1. Decision Tree\n",
    "         - 6.2.2. Random Forest\n",
    "         - 6.2.3. Multi-layer Perceptron\n",
    "         - 6.2.4. C-Support Vector Classification\n",
    "    - 6.3. Merging columns before training\n",
    "         - 6.3.1. Decision Tree\n",
    "         - 6.3.2. Random Forest\n",
    "         - 6.3.3. Multi-layer Perceptron\n",
    "         - 6.3.4. C-Support Vector Classification\n",
    "- 7. Final Results"
   ]
  },
  {
   "cell_type": "markdown",
   "metadata": {},
   "source": [
    "## 1. Exploring and preparing data"
   ]
  },
  {
   "cell_type": "markdown",
   "metadata": {},
   "source": [
    "The first action we are going to perform is the import of some useful libraries that we generally use in order to analyze dataframes, those are pandas, numpy, time and matplotlib. After doing that the second important action in order to start working is to import the dataframe from our MalwareAnalysis folder."
   ]
  },
  {
   "cell_type": "code",
   "execution_count": 1,
   "metadata": {},
   "outputs": [],
   "source": [
    "import pandas as pd\n",
    "import numpy as np \n",
    "import time \n",
    "import matplotlib.pyplot as plt"
   ]
  },
  {
   "cell_type": "code",
   "execution_count": 2,
   "metadata": {},
   "outputs": [
    {
     "name": "stderr",
     "output_type": "stream",
     "text": [
      "C:\\Users\\Utente\\Anaconda3\\lib\\site-packages\\IPython\\core\\interactiveshell.py:3051: DtypeWarning: Columns (92) have mixed types. Specify dtype option on import or set low_memory=False.\n",
      "  interactivity=interactivity, compiler=compiler, result=result)\n"
     ]
    }
   ],
   "source": [
    "df = pd.read_csv('../ASSIGNMENT/data/AndroidMalware/drebin-215-dataset-5560malware-9476-benign.csv')"
   ]
  },
  {
   "cell_type": "markdown",
   "metadata": {},
   "source": [
    "After the import of the dataframe, in order to decide how to start working, we have to have a look at the dataframe. The most important things that we want to discover are the shape of the dataframe, how columns, rows and data look like (taking a sample or analyzing the head of the dataframe) and inspecting the type of the columns."
   ]
  },
  {
   "cell_type": "markdown",
   "metadata": {},
   "source": [
    "<b> NB. Some commands that are marked with an # have been executed during our testing but, in order to save space and to not load the machine too much, we marked them as text. In this way the execution is possible only if it is necessary. </b>"
   ]
  },
  {
   "cell_type": "code",
   "execution_count": 3,
   "metadata": {},
   "outputs": [],
   "source": [
    "# df.head(5)"
   ]
  },
  {
   "cell_type": "code",
   "execution_count": 4,
   "metadata": {},
   "outputs": [],
   "source": [
    "# df.shape"
   ]
  },
  {
   "cell_type": "code",
   "execution_count": 5,
   "metadata": {
    "scrolled": false
   },
   "outputs": [
    {
     "name": "stdout",
     "output_type": "stream",
     "text": [
      "<class 'pandas.core.frame.DataFrame'>\n",
      "RangeIndex: 15036 entries, 0 to 15035\n",
      "Data columns (total 216 columns):\n",
      "transact                                           int64\n",
      "onServiceConnected                                 int64\n",
      "bindService                                        int64\n",
      "attachInterface                                    int64\n",
      "ServiceConnection                                  int64\n",
      "android.os.Binder                                  int64\n",
      "SEND_SMS                                           int64\n",
      "Ljava.lang.Class.getCanonicalName                  int64\n",
      "Ljava.lang.Class.getMethods                        int64\n",
      "Ljava.lang.Class.cast                              int64\n",
      "Ljava.net.URLDecoder                               int64\n",
      "android.content.pm.Signature                       int64\n",
      "android.telephony.SmsManager                       int64\n",
      "READ_PHONE_STATE                                   int64\n",
      "getBinder                                          int64\n",
      "ClassLoader                                        int64\n",
      "Landroid.content.Context.registerReceiver          int64\n",
      "Ljava.lang.Class.getField                          int64\n",
      "Landroid.content.Context.unregisterReceiver        int64\n",
      "GET_ACCOUNTS                                       int64\n",
      "RECEIVE_SMS                                        int64\n",
      "Ljava.lang.Class.getDeclaredField                  int64\n",
      "READ_SMS                                           int64\n",
      "getCallingUid                                      int64\n",
      "Ljavax.crypto.spec.SecretKeySpec                   int64\n",
      "android.intent.action.BOOT_COMPLETED               int64\n",
      "USE_CREDENTIALS                                    int64\n",
      "MANAGE_ACCOUNTS                                    int64\n",
      "android.content.pm.PackageInfo                     int64\n",
      "KeySpec                                            int64\n",
      "TelephonyManager.getLine1Number                    int64\n",
      "DexClassLoader                                     int64\n",
      "HttpGet.init                                       int64\n",
      "SecretKey                                          int64\n",
      "Ljava.lang.Class.getMethod                         int64\n",
      "System.loadLibrary                                 int64\n",
      "android.intent.action.SEND                         int64\n",
      "Ljavax.crypto.Cipher                               int64\n",
      "WRITE_SMS                                          int64\n",
      "READ_SYNC_SETTINGS                                 int64\n",
      "AUTHENTICATE_ACCOUNTS                              int64\n",
      "android.telephony.gsm.SmsManager                   int64\n",
      "WRITE_HISTORY_BOOKMARKS                            int64\n",
      "TelephonyManager.getSubscriberId                   int64\n",
      "mount                                              int64\n",
      "INSTALL_PACKAGES                                   int64\n",
      "Runtime.getRuntime                                 int64\n",
      "CAMERA                                             int64\n",
      "Ljava.lang.Object.getClass                         int64\n",
      "WRITE_SYNC_SETTINGS                                int64\n",
      "READ_HISTORY_BOOKMARKS                             int64\n",
      "Ljava.lang.Class.forName                           int64\n",
      "INTERNET                                           int64\n",
      "android.intent.action.PACKAGE_REPLACED             int64\n",
      "Binder                                             int64\n",
      "android.intent.action.SEND_MULTIPLE                int64\n",
      "RECORD_AUDIO                                       int64\n",
      "IBinder                                            int64\n",
      "android.os.IBinder                                 int64\n",
      "createSubprocess                                   int64\n",
      "NFC                                                int64\n",
      "ACCESS_LOCATION_EXTRA_COMMANDS                     int64\n",
      "URLClassLoader                                     int64\n",
      "WRITE_APN_SETTINGS                                 int64\n",
      "abortBroadcast                                     int64\n",
      "BIND_REMOTEVIEWS                                   int64\n",
      "android.intent.action.TIME_SET                     int64\n",
      "READ_PROFILE                                       int64\n",
      "TelephonyManager.getDeviceId                       int64\n",
      "MODIFY_AUDIO_SETTINGS                              int64\n",
      "getCallingPid                                      int64\n",
      "READ_SYNC_STATS                                    int64\n",
      "BROADCAST_STICKY                                   int64\n",
      "android.intent.action.PACKAGE_REMOVED              int64\n",
      "android.intent.action.TIMEZONE_CHANGED             int64\n",
      "WAKE_LOCK                                          int64\n",
      "RECEIVE_BOOT_COMPLETED                             int64\n",
      "RESTART_PACKAGES                                   int64\n",
      "Ljava.lang.Class.getPackage                        int64\n",
      "chmod                                              int64\n",
      "Ljava.lang.Class.getDeclaredClasses                int64\n",
      "android.intent.action.ACTION_POWER_DISCONNECTED    int64\n",
      "android.intent.action.PACKAGE_ADDED                int64\n",
      "PathClassLoader                                    int64\n",
      "TelephonyManager.getSimSerialNumber                int64\n",
      "Runtime.load                                       int64\n",
      "TelephonyManager.getCallState                      int64\n",
      "BLUETOOTH                                          int64\n",
      "READ_CALENDAR                                      int64\n",
      "READ_CALL_LOG                                      int64\n",
      "SUBSCRIBED_FEEDS_WRITE                             int64\n",
      "READ_EXTERNAL_STORAGE                              int64\n",
      "TelephonyManager.getSimCountryIso                  object\n",
      "sendMultipartTextMessage                           int64\n",
      "PackageInstaller                                   int64\n",
      "VIBRATE                                            int64\n",
      "remount                                            int64\n",
      "android.intent.action.ACTION_SHUTDOWN              int64\n",
      "sendDataMessage                                    int64\n",
      "ACCESS_NETWORK_STATE                               int64\n",
      "chown                                              int64\n",
      "HttpPost.init                                      int64\n",
      "Ljava.lang.Class.getClasses                        int64\n",
      "SUBSCRIBED_FEEDS_READ                              int64\n",
      "TelephonyManager.isNetworkRoaming                  int64\n",
      "CHANGE_WIFI_MULTICAST_STATE                        int64\n",
      "WRITE_CALENDAR                                     int64\n",
      "android.intent.action.PACKAGE_DATA_CLEARED         int64\n",
      "MASTER_CLEAR                                       int64\n",
      "HttpUriRequest                                     int64\n",
      "UPDATE_DEVICE_STATS                                int64\n",
      "WRITE_CALL_LOG                                     int64\n",
      "DELETE_PACKAGES                                    int64\n",
      "GET_TASKS                                          int64\n",
      "GLOBAL_SEARCH                                      int64\n",
      "DELETE_CACHE_FILES                                 int64\n",
      "WRITE_USER_DICTIONARY                              int64\n",
      "android.intent.action.PACKAGE_CHANGED              int64\n",
      "android.intent.action.NEW_OUTGOING_CALL            int64\n",
      "REORDER_TASKS                                      int64\n",
      "WRITE_PROFILE                                      int64\n",
      "SET_WALLPAPER                                      int64\n",
      "BIND_INPUT_METHOD                                  int64\n",
      "divideMessage                                      int64\n",
      "READ_SOCIAL_STREAM                                 int64\n",
      "READ_USER_DICTIONARY                               int64\n",
      "PROCESS_OUTGOING_CALLS                             int64\n",
      "CALL_PRIVILEGED                                    int64\n",
      "Runtime.exec                                       int64\n",
      "BIND_WALLPAPER                                     int64\n",
      "RECEIVE_WAP_PUSH                                   int64\n",
      "DUMP                                               int64\n",
      "BATTERY_STATS                                      int64\n",
      "ACCESS_COARSE_LOCATION                             int64\n",
      "SET_TIME                                           int64\n",
      "android.intent.action.SENDTO                       int64\n",
      "WRITE_SOCIAL_STREAM                                int64\n",
      "WRITE_SETTINGS                                     int64\n",
      "REBOOT                                             int64\n",
      "BLUETOOTH_ADMIN                                    int64\n",
      "TelephonyManager.getNetworkOperator                int64\n",
      "/system/bin                                        int64\n",
      "MessengerService                                   int64\n",
      "BIND_DEVICE_ADMIN                                  int64\n",
      "WRITE_GSERVICES                                    int64\n",
      "IRemoteService                                     int64\n",
      "KILL_BACKGROUND_PROCESSES                          int64\n",
      "SET_ALARM                                          int64\n",
      "ACCOUNT_MANAGER                                    int64\n",
      "/system/app                                        int64\n",
      "android.intent.action.CALL                         int64\n",
      "STATUS_BAR                                         int64\n",
      "TelephonyManager.getSimOperator                    int64\n",
      "PERSISTENT_ACTIVITY                                int64\n",
      "CHANGE_NETWORK_STATE                               int64\n",
      "onBind                                             int64\n",
      "Process.start                                      int64\n",
      "android.intent.action.SCREEN_ON                    int64\n",
      "Context.bindService                                int64\n",
      "RECEIVE_MMS                                        int64\n",
      "SET_TIME_ZONE                                      int64\n",
      "android.intent.action.BATTERY_OKAY                 int64\n",
      "CONTROL_LOCATION_UPDATES                           int64\n",
      "BROADCAST_WAP_PUSH                                 int64\n",
      "BIND_ACCESSIBILITY_SERVICE                         int64\n",
      "ADD_VOICEMAIL                                      int64\n",
      "CALL_PHONE                                         int64\n",
      "ProcessBuilder                                     int64\n",
      "BIND_APPWIDGET                                     int64\n",
      "FLASHLIGHT                                         int64\n",
      "READ_LOGS                                          int64\n",
      "Ljava.lang.Class.getResource                       int64\n",
      "defineClass                                        int64\n",
      "SET_PROCESS_LIMIT                                  int64\n",
      "android.intent.action.PACKAGE_RESTARTED            int64\n",
      "MOUNT_UNMOUNT_FILESYSTEMS                          int64\n",
      "BIND_TEXT_SERVICE                                  int64\n",
      "INSTALL_LOCATION_PROVIDER                          int64\n",
      "android.intent.action.CALL_BUTTON                  int64\n",
      "android.intent.action.SCREEN_OFF                   int64\n",
      "findClass                                          int64\n",
      "SYSTEM_ALERT_WINDOW                                int64\n",
      "MOUNT_FORMAT_FILESYSTEMS                           int64\n",
      "CHANGE_CONFIGURATION                               int64\n",
      "CLEAR_APP_USER_DATA                                int64\n",
      "intent.action.RUN                                  int64\n",
      "android.intent.action.SET_WALLPAPER                int64\n",
      "CHANGE_WIFI_STATE                                  int64\n",
      "READ_FRAME_BUFFER                                  int64\n",
      "ACCESS_SURFACE_FLINGER                             int64\n",
      "Runtime.loadLibrary                                int64\n",
      "BROADCAST_SMS                                      int64\n",
      "EXPAND_STATUS_BAR                                  int64\n",
      "INTERNAL_SYSTEM_WINDOW                             int64\n",
      "android.intent.action.BATTERY_LOW                  int64\n",
      "SET_ACTIVITY_WATCHER                               int64\n",
      "WRITE_CONTACTS                                     int64\n",
      "android.intent.action.ACTION_POWER_CONNECTED       int64\n",
      "BIND_VPN_SERVICE                                   int64\n",
      "DISABLE_KEYGUARD                                   int64\n",
      "ACCESS_MOCK_LOCATION                               int64\n",
      "GET_PACKAGE_SIZE                                   int64\n",
      "MODIFY_PHONE_STATE                                 int64\n",
      "CHANGE_COMPONENT_ENABLED_STATE                     int64\n",
      "CLEAR_APP_CACHE                                    int64\n",
      "SET_ORIENTATION                                    int64\n",
      "READ_CONTACTS                                      int64\n",
      "DEVICE_POWER                                       int64\n",
      "HARDWARE_TEST                                      int64\n",
      "ACCESS_WIFI_STATE                                  int64\n",
      "WRITE_EXTERNAL_STORAGE                             int64\n",
      "ACCESS_FINE_LOCATION                               int64\n",
      "SET_WALLPAPER_HINTS                                int64\n",
      "SET_PREFERRED_APPLICATIONS                         int64\n",
      "WRITE_SECURE_SETTINGS                              int64\n",
      "class                                              object\n",
      "dtypes: int64(214), object(2)\n",
      "memory usage: 24.8+ MB\n"
     ]
    }
   ],
   "source": [
    "df.info(verbose=True)"
   ]
  },
  {
   "cell_type": "markdown",
   "metadata": {},
   "source": [
    "With .info we noticed that every column contains integer values, except for two, \"classes\" and \"TelephonyManager.getSimCountryIso\". We imagined that class is our label column so we decided to in-depth analyze the other column. The first thing we did is to check which unique values are contained into the column."
   ]
  },
  {
   "cell_type": "code",
   "execution_count": 6,
   "metadata": {},
   "outputs": [
    {
     "data": {
      "text/plain": [
       "{0, '0', 1, '1', '?'}"
      ]
     },
     "execution_count": 6,
     "metadata": {},
     "output_type": "execute_result"
    }
   ],
   "source": [
    "set(df['TelephonyManager.getSimCountryIso'])"
   ]
  },
  {
   "cell_type": "markdown",
   "metadata": {},
   "source": [
    "After discovering that it is a \"binary\" column we noticed that there was also a \"?\" that could have created some problems during the analysis and we wanted to drop it. The problem is that dropping the cells containing the \"?\" would create a lot of troubles because it will permanently modify the shape of the column, losing some observation fields. So, in order to solve this problem we decided to dummy this column and then drop the dummy column that contained the \"?\". In this way we can perform our analysis on dummy columns without losing values or modifying our original one. To do this operation we initially modified the type of the column as string, because as we see before there were some duplicates because one value was in form of an integer and one in form of a string."
   ]
  },
  {
   "cell_type": "code",
   "execution_count": 7,
   "metadata": {},
   "outputs": [],
   "source": [
    "df['TelephonyManager.getSimCountryIso'] = df['TelephonyManager.getSimCountryIso'].astype('str')"
   ]
  },
  {
   "cell_type": "markdown",
   "metadata": {},
   "source": [
    "Here there is the check that shows that now that we have changed the type of the column there are no longer duplicates."
   ]
  },
  {
   "cell_type": "code",
   "execution_count": 8,
   "metadata": {
    "scrolled": true
   },
   "outputs": [
    {
     "data": {
      "text/plain": [
       "{'0', '1', '?'}"
      ]
     },
     "execution_count": 8,
     "metadata": {},
     "output_type": "execute_result"
    }
   ],
   "source": [
    "set(df['TelephonyManager.getSimCountryIso'])"
   ]
  },
  {
   "cell_type": "markdown",
   "metadata": {},
   "source": [
    "As there are a lot of columns into the dataframe we wanted to discover the position of our column."
   ]
  },
  {
   "cell_type": "code",
   "execution_count": 9,
   "metadata": {},
   "outputs": [
    {
     "data": {
      "text/plain": [
       "92"
      ]
     },
     "execution_count": 9,
     "metadata": {},
     "output_type": "execute_result"
    }
   ],
   "source": [
    "df.columns.get_loc('TelephonyManager.getSimCountryIso')"
   ]
  },
  {
   "cell_type": "markdown",
   "metadata": {},
   "source": [
    "Another inspection that is useful is to check the unique values of the other object column into the dataframe, the \"class\" column."
   ]
  },
  {
   "cell_type": "code",
   "execution_count": 10,
   "metadata": {},
   "outputs": [
    {
     "data": {
      "text/plain": [
       "{'B', 'S'}"
      ]
     },
     "execution_count": 10,
     "metadata": {},
     "output_type": "execute_result"
    }
   ],
   "source": [
    "set(df['class'])"
   ]
  },
  {
   "cell_type": "code",
   "execution_count": 11,
   "metadata": {},
   "outputs": [],
   "source": [
    "# for column in df.columns:\n",
    "    # print(set(df[column]))"
   ]
  },
  {
   "cell_type": "code",
   "execution_count": 12,
   "metadata": {
    "scrolled": true
   },
   "outputs": [],
   "source": [
    "# for column in df.columns:\n",
    "#     print(df.groupby([column,'class']).size().reset_index().sort_values(0,ascending=False).rename(columns={0:'count'}))"
   ]
  },
  {
   "cell_type": "markdown",
   "metadata": {},
   "source": [
    "As we can see with the checks we have done each row represent a vector, each feature is represented with 1 if is present in the observation and with 0 if not. Now we will do the operation described above in order to remove the \"?\" without affecting the observation. The first thing is to create a new dataframe with the dummies of the desired column."
   ]
  },
  {
   "cell_type": "code",
   "execution_count": 13,
   "metadata": {},
   "outputs": [],
   "source": [
    "df_one_hot = pd.get_dummies(df,columns=['TelephonyManager.getSimCountryIso'])"
   ]
  },
  {
   "cell_type": "code",
   "execution_count": 14,
   "metadata": {},
   "outputs": [],
   "source": [
    "# df_one_hot.info(verbose=True)"
   ]
  },
  {
   "cell_type": "markdown",
   "metadata": {},
   "source": [
    "Then we are going to drop the dummy column of \"?\". We are doing this combined to another important operation necessary in order to analyze this dataframe, the split operation. In fact in NetworkAnalysis we had two different dataframes, one for training and one for testing. In this case we have only one dataframe and we have to split it. We do this using the sklearn \"split\" that gives us the possibility to choose the % of data we want to assign to the test variables. For this analysis we decided that the train variables will contain the 70% of the data and the test the 30%."
   ]
  },
  {
   "cell_type": "code",
   "execution_count": 15,
   "metadata": {},
   "outputs": [],
   "source": [
    "from sklearn.model_selection import train_test_split\n",
    "\n",
    "X_train, X_test, y_train, y_test = train_test_split(\n",
    "    df_one_hot.drop(['TelephonyManager.getSimCountryIso_?', 'class'], axis=1), \n",
    "    df_one_hot['class'], \n",
    "    test_size=0.3\n",
    ")"
   ]
  },
  {
   "cell_type": "markdown",
   "metadata": {},
   "source": [
    "Here there is the check for the shape of the variables that we have created. The sum of the count of the y variables must be equal to the number of rows of the X variables."
   ]
  },
  {
   "cell_type": "code",
   "execution_count": 16,
   "metadata": {},
   "outputs": [
    {
     "name": "stdout",
     "output_type": "stream",
     "text": [
      "(10525, 216)\n",
      "(4511, 216)\n"
     ]
    }
   ],
   "source": [
    "print(X_train.shape)\n",
    "print(X_test.shape)"
   ]
  },
  {
   "cell_type": "code",
   "execution_count": 17,
   "metadata": {},
   "outputs": [
    {
     "name": "stdout",
     "output_type": "stream",
     "text": [
      "B    6635\n",
      "S    3890\n",
      "Name: class, dtype: int64\n",
      "B    2841\n",
      "S    1670\n",
      "Name: class, dtype: int64\n"
     ]
    }
   ],
   "source": [
    "print(y_train.value_counts())\n",
    "print(y_test.value_counts())"
   ]
  },
  {
   "cell_type": "markdown",
   "metadata": {},
   "source": [
    "## 2. Classification"
   ]
  },
  {
   "cell_type": "markdown",
   "metadata": {},
   "source": [
    "To start the classification we have to import the different classifiers from sklearn library."
   ]
  },
  {
   "cell_type": "code",
   "execution_count": 18,
   "metadata": {},
   "outputs": [],
   "source": [
    "# Classification\n",
    "from sklearn.tree import DecisionTreeClassifier\n",
    "from sklearn.ensemble import RandomForestClassifier\n",
    "from sklearn.svm import LinearSVC\n",
    "from sklearn.svm import SVC\n",
    "from sklearn.neural_network import MLPClassifier\n",
    "# Cross-validation\n",
    "from sklearn.model_selection import GridSearchCV\n",
    "from sklearn.pipeline import Pipeline\n",
    "# Metrics\n",
    "from sklearn.metrics import (accuracy_score, recall_score, precision_score, confusion_matrix, classification_report, \n",
    "                            balanced_accuracy_score, f1_score)"
   ]
  },
  {
   "cell_type": "markdown",
   "metadata": {},
   "source": [
    "<b> NB. While trying every classifier we will also check the time it requires to train and to predict. </b>"
   ]
  },
  {
   "cell_type": "markdown",
   "metadata": {},
   "source": [
    "<b> NB. The operations of training and testing on the different classifiers are similar so, in order to not be repetitive, we are going to describe in depth the operations done only with the first classifiers. For the others we will declare what we are doing and only describe if there are some important changes. </b>"
   ]
  },
  {
   "cell_type": "markdown",
   "metadata": {},
   "source": [
    "### 2.1. Decision Tree"
   ]
  },
  {
   "cell_type": "markdown",
   "metadata": {},
   "source": [
    "The first classifier we are going to train is the DecisionTree. In this cell we are performing both the training, on X_train and y_train, and the prediction. As specified before we are storing the training and the prediction time of the classifier in order to print it with the results, because it is important to evaluate the efficiency of a classifier."
   ]
  },
  {
   "cell_type": "code",
   "execution_count": 19,
   "metadata": {},
   "outputs": [
    {
     "name": "stdout",
     "output_type": "stream",
     "text": [
      "Elapsed time to fit the model: 0.29 seconds \n",
      "\n",
      "Elapsed time to make the predictions: 0.01 seconds \n",
      "\n"
     ]
    }
   ],
   "source": [
    "# start the timer\n",
    "start_time = time.time()\n",
    "#print(time.time())\n",
    "\n",
    "clf_DT = DecisionTreeClassifier(criterion='gini',splitter='best').fit(X_train, y_train)\n",
    "\n",
    "# stop the timer and print the result\n",
    "elapsed_training_time_DT = time.time() - start_time\n",
    "print(\"Elapsed time to fit the model: %.2f seconds\" % elapsed_training_time_DT,'\\n')\n",
    "\n",
    "# start the timer\n",
    "start_time = time.time()\n",
    "\n",
    "y_pred_DT = clf_DT.predict(X_test)\n",
    "\n",
    "# stop the timer and print the result\n",
    "elapsed_prediction_time_DT = time.time() - start_time\n",
    "print(\"Elapsed time to make the predictions: %.2f seconds\" % elapsed_prediction_time_DT,'\\n')"
   ]
  },
  {
   "cell_type": "markdown",
   "metadata": {},
   "source": [
    "Here we are doing an operation that we will do on every classifier, storing important calculations done on the predicted variable, in order to show them later. The operations that we are performing (that will be the same for every classifier we will test) are:\n",
    "1. Accuracy Score\n",
    "2. Classification Report\n",
    "3. Balanced Accuracy Score\n",
    "4. Confusion matrix (done utilizing the true values of y_test, meaning it is perfectly correct)\n",
    "5. Confusion matrix (predicted)"
   ]
  },
  {
   "cell_type": "code",
   "execution_count": 20,
   "metadata": {},
   "outputs": [],
   "source": [
    "accuracy_score_DT = accuracy_score(y_test,y_pred_DT)\n",
    "\n",
    "classification_report_DT = classification_report(y_test,y_pred_DT,digits=5)\n",
    "\n",
    "balanced_accuracy_score_DT = balanced_accuracy_score(y_test,y_pred_DT)\n",
    "\n",
    "confusion_matrix_true_DT = confusion_matrix(y_test, y_test)   \n",
    "\n",
    "confusion_matrix_pred_DT = confusion_matrix(y_test,y_pred_DT)"
   ]
  },
  {
   "cell_type": "markdown",
   "metadata": {},
   "source": [
    "Here there is the printing of the variables we have created for this classifier."
   ]
  },
  {
   "cell_type": "code",
   "execution_count": 21,
   "metadata": {
    "scrolled": false
   },
   "outputs": [
    {
     "name": "stdout",
     "output_type": "stream",
     "text": [
      "elapsed time for training: 0.2902193069458008 \n",
      "\n",
      "elapsed time to make predictions: 0.01096653938293457 \n",
      "\n",
      "classification_report: \n",
      "               precision    recall  f1-score   support\n",
      "\n",
      "           B    0.97983   0.97466   0.97724      2841\n",
      "           S    0.95727   0.96587   0.96155      1670\n",
      "\n",
      "    accuracy                        0.97140      4511\n",
      "   macro avg    0.96855   0.97026   0.96939      4511\n",
      "weighted avg    0.97148   0.97140   0.97143      4511\n",
      " \n",
      "\n",
      "balanced_accuracy_score: 0.9702625372275513 \n",
      "\n",
      "confusion_matrix-true value: \n",
      " [[2841    0]\n",
      " [   0 1670]] \n",
      "\n",
      "confusion_matrix-pred value: \n",
      " [[2769   72]\n",
      " [  57 1613]]\n"
     ]
    }
   ],
   "source": [
    "print('elapsed time for training:',elapsed_training_time_DT,'\\n')\n",
    "print('elapsed time to make predictions:', elapsed_prediction_time_DT,'\\n')\n",
    "\n",
    "print('classification_report: \\n', classification_report_DT,'\\n')\n",
    "print('balanced_accuracy_score:', balanced_accuracy_score_DT,'\\n')\n",
    "\n",
    "print('confusion_matrix-true value: \\n',confusion_matrix_true_DT,'\\n')\n",
    "print('confusion_matrix-pred value: \\n',confusion_matrix_pred_DT)"
   ]
  },
  {
   "cell_type": "markdown",
   "metadata": {},
   "source": [
    "### 2.2. Random Forest"
   ]
  },
  {
   "cell_type": "markdown",
   "metadata": {},
   "source": [
    "Training and Prediction:"
   ]
  },
  {
   "cell_type": "code",
   "execution_count": 22,
   "metadata": {
    "scrolled": true
   },
   "outputs": [
    {
     "name": "stderr",
     "output_type": "stream",
     "text": [
      "C:\\Users\\Utente\\Anaconda3\\lib\\site-packages\\sklearn\\ensemble\\forest.py:245: FutureWarning: The default value of n_estimators will change from 10 in version 0.20 to 100 in 0.22.\n",
      "  \"10 in version 0.20 to 100 in 0.22.\", FutureWarning)\n",
      "[Parallel(n_jobs=1)]: Using backend SequentialBackend with 1 concurrent workers.\n"
     ]
    },
    {
     "name": "stdout",
     "output_type": "stream",
     "text": [
      "Elapsed time to fit the model: 0.21 seconds \n",
      "\n",
      "Elapsed time to make the predictions: 0.02 seconds \n",
      "\n"
     ]
    },
    {
     "name": "stderr",
     "output_type": "stream",
     "text": [
      "[Parallel(n_jobs=1)]: Done  10 out of  10 | elapsed:    0.1s finished\n",
      "[Parallel(n_jobs=1)]: Using backend SequentialBackend with 1 concurrent workers.\n",
      "[Parallel(n_jobs=1)]: Done  10 out of  10 | elapsed:    0.0s finished\n"
     ]
    }
   ],
   "source": [
    "# start the timer\n",
    "start_time = time.time()\n",
    "#print(time.time())\n",
    "\n",
    "clf_RF = RandomForestClassifier(criterion='gini',verbose=1,warm_start=True,).fit(X_train, y_train)\n",
    "\n",
    "# stop the timer and print the result\n",
    "elapsed_training_time_RF = time.time() - start_time\n",
    "print(\"Elapsed time to fit the model: %.2f seconds\" % elapsed_training_time_RF,'\\n')\n",
    "\n",
    "# start the timer\n",
    "start_time = time.time()\n",
    "\n",
    "y_pred_RF = clf_RF.predict(X_test)\n",
    "\n",
    "# stop the timer and print the result\n",
    "elapsed_prediction_time_RF = time.time() - start_time\n",
    "print(\"Elapsed time to make the predictions: %.2f seconds\" % elapsed_prediction_time_RF,'\\n')"
   ]
  },
  {
   "cell_type": "markdown",
   "metadata": {},
   "source": [
    "Creation of variables and print:"
   ]
  },
  {
   "cell_type": "code",
   "execution_count": 23,
   "metadata": {},
   "outputs": [],
   "source": [
    "accuracy_score_RF = accuracy_score(y_test,y_pred_RF)\n",
    "\n",
    "classification_report_RF = classification_report(y_test,y_pred_RF,digits=5)\n",
    "\n",
    "balanced_accuracy_score_RF = balanced_accuracy_score(y_test,y_pred_RF)\n",
    "\n",
    "confusion_matrix_true_RF = confusion_matrix(y_test, y_test)   \n",
    "\n",
    "confusion_matrix_pred_RF = confusion_matrix(y_test,y_pred_RF)"
   ]
  },
  {
   "cell_type": "code",
   "execution_count": 24,
   "metadata": {},
   "outputs": [
    {
     "name": "stdout",
     "output_type": "stream",
     "text": [
      "elapsed time for training: 0.20844125747680664 \n",
      "\n",
      "elapsed time to make predictions: 0.021941184997558594 \n",
      "\n",
      "classification_report: \n",
      "               precision    recall  f1-score   support\n",
      "\n",
      "           B    0.97644   0.99190   0.98411      2841\n",
      "           S    0.98585   0.95928   0.97238      1670\n",
      "\n",
      "    accuracy                        0.97983      4511\n",
      "   macro avg    0.98114   0.97559   0.97825      4511\n",
      "weighted avg    0.97992   0.97983   0.97977      4511\n",
      " \n",
      "\n",
      "balanced_accuracy_score: 0.9755928480947292 \n",
      "\n",
      "confusion_matrix-true value: \n",
      " [[2841    0]\n",
      " [   0 1670]] \n",
      "\n",
      "confusion_matrix-pred value: \n",
      " [[2818   23]\n",
      " [  68 1602]]\n"
     ]
    }
   ],
   "source": [
    "print('elapsed time for training:',elapsed_training_time_RF,'\\n')\n",
    "print('elapsed time to make predictions:', elapsed_prediction_time_RF,'\\n')\n",
    "\n",
    "print('classification_report: \\n', classification_report_RF,'\\n')\n",
    "print('balanced_accuracy_score:', balanced_accuracy_score_RF,'\\n')\n",
    "\n",
    "print('confusion_matrix-true value: \\n',confusion_matrix_true_RF,'\\n')\n",
    "print('confusion_matrix-pred value: \\n',confusion_matrix_pred_RF)"
   ]
  },
  {
   "cell_type": "markdown",
   "metadata": {},
   "source": [
    "### 2.3. Multi-Layer Perceptron"
   ]
  },
  {
   "cell_type": "markdown",
   "metadata": {},
   "source": [
    "Training and Prediction:"
   ]
  },
  {
   "cell_type": "code",
   "execution_count": 25,
   "metadata": {
    "scrolled": false
   },
   "outputs": [
    {
     "name": "stdout",
     "output_type": "stream",
     "text": [
      "Iteration 1, loss = 0.64215050\n",
      "Iteration 2, loss = 0.50113567\n",
      "Iteration 3, loss = 0.42553301\n",
      "Iteration 4, loss = 0.37140219\n",
      "Iteration 5, loss = 0.33156483\n",
      "Iteration 6, loss = 0.30177455\n",
      "Iteration 7, loss = 0.27885949\n",
      "Iteration 8, loss = 0.26072686\n",
      "Iteration 9, loss = 0.24593657\n",
      "Iteration 10, loss = 0.23361154\n",
      "Iteration 11, loss = 0.22305959\n",
      "Iteration 12, loss = 0.21398230\n",
      "Iteration 13, loss = 0.20595535\n",
      "Iteration 14, loss = 0.19884208\n",
      "Iteration 15, loss = 0.19248830\n",
      "Iteration 16, loss = 0.18672015\n",
      "Iteration 17, loss = 0.18146690\n",
      "Iteration 18, loss = 0.17666502\n",
      "Iteration 19, loss = 0.17226329\n",
      "Iteration 20, loss = 0.16816149\n",
      "Iteration 21, loss = 0.16437667\n",
      "Iteration 22, loss = 0.16085797\n",
      "Iteration 23, loss = 0.15759383\n",
      "Iteration 24, loss = 0.15449219\n",
      "Iteration 25, loss = 0.15158508\n",
      "Iteration 26, loss = 0.14887740\n",
      "Iteration 27, loss = 0.14630773\n",
      "Iteration 28, loss = 0.14384995\n",
      "Iteration 29, loss = 0.14156493\n",
      "Iteration 30, loss = 0.13936850\n",
      "Iteration 31, loss = 0.13726745\n",
      "Iteration 32, loss = 0.13528545\n",
      "Iteration 33, loss = 0.13339919\n",
      "Iteration 34, loss = 0.13156957\n",
      "Iteration 35, loss = 0.12982977\n",
      "Iteration 36, loss = 0.12818072\n",
      "Iteration 37, loss = 0.12662363\n",
      "Iteration 38, loss = 0.12507471\n",
      "Iteration 39, loss = 0.12356197\n",
      "Iteration 40, loss = 0.12216315\n",
      "Iteration 41, loss = 0.12080207\n",
      "Iteration 42, loss = 0.11947558\n",
      "Iteration 43, loss = 0.11819199\n",
      "Iteration 44, loss = 0.11694806\n",
      "Iteration 45, loss = 0.11577590\n",
      "Iteration 46, loss = 0.11463294\n",
      "Iteration 47, loss = 0.11345647\n",
      "Iteration 48, loss = 0.11238378\n",
      "Iteration 49, loss = 0.11132600\n",
      "Iteration 50, loss = 0.11029522\n",
      "Iteration 51, loss = 0.10932374\n",
      "Iteration 52, loss = 0.10835152\n",
      "Iteration 53, loss = 0.10742273\n",
      "Iteration 54, loss = 0.10655168\n",
      "Iteration 55, loss = 0.10561730\n",
      "Iteration 56, loss = 0.10478291\n",
      "Iteration 57, loss = 0.10393094\n",
      "Iteration 58, loss = 0.10314496\n",
      "Iteration 59, loss = 0.10235191\n",
      "Iteration 60, loss = 0.10158720\n",
      "Iteration 61, loss = 0.10081851\n",
      "Iteration 62, loss = 0.10008392\n",
      "Iteration 63, loss = 0.09938942\n",
      "Iteration 64, loss = 0.09869555\n",
      "Iteration 65, loss = 0.09802336\n",
      "Iteration 66, loss = 0.09737817\n",
      "Iteration 67, loss = 0.09670262\n",
      "Iteration 68, loss = 0.09609872\n",
      "Iteration 69, loss = 0.09547824\n",
      "Iteration 70, loss = 0.09490920\n",
      "Iteration 71, loss = 0.09430111\n",
      "Iteration 72, loss = 0.09375918\n",
      "Iteration 73, loss = 0.09316054\n",
      "Iteration 74, loss = 0.09262198\n",
      "Iteration 75, loss = 0.09209705\n",
      "Iteration 76, loss = 0.09158992\n",
      "Iteration 77, loss = 0.09108287\n",
      "Iteration 78, loss = 0.09059705\n",
      "Iteration 79, loss = 0.09010140\n",
      "Iteration 80, loss = 0.08964896\n",
      "Iteration 81, loss = 0.08916875\n",
      "Iteration 82, loss = 0.08874581\n",
      "Iteration 83, loss = 0.08828362\n",
      "Iteration 84, loss = 0.08786770\n",
      "Iteration 85, loss = 0.08745197\n",
      "Iteration 86, loss = 0.08701780\n",
      "Iteration 87, loss = 0.08661438\n",
      "Iteration 88, loss = 0.08622550\n",
      "Iteration 89, loss = 0.08582289\n",
      "Iteration 90, loss = 0.08544995\n",
      "Iteration 91, loss = 0.08505943\n",
      "Iteration 92, loss = 0.08471300\n",
      "Iteration 93, loss = 0.08439830\n",
      "Iteration 94, loss = 0.08398715\n",
      "Iteration 95, loss = 0.08366143\n",
      "Iteration 96, loss = 0.08332760\n",
      "Iteration 97, loss = 0.08295750\n",
      "Iteration 98, loss = 0.08266957\n",
      "Iteration 99, loss = 0.08232652\n",
      "Iteration 100, loss = 0.08200690\n",
      "Iteration 101, loss = 0.08167978\n",
      "Iteration 102, loss = 0.08139391\n",
      "Iteration 103, loss = 0.08107228\n",
      "Iteration 104, loss = 0.08080734\n",
      "Iteration 105, loss = 0.08047824\n",
      "Iteration 106, loss = 0.08023752\n",
      "Iteration 107, loss = 0.07991780\n",
      "Iteration 108, loss = 0.07964581\n",
      "Iteration 109, loss = 0.07942725\n",
      "Iteration 110, loss = 0.07910343\n",
      "Iteration 111, loss = 0.07883689\n",
      "Iteration 112, loss = 0.07858054\n",
      "Iteration 113, loss = 0.07833790\n",
      "Iteration 114, loss = 0.07806659\n",
      "Iteration 115, loss = 0.07779929\n",
      "Iteration 116, loss = 0.07757994\n",
      "Iteration 117, loss = 0.07732464\n",
      "Iteration 118, loss = 0.07709261\n",
      "Iteration 119, loss = 0.07686088\n",
      "Iteration 120, loss = 0.07660261\n",
      "Iteration 121, loss = 0.07635239\n",
      "Iteration 122, loss = 0.07613090\n",
      "Iteration 123, loss = 0.07589360\n",
      "Iteration 124, loss = 0.07567959\n",
      "Iteration 125, loss = 0.07544663\n",
      "Iteration 126, loss = 0.07524293\n",
      "Iteration 127, loss = 0.07504503\n",
      "Iteration 128, loss = 0.07481353\n",
      "Iteration 129, loss = 0.07459863\n",
      "Iteration 130, loss = 0.07438634\n",
      "Iteration 131, loss = 0.07418928\n",
      "Iteration 132, loss = 0.07398517\n",
      "Iteration 133, loss = 0.07378389\n",
      "Iteration 134, loss = 0.07359278\n",
      "Iteration 135, loss = 0.07338271\n",
      "Iteration 136, loss = 0.07320958\n",
      "Iteration 137, loss = 0.07300770\n",
      "Iteration 138, loss = 0.07281605\n",
      "Iteration 139, loss = 0.07262520\n",
      "Iteration 140, loss = 0.07243038\n",
      "Iteration 141, loss = 0.07224855\n",
      "Iteration 142, loss = 0.07208345\n",
      "Iteration 143, loss = 0.07189767\n",
      "Iteration 144, loss = 0.07170948\n",
      "Iteration 145, loss = 0.07155162\n",
      "Iteration 146, loss = 0.07136315\n",
      "Iteration 147, loss = 0.07118331\n",
      "Iteration 148, loss = 0.07102283\n",
      "Iteration 149, loss = 0.07085144\n",
      "Iteration 150, loss = 0.07066620\n",
      "Iteration 151, loss = 0.07055604\n",
      "Iteration 152, loss = 0.07035367\n",
      "Iteration 153, loss = 0.07022380\n",
      "Iteration 154, loss = 0.07004166\n",
      "Iteration 155, loss = 0.06990209\n",
      "Iteration 156, loss = 0.06971629\n",
      "Iteration 157, loss = 0.06956375\n",
      "Iteration 158, loss = 0.06940344\n",
      "Iteration 159, loss = 0.06929256\n",
      "Iteration 160, loss = 0.06911684\n",
      "Iteration 161, loss = 0.06896233\n",
      "Iteration 162, loss = 0.06879358\n",
      "Iteration 163, loss = 0.06864671\n",
      "Iteration 164, loss = 0.06854108\n",
      "Iteration 165, loss = 0.06835707\n",
      "Iteration 166, loss = 0.06821569\n",
      "Iteration 167, loss = 0.06806720\n",
      "Iteration 168, loss = 0.06792922\n",
      "Iteration 169, loss = 0.06779718\n",
      "Iteration 170, loss = 0.06764536\n",
      "Iteration 171, loss = 0.06751283\n",
      "Iteration 172, loss = 0.06741821\n",
      "Iteration 173, loss = 0.06722755\n",
      "Iteration 174, loss = 0.06710716\n",
      "Iteration 175, loss = 0.06697675\n",
      "Iteration 176, loss = 0.06685053\n",
      "Iteration 177, loss = 0.06668973\n",
      "Iteration 178, loss = 0.06660521\n",
      "Iteration 179, loss = 0.06648060\n",
      "Iteration 180, loss = 0.06631783\n",
      "Iteration 181, loss = 0.06619616\n",
      "Iteration 182, loss = 0.06609207\n",
      "Iteration 183, loss = 0.06592544\n",
      "Iteration 184, loss = 0.06581107\n",
      "Iteration 185, loss = 0.06569042\n",
      "Iteration 186, loss = 0.06559543\n",
      "Iteration 187, loss = 0.06544468\n",
      "Iteration 188, loss = 0.06531564\n",
      "Iteration 189, loss = 0.06521810\n",
      "Iteration 190, loss = 0.06511434\n",
      "Iteration 191, loss = 0.06501400\n",
      "Iteration 192, loss = 0.06487828\n",
      "Iteration 193, loss = 0.06473366\n",
      "Iteration 194, loss = 0.06462061\n",
      "Iteration 195, loss = 0.06450707\n",
      "Iteration 196, loss = 0.06443029\n",
      "Iteration 197, loss = 0.06428554\n",
      "Iteration 198, loss = 0.06416584\n",
      "Iteration 199, loss = 0.06408122\n",
      "Iteration 200, loss = 0.06394536\n",
      "Elapsed time to fit the model: 43.72 seconds \n",
      "\n",
      "Elapsed time to make the prediction: 0.05 seconds \n",
      "\n"
     ]
    },
    {
     "name": "stderr",
     "output_type": "stream",
     "text": [
      "C:\\Users\\Utente\\Anaconda3\\lib\\site-packages\\sklearn\\neural_network\\multilayer_perceptron.py:566: ConvergenceWarning: Stochastic Optimizer: Maximum iterations (200) reached and the optimization hasn't converged yet.\n",
      "  % self.max_iter, ConvergenceWarning)\n"
     ]
    }
   ],
   "source": [
    "# start the timer\n",
    "start_time = time.time()\n",
    "#print(time.time())\n",
    "\n",
    "# define the classifier\n",
    "clf_MLP = MLPClassifier(hidden_layer_sizes=(200, ), activation='relu', solver='sgd',learning_rate='adaptive',verbose=True)\n",
    "\n",
    "# train the classifier\n",
    "clf_MLP.fit(X_train, y_train)\n",
    "\n",
    "# stop the timer and print the result\n",
    "elapsed_training_time_MLP = time.time() - start_time\n",
    "print(\"Elapsed time to fit the model: %.2f seconds\" % elapsed_training_time_MLP,'\\n')\n",
    "\n",
    "# start the timer\n",
    "start_time = time.time()\n",
    "\n",
    "# perform the prediction\n",
    "y_pred_MLP = clf_MLP.predict(X_test)\n",
    "\n",
    "# stop the timer and print the result\n",
    "elapsed_prediction_time_MLP = time.time() - start_time\n",
    "print(\"Elapsed time to make the prediction: %.2f seconds\" % elapsed_prediction_time_MLP,'\\n')"
   ]
  },
  {
   "cell_type": "markdown",
   "metadata": {},
   "source": [
    "Creation of variables and print:"
   ]
  },
  {
   "cell_type": "code",
   "execution_count": 26,
   "metadata": {},
   "outputs": [],
   "source": [
    "accuracy_score_MLP = accuracy_score(y_test,y_pred_MLP)\n",
    "\n",
    "classification_report_MLP = classification_report(y_test,y_pred_MLP,digits=5)\n",
    "\n",
    "balanced_accuracy_score_MLP = balanced_accuracy_score(y_test,y_pred_MLP)\n",
    "\n",
    "confusion_matrix_true_MLP = confusion_matrix(y_test, y_test)   \n",
    "\n",
    "confusion_matrix_pred_MLP = confusion_matrix(y_test,y_pred_MLP)"
   ]
  },
  {
   "cell_type": "code",
   "execution_count": 27,
   "metadata": {},
   "outputs": [
    {
     "name": "stdout",
     "output_type": "stream",
     "text": [
      "elapsed time for training: 43.71689057350159 \n",
      "\n",
      "elapsed time to make predictions: 0.05086374282836914 \n",
      "\n",
      "classification_report: \n",
      "               precision    recall  f1-score   support\n",
      "\n",
      "           B    0.97385   0.98310   0.97846      2841\n",
      "           S    0.97079   0.95509   0.96287      1670\n",
      "\n",
      "    accuracy                        0.97273      4511\n",
      "   macro avg    0.97232   0.96910   0.97066      4511\n",
      "weighted avg    0.97271   0.97273   0.97269      4511\n",
      " \n",
      "\n",
      "balanced_accuracy_score: 0.9690971805069903 \n",
      "\n",
      "confusion_matrix-true value: \n",
      " [[2841    0]\n",
      " [   0 1670]] \n",
      "\n",
      "confusion_matrix-pred value: \n",
      " [[2793   48]\n",
      " [  75 1595]]\n"
     ]
    }
   ],
   "source": [
    "print('elapsed time for training:',elapsed_training_time_MLP,'\\n')\n",
    "print('elapsed time to make predictions:', elapsed_prediction_time_MLP,'\\n') \n",
    "\n",
    "print('classification_report: \\n', classification_report_MLP,'\\n')\n",
    "print('balanced_accuracy_score:', balanced_accuracy_score_MLP,'\\n')\n",
    "\n",
    "print('confusion_matrix-true value: \\n',confusion_matrix_true_MLP,'\\n')\n",
    "print('confusion_matrix-pred value: \\n',confusion_matrix_pred_MLP)"
   ]
  },
  {
   "cell_type": "markdown",
   "metadata": {},
   "source": [
    "### 2.4. C-Support Vector Classification"
   ]
  },
  {
   "cell_type": "markdown",
   "metadata": {},
   "source": [
    "<b>Support vector machines (SVMs)</b> are a set of supervised learning methods used for classification, regression and outliers detection.\n",
    "\n",
    "Basic *support vector machine* (SVM) is a linear classifier that finds hyperplane in vector space that separates two classes as does *logist regression* (LR). \n",
    "\n",
    "The difference between LR and SVMs is the loss function:\n",
    "\n",
    "- LR uses *log-likelihood* which penalizes points proportionally to probability of incorrect prediction including those on *correct side of hyperplane*\n",
    "- SVM uses <b>*hinge loss*</b> which penalizes points on wrong side of hyperplane or very close to it on correct side\n",
    "\n",
    "The power of SVMs comes from <b>*kernel trick*</b>, that is a mathematical transformation that converts linear decision buondary into non-linear one. \n",
    "\n",
    "\n",
    "##### The advantages of support vector machines are:\n",
    "\n",
    "- Effective in high dimensional spaces.\n",
    "\n",
    "- Still effective in cases where number of dimensions is greater than the number of samples.\n",
    "\n",
    "- Uses a subset of training points in the decision function (called support vectors), so it is also memory efficient.\n",
    "\n",
    "- Versatile: different Kernel functions can be specified for the decision function. \n",
    "\n",
    "##### The disadvantages of support vector machines include:\n",
    "\n",
    "- If the number of features is much greater than the number of samples, avoid over-fitting in choosing Kernel functions and regularization term is crucial.\n",
    "\n",
    "- SVMs do not directly provide probability estimates."
   ]
  },
  {
   "cell_type": "markdown",
   "metadata": {},
   "source": [
    "#### 2.4.1. Linear"
   ]
  },
  {
   "cell_type": "markdown",
   "metadata": {},
   "source": [
    "Training and Prediction:"
   ]
  },
  {
   "cell_type": "code",
   "execution_count": 28,
   "metadata": {
    "scrolled": true
   },
   "outputs": [
    {
     "name": "stdout",
     "output_type": "stream",
     "text": [
      "[LibLinear]Elapsed time to fit the model: 0.42 seconds \n",
      "\n",
      "Elapsed time to make the prediction: 0.01 seconds \n",
      "\n"
     ]
    },
    {
     "name": "stderr",
     "output_type": "stream",
     "text": [
      "C:\\Users\\Utente\\Anaconda3\\lib\\site-packages\\sklearn\\svm\\base.py:929: ConvergenceWarning: Liblinear failed to converge, increase the number of iterations.\n",
      "  \"the number of iterations.\", ConvergenceWarning)\n"
     ]
    }
   ],
   "source": [
    "# start the timer\n",
    "start_time = time.time()\n",
    "#print(time.time())\n",
    "\n",
    "# define the classifier\n",
    "clf_LinearSVC = LinearSVC(verbose=1,penalty='l2',loss='hinge')\n",
    "\n",
    "# train the classifier\n",
    "clf_LinearSVC.fit(X_train, y_train)\n",
    "\n",
    "# stop the timer and print the result\n",
    "elapsed_training_time_LinearSVC = time.time() - start_time\n",
    "print(\"Elapsed time to fit the model: %.2f seconds\" % elapsed_training_time_LinearSVC,'\\n')\n",
    "\n",
    "# start the timer\n",
    "start_time = time.time()\n",
    "\n",
    "# perform the prediction\n",
    "y_pred_LinearSVC = clf_LinearSVC.predict(X_test)\n",
    "\n",
    "# stop the timer and print the result\n",
    "elapsed_prediction_time_LinearSVC = time.time() - start_time\n",
    "print(\"Elapsed time to make the prediction: %.2f seconds\" % elapsed_prediction_time_LinearSVC,'\\n')"
   ]
  },
  {
   "cell_type": "markdown",
   "metadata": {},
   "source": [
    "Creation of variables and print:"
   ]
  },
  {
   "cell_type": "code",
   "execution_count": 29,
   "metadata": {},
   "outputs": [],
   "source": [
    "accuracy_score_LinearSVC = accuracy_score(y_test,y_pred_LinearSVC)\n",
    "\n",
    "classification_report_LinearSVC = classification_report(y_test,y_pred_LinearSVC,digits=5)\n",
    "\n",
    "balanced_accuracy_score_LinearSVC = balanced_accuracy_score(y_test,y_pred_LinearSVC)\n",
    "\n",
    "confusion_matrix_true_LinearSVC = confusion_matrix(y_test, y_test)   \n",
    "\n",
    "confusion_matrix_pred_LinearSVC = confusion_matrix(y_test,y_pred_LinearSVC)"
   ]
  },
  {
   "cell_type": "code",
   "execution_count": 30,
   "metadata": {},
   "outputs": [
    {
     "name": "stdout",
     "output_type": "stream",
     "text": [
      "elapsed time for training: 0.41588640213012695 \n",
      "\n",
      "elapsed time to make predictions: 0.011967658996582031 \n",
      "\n",
      "classification_report: \n",
      "               precision    recall  f1-score   support\n",
      "\n",
      "           B    0.97938   0.98627   0.98281      2841\n",
      "           S    0.97636   0.96467   0.97048      1670\n",
      "\n",
      "    accuracy                        0.97828      4511\n",
      "   macro avg    0.97787   0.97547   0.97665      4511\n",
      "weighted avg    0.97826   0.97828   0.97825      4511\n",
      " \n",
      "\n",
      "balanced_accuracy_score: 0.9754715489822888 \n",
      "\n",
      "confusion_matrix-true value: \n",
      " [[2841    0]\n",
      " [   0 1670]] \n",
      "\n",
      "confusion_matrix-pred value: \n",
      " [[2802   39]\n",
      " [  59 1611]]\n"
     ]
    }
   ],
   "source": [
    "print('elapsed time for training:',elapsed_training_time_LinearSVC,'\\n')\n",
    "print('elapsed time to make predictions:', elapsed_prediction_time_LinearSVC,'\\n') \n",
    "\n",
    "print('classification_report: \\n', classification_report_LinearSVC,'\\n')\n",
    "print('balanced_accuracy_score:', balanced_accuracy_score_LinearSVC,'\\n')\n",
    "\n",
    "print('confusion_matrix-true value: \\n',confusion_matrix_true_LinearSVC,'\\n')\n",
    "print('confusion_matrix-pred value: \\n',confusion_matrix_pred_LinearSVC)"
   ]
  },
  {
   "cell_type": "markdown",
   "metadata": {},
   "source": [
    "#### 2.4.2. Non linear"
   ]
  },
  {
   "cell_type": "markdown",
   "metadata": {},
   "source": [
    "kernel != linear"
   ]
  },
  {
   "cell_type": "markdown",
   "metadata": {},
   "source": [
    "Training and Prediction:"
   ]
  },
  {
   "cell_type": "code",
   "execution_count": 31,
   "metadata": {
    "scrolled": true
   },
   "outputs": [
    {
     "name": "stdout",
     "output_type": "stream",
     "text": [
      "[LibSVM]Elapsed time to fit the model: 5.13 seconds \n",
      "\n",
      "Elapsed time to make the prediction: 1.66 seconds \n",
      "\n"
     ]
    }
   ],
   "source": [
    "# start the timer\n",
    "start_time = time.time()\n",
    "#print(time.time())\n",
    "\n",
    "# define the classifier\n",
    "clf_SVC = SVC(verbose=1,kernel='rbf',gamma='scale',shrinking=True,decision_function_shape='ovr')\n",
    "\n",
    "# train the classifier\n",
    "clf_SVC.fit(X_train, y_train)\n",
    "\n",
    "# stop the timer and print the result\n",
    "elapsed_training_time_SVC = time.time() - start_time\n",
    "print(\"Elapsed time to fit the model: %.2f seconds\" % elapsed_training_time_SVC,'\\n')\n",
    "\n",
    "# start the timer\n",
    "start_time = time.time()\n",
    "\n",
    "# perform the prediction\n",
    "y_pred_SVC = clf_SVC.predict(X_test)\n",
    "\n",
    "# stop the timer and print the result\n",
    "elapsed_prediction_time_SVC = time.time() - start_time\n",
    "print(\"Elapsed time to make the prediction: %.2f seconds\" % elapsed_prediction_time_SVC,'\\n')"
   ]
  },
  {
   "cell_type": "markdown",
   "metadata": {},
   "source": [
    "Creation of variables and print:"
   ]
  },
  {
   "cell_type": "code",
   "execution_count": 32,
   "metadata": {},
   "outputs": [],
   "source": [
    "accuracy_score_SVC = accuracy_score(y_test,y_pred_SVC)\n",
    "\n",
    "classification_report_SVC = classification_report(y_test,y_pred_SVC,digits=5)\n",
    "\n",
    "balanced_accuracy_score_SVC = balanced_accuracy_score(y_test,y_pred_SVC)\n",
    "\n",
    "confusion_matrix_true_SVC = confusion_matrix(y_test, y_test)   \n",
    "\n",
    "confusion_matrix_pred_SVC = confusion_matrix(y_test,y_pred_SVC)"
   ]
  },
  {
   "cell_type": "code",
   "execution_count": 33,
   "metadata": {},
   "outputs": [
    {
     "name": "stdout",
     "output_type": "stream",
     "text": [
      "elapsed time for training: 5.130272388458252 \n",
      "\n",
      "elapsed time to make predictions: 1.658562421798706 \n",
      "\n",
      "classification_report: \n",
      "               precision    recall  f1-score   support\n",
      "\n",
      "           B    0.97813   0.99155   0.98479      2841\n",
      "           S    0.98529   0.96228   0.97364      1670\n",
      "\n",
      "    accuracy                        0.98071      4511\n",
      "   macro avg    0.98171   0.97691   0.97922      4511\n",
      "weighted avg    0.98078   0.98071   0.98067      4511\n",
      " \n",
      "\n",
      "balanced_accuracy_score: 0.976913859714573 \n",
      "\n",
      "confusion_matrix-true value: \n",
      " [[2841    0]\n",
      " [   0 1670]] \n",
      "\n",
      "confusion_matrix-pred value: \n",
      " [[2817   24]\n",
      " [  63 1607]]\n"
     ]
    }
   ],
   "source": [
    "print('elapsed time for training:',elapsed_training_time_SVC,'\\n')\n",
    "print('elapsed time to make predictions:', elapsed_prediction_time_SVC,'\\n') \n",
    "\n",
    "print('classification_report: \\n', classification_report_SVC,'\\n')\n",
    "print('balanced_accuracy_score:', balanced_accuracy_score_SVC,'\\n')\n",
    "\n",
    "print('confusion_matrix-true value: \\n',confusion_matrix_true_SVC,'\\n')\n",
    "print('confusion_matrix-pred value: \\n',confusion_matrix_pred_SVC)"
   ]
  },
  {
   "cell_type": "markdown",
   "metadata": {},
   "source": [
    "## 3. Cross-Validation"
   ]
  },
  {
   "cell_type": "markdown",
   "metadata": {},
   "source": [
    "Now we will use GridSearchCV to conduct an exhaustive search over specified parameter values for an estimator.\n",
    "We will look the result and then choose another set of hyperparameters trying to improve our classifiers' performances."
   ]
  },
  {
   "cell_type": "markdown",
   "metadata": {},
   "source": [
    "### 3.1. DecisionTree"
   ]
  },
  {
   "cell_type": "markdown",
   "metadata": {},
   "source": [
    "With this classifier we are going to store into a dictionary called \"param_grid\" a list of values for all the attributes of the model, in this way we can search for the best parameter for the classifier and use that when we are going to perform the prediction. This should give us the best result possible for all the parameters given. We are also printing which are the best parameter and the score of the classification with these parameters."
   ]
  },
  {
   "cell_type": "code",
   "execution_count": 34,
   "metadata": {
    "scrolled": true
   },
   "outputs": [
    {
     "name": "stdout",
     "output_type": "stream",
     "text": [
      "Fitting 5 folds for each of 80 candidates, totalling 400 fits\n"
     ]
    },
    {
     "name": "stderr",
     "output_type": "stream",
     "text": [
      "[Parallel(n_jobs=1)]: Using backend SequentialBackend with 1 concurrent workers.\n",
      "[Parallel(n_jobs=1)]: Done 400 out of 400 | elapsed:  1.9min finished\n"
     ]
    },
    {
     "name": "stdout",
     "output_type": "stream",
     "text": [
      "Elapsed time to fit the model and compare the hyperparameters: 114.07 seconds \n",
      "\n",
      "searchDT best combination of these hyperparameters is: {'clf__criterion': 'gini', 'clf__max_depth': None, 'clf__max_leaf_nodes': 500, 'clf__splitter': 'best'} \n",
      "\n",
      "searchDT best score for these hyperparameters is: 0.977957244655582 \n",
      "\n",
      "Elapsed time to make preditictions: 0.01 seconds \n",
      "\n"
     ]
    }
   ],
   "source": [
    "start_time = time.time()\n",
    "\n",
    "classifier = DecisionTreeClassifier()\n",
    "\n",
    "pipe = Pipeline(steps=[('clf', classifier)])\n",
    "\n",
    "param_grid = {\n",
    "    'clf__max_leaf_nodes': [100,300,500,700,None],\n",
    "    'clf__max_depth': [100, 300, 500,None],\n",
    "    'clf__splitter' : ['best','random'],\n",
    "    'clf__criterion' : ['gini','entropy']\n",
    "}\n",
    "\n",
    "searchDT = GridSearchCV(pipe, param_grid, iid=False, cv=5, verbose=True, return_train_score=True)\n",
    "searchDT.fit(X_train, y_train)\n",
    "\n",
    "trainedDT = searchDT.best_estimator_.get_params()['clf']\n",
    "\n",
    "elapsed_training_searching_time_trainedDT = time.time() - start_time\n",
    "print(\"Elapsed time to fit the model and compare the hyperparameters: %.2f seconds\" % elapsed_training_searching_time_trainedDT,'\\n')\n",
    "\n",
    "best_params_DT = searchDT.best_params_\n",
    "best_score_DT = searchDT.best_score_\n",
    "\n",
    "print('searchDT best combination of these hyperparameters is:',best_params_DT,'\\n')\n",
    "print('searchDT best score for these hyperparameters is:',best_score_DT,'\\n')\n",
    "\n",
    "start_time = time.time()\n",
    "\n",
    "y_pred_trainedDT = trainedDT.predict(X_test)\n",
    "\n",
    "elapsed_prediction_time_trainedDT = time.time() - start_time\n",
    "print(\"Elapsed time to make preditictions: %.2f seconds\" % elapsed_prediction_time_trainedDT,'\\n')"
   ]
  },
  {
   "cell_type": "markdown",
   "metadata": {},
   "source": [
    "Creation of variables and print:"
   ]
  },
  {
   "cell_type": "code",
   "execution_count": 35,
   "metadata": {},
   "outputs": [],
   "source": [
    "accuracy_score_trainedDT = accuracy_score(y_test,y_pred_trainedDT)\n",
    "\n",
    "classification_report_trainedDT = classification_report(y_test,y_pred_trainedDT,digits=5)\n",
    "\n",
    "balanced_accuracy_score_trainedDT = balanced_accuracy_score(y_test,y_pred_trainedDT)\n",
    "\n",
    "confusion_matrix_true_trainedDT = confusion_matrix(y_test, y_test)   \n",
    "\n",
    "confusion_matrix_pred_trainedDT = confusion_matrix(y_test,y_pred_trainedDT)"
   ]
  },
  {
   "cell_type": "code",
   "execution_count": 36,
   "metadata": {},
   "outputs": [
    {
     "name": "stdout",
     "output_type": "stream",
     "text": [
      "elapsed time for training: 114.07212162017822 \n",
      "\n",
      "elapsed time to make predictions: 0.01096963882446289 \n",
      "\n",
      "classification_report: \n",
      "               precision    recall  f1-score   support\n",
      "\n",
      "           B    0.98121   0.97395   0.97757      2841\n",
      "           S    0.95624   0.96826   0.96221      1670\n",
      "\n",
      "    accuracy                        0.97185      4511\n",
      "   macro avg    0.96872   0.97111   0.96989      4511\n",
      "weighted avg    0.97196   0.97185   0.97188      4511\n",
      " \n",
      "\n",
      "balanced_accuracy_score: 0.9711081532816099 \n",
      "\n",
      "confusion_matrix-true value: \n",
      " [[2841    0]\n",
      " [   0 1670]] \n",
      "\n",
      "confusion_matrix-pred value: \n",
      " [[2767   74]\n",
      " [  53 1617]]\n"
     ]
    }
   ],
   "source": [
    "print('elapsed time for training:',elapsed_training_searching_time_trainedDT,'\\n')\n",
    "print('elapsed time to make predictions:', elapsed_prediction_time_trainedDT,'\\n') \n",
    "\n",
    "print('classification_report: \\n', classification_report_trainedDT,'\\n')\n",
    "print('balanced_accuracy_score:', balanced_accuracy_score_trainedDT,'\\n')\n",
    "\n",
    "print('confusion_matrix-true value: \\n',confusion_matrix_true_trainedDT,'\\n')\n",
    "print('confusion_matrix-pred value: \\n',confusion_matrix_pred_trainedDT)"
   ]
  },
  {
   "cell_type": "markdown",
   "metadata": {},
   "source": [
    "Here we are looking for the first 40 features (columns) of the dataframe, the order is based on their importance for the classifier. We are also creating a new variable (as an array) that only contains these columns."
   ]
  },
  {
   "cell_type": "code",
   "execution_count": 37,
   "metadata": {},
   "outputs": [],
   "source": [
    "sort_importances = np.argsort(trainedDT.feature_importances_)\n",
    "top_40_features_DT = sort_importances[0:40]"
   ]
  },
  {
   "cell_type": "code",
   "execution_count": 38,
   "metadata": {},
   "outputs": [
    {
     "data": {
      "text/plain": [
       "array([107, 135,  67, 137,  65, 141, 142, 143, 146, 134, 110, 156, 157,\n",
       "       158,  49, 159, 160, 161, 162, 155, 163,  71, 131, 111, 106, 113,\n",
       "       104, 102, 114,  97, 118,  74, 119,  90,  89,  88,  83, 125, 126,\n",
       "        78], dtype=int64)"
      ]
     },
     "execution_count": 38,
     "metadata": {},
     "output_type": "execute_result"
    }
   ],
   "source": [
    "top_40_features_DT"
   ]
  },
  {
   "cell_type": "code",
   "execution_count": 39,
   "metadata": {},
   "outputs": [
    {
     "data": {
      "text/plain": [
       "Index(['MASTER_CLEAR', 'WRITE_SOCIAL_STREAM', 'READ_PROFILE', 'REBOOT',\n",
       "       'BIND_REMOTEVIEWS', 'MessengerService', 'BIND_DEVICE_ADMIN',\n",
       "       'WRITE_GSERVICES', 'SET_ALARM', 'android.intent.action.SENDTO',\n",
       "       'WRITE_CALL_LOG', 'android.intent.action.SCREEN_ON',\n",
       "       'Context.bindService', 'RECEIVE_MMS', 'WRITE_SYNC_SETTINGS',\n",
       "       'SET_TIME_ZONE', 'android.intent.action.BATTERY_OKAY',\n",
       "       'CONTROL_LOCATION_UPDATES', 'BROADCAST_WAP_PUSH', 'Process.start',\n",
       "       'BIND_ACCESSIBILITY_SERVICE', 'READ_SYNC_STATS', 'BATTERY_STATS',\n",
       "       'DELETE_PACKAGES', 'android.intent.action.PACKAGE_DATA_CLEARED',\n",
       "       'GLOBAL_SEARCH', 'CHANGE_WIFI_MULTICAST_STATE', 'SUBSCRIBED_FEEDS_READ',\n",
       "       'DELETE_CACHE_FILES', 'sendDataMessage', 'REORDER_TASKS',\n",
       "       'android.intent.action.TIMEZONE_CHANGED', 'WRITE_PROFILE',\n",
       "       'SUBSCRIBED_FEEDS_WRITE', 'READ_CALL_LOG', 'READ_CALENDAR',\n",
       "       'PathClassLoader', 'PROCESS_OUTGOING_CALLS', 'CALL_PRIVILEGED',\n",
       "       'Ljava.lang.Class.getPackage'],\n",
       "      dtype='object')"
      ]
     },
     "execution_count": 39,
     "metadata": {},
     "output_type": "execute_result"
    }
   ],
   "source": [
    "X_train.columns[top_40_features_DT]"
   ]
  },
  {
   "cell_type": "markdown",
   "metadata": {},
   "source": [
    "### 3.2. RandomForest"
   ]
  },
  {
   "cell_type": "markdown",
   "metadata": {},
   "source": [
    "<b> WARNING: Requires around 14 mins to train and predict </b>"
   ]
  },
  {
   "cell_type": "markdown",
   "metadata": {},
   "source": [
    "Training and Prediction searching for best hyperparameters:"
   ]
  },
  {
   "cell_type": "code",
   "execution_count": 40,
   "metadata": {},
   "outputs": [
    {
     "name": "stdout",
     "output_type": "stream",
     "text": [
      "Fitting 5 folds for each of 48 candidates, totalling 240 fits\n"
     ]
    },
    {
     "name": "stderr",
     "output_type": "stream",
     "text": [
      "[Parallel(n_jobs=1)]: Using backend SequentialBackend with 1 concurrent workers.\n",
      "[Parallel(n_jobs=1)]: Done 240 out of 240 | elapsed: 18.2min finished\n"
     ]
    },
    {
     "name": "stdout",
     "output_type": "stream",
     "text": [
      "Elapsed time to fit the model and compare the hyperparameters: 1092.44 seconds \n",
      "\n",
      "searchRF best combination of these hyperparameters is: {'clf__criterion': 'gini', 'clf__max_depth': None, 'clf__max_leaf_nodes': None, 'clf__n_estimators': 100} \n",
      "\n",
      "searchRF best score for these hyperparameters is: 0.9879334916864607 \n",
      "\n",
      "Elapsed time to make preditictions: 0.16 seconds \n",
      "\n"
     ]
    }
   ],
   "source": [
    "start_time = time.time()\n",
    "\n",
    "classifier = RandomForestClassifier(verbose=False)\n",
    "\n",
    "pipe = Pipeline(steps=[('clf', classifier)])\n",
    "\n",
    "param_grid = {\n",
    "    'clf__n_estimators': [100,200,400],\n",
    "    'clf__max_depth': [85,170,340,None],\n",
    "    'clf__max_leaf_nodes' : [1000,None],\n",
    "    'clf__criterion' : ['gini','entropy']\n",
    "}\n",
    "\n",
    "searchRF = GridSearchCV(pipe, param_grid, iid=False, cv=5, verbose=True, return_train_score=True)\n",
    "searchRF.fit(X_train, y_train)\n",
    "\n",
    "trainedRF = searchRF.best_estimator_.get_params()['clf']\n",
    "\n",
    "elapsed_training_searching_time_trainedRF = time.time() - start_time\n",
    "print(\"Elapsed time to fit the model and compare the hyperparameters: %.2f seconds\" % elapsed_training_searching_time_trainedRF,'\\n')\n",
    "\n",
    "best_params_RF = searchRF.best_params_\n",
    "best_score_RF = searchRF.best_score_\n",
    "\n",
    "print('searchRF best combination of these hyperparameters is:',best_params_RF,'\\n')\n",
    "print('searchRF best score for these hyperparameters is:',best_score_RF,'\\n')\n",
    "\n",
    "start_time = time.time()\n",
    "\n",
    "y_pred_trainedRF = trainedRF.predict(X_test)\n",
    "\n",
    "elapsed_prediction_time_trainedRF = time.time() - start_time\n",
    "print(\"Elapsed time to make preditictions: %.2f seconds\" % elapsed_prediction_time_trainedRF,'\\n')"
   ]
  },
  {
   "cell_type": "markdown",
   "metadata": {},
   "source": [
    "Creation of variables and print:"
   ]
  },
  {
   "cell_type": "code",
   "execution_count": 41,
   "metadata": {},
   "outputs": [],
   "source": [
    "accuracy_score_trainedRF = accuracy_score(y_test,y_pred_trainedRF)\n",
    "\n",
    "classification_report_trainedRF = classification_report(y_test,y_pred_trainedRF,digits=5)\n",
    "\n",
    "balanced_accuracy_score_trainedRF = balanced_accuracy_score(y_test,y_pred_trainedRF)\n",
    "\n",
    "confusion_matrix_true_trainedRF = confusion_matrix(y_test, y_test)   \n",
    "\n",
    "confusion_matrix_pred_trainedRF = confusion_matrix(y_test,y_pred_trainedRF)"
   ]
  },
  {
   "cell_type": "code",
   "execution_count": 42,
   "metadata": {},
   "outputs": [
    {
     "name": "stdout",
     "output_type": "stream",
     "text": [
      "elapsed time for training: 1092.4386422634125 \n",
      "\n",
      "elapsed time to make predictions: 0.15857672691345215 \n",
      "\n",
      "classification_report: \n",
      "               precision    recall  f1-score   support\n",
      "\n",
      "           B    0.98193   0.99472   0.98828      2841\n",
      "           S    0.99081   0.96886   0.97972      1670\n",
      "\n",
      "    accuracy                        0.98515      4511\n",
      "   macro avg    0.98637   0.98179   0.98400      4511\n",
      "weighted avg    0.98522   0.98515   0.98511      4511\n",
      " \n",
      "\n",
      "balanced_accuracy_score: 0.9817912222018477 \n",
      "\n",
      "confusion_matrix-true value: \n",
      " [[2841    0]\n",
      " [   0 1670]] \n",
      "\n",
      "confusion_matrix-pred value: \n",
      " [[2826   15]\n",
      " [  52 1618]]\n"
     ]
    }
   ],
   "source": [
    "print('elapsed time for training:',elapsed_training_searching_time_trainedRF,'\\n')\n",
    "print('elapsed time to make predictions:', elapsed_prediction_time_trainedRF,'\\n')\n",
    "\n",
    "print('classification_report: \\n', classification_report_trainedRF,'\\n')\n",
    "print('balanced_accuracy_score:', balanced_accuracy_score_trainedRF,'\\n')\n",
    "\n",
    "print('confusion_matrix-true value: \\n',confusion_matrix_true_trainedRF,'\\n')\n",
    "print('confusion_matrix-pred value: \\n',confusion_matrix_pred_trainedRF)"
   ]
  },
  {
   "cell_type": "markdown",
   "metadata": {},
   "source": [
    " "
   ]
  },
  {
   "cell_type": "markdown",
   "metadata": {},
   "source": [
    "Searching for the most important features:"
   ]
  },
  {
   "cell_type": "code",
   "execution_count": 43,
   "metadata": {},
   "outputs": [],
   "source": [
    "sort_importances = np.argsort(trainedRF.feature_importances_)\n",
    "top_40_features_RF = sort_importances[0:40]"
   ]
  },
  {
   "cell_type": "code",
   "execution_count": 44,
   "metadata": {},
   "outputs": [
    {
     "data": {
      "text/plain": [
       "array([175, 123, 197, 135, 155, 157, 141, 189, 119, 181, 194, 184, 176,\n",
       "       192, 163, 177, 118, 164,  90, 172, 159, 149, 147, 106, 115, 102,\n",
       "       193, 204, 130, 167, 133, 187, 185, 134, 161, 124, 113, 160, 178,\n",
       "       173], dtype=int64)"
      ]
     },
     "execution_count": 44,
     "metadata": {},
     "output_type": "execute_result"
    }
   ],
   "source": [
    "top_40_features_RF"
   ]
  },
  {
   "cell_type": "code",
   "execution_count": 45,
   "metadata": {},
   "outputs": [
    {
     "data": {
      "text/plain": [
       "Index(['BIND_TEXT_SERVICE', 'READ_SOCIAL_STREAM', 'BIND_VPN_SERVICE',\n",
       "       'WRITE_SOCIAL_STREAM', 'Process.start', 'Context.bindService',\n",
       "       'MessengerService', 'Runtime.loadLibrary', 'WRITE_PROFILE',\n",
       "       'MOUNT_FORMAT_FILESYSTEMS', 'SET_ACTIVITY_WATCHER', 'intent.action.RUN',\n",
       "       'INSTALL_LOCATION_PROVIDER', 'INTERNAL_SYSTEM_WINDOW',\n",
       "       'BIND_ACCESSIBILITY_SERVICE', 'android.intent.action.CALL_BUTTON',\n",
       "       'REORDER_TASKS', 'ADD_VOICEMAIL', 'SUBSCRIBED_FEEDS_WRITE',\n",
       "       'SET_PROCESS_LIMIT', 'SET_TIME_ZONE', 'android.intent.action.CALL',\n",
       "       'ACCOUNT_MANAGER', 'android.intent.action.PACKAGE_DATA_CLEARED',\n",
       "       'WRITE_USER_DICTIONARY', 'SUBSCRIBED_FEEDS_READ',\n",
       "       'android.intent.action.BATTERY_LOW', 'SET_ORIENTATION', 'DUMP',\n",
       "       'BIND_APPWIDGET', 'SET_TIME', 'READ_FRAME_BUFFER',\n",
       "       'android.intent.action.SET_WALLPAPER', 'android.intent.action.SENDTO',\n",
       "       'CONTROL_LOCATION_UPDATES', 'READ_USER_DICTIONARY', 'GLOBAL_SEARCH',\n",
       "       'android.intent.action.BATTERY_OKAY',\n",
       "       'android.intent.action.SCREEN_OFF',\n",
       "       'android.intent.action.PACKAGE_RESTARTED'],\n",
       "      dtype='object')"
      ]
     },
     "execution_count": 45,
     "metadata": {},
     "output_type": "execute_result"
    }
   ],
   "source": [
    "X_train.columns[top_40_features_RF]"
   ]
  },
  {
   "cell_type": "markdown",
   "metadata": {},
   "source": [
    "### 3.3. Multi-Layer Perceptron"
   ]
  },
  {
   "cell_type": "markdown",
   "metadata": {},
   "source": [
    "<b> WARNING: Requires around 43 mins to train and predict </b>"
   ]
  },
  {
   "cell_type": "markdown",
   "metadata": {},
   "source": [
    "Training and Prediction searching for best hyperparameters:"
   ]
  },
  {
   "cell_type": "code",
   "execution_count": 46,
   "metadata": {
    "scrolled": false
   },
   "outputs": [
    {
     "name": "stderr",
     "output_type": "stream",
     "text": [
      "C:\\Users\\Utente\\Anaconda3\\lib\\site-packages\\sklearn\\neural_network\\multilayer_perceptron.py:566: ConvergenceWarning: Stochastic Optimizer: Maximum iterations (200) reached and the optimization hasn't converged yet.\n",
      "  % self.max_iter, ConvergenceWarning)\n",
      "C:\\Users\\Utente\\Anaconda3\\lib\\site-packages\\sklearn\\neural_network\\multilayer_perceptron.py:566: ConvergenceWarning: Stochastic Optimizer: Maximum iterations (200) reached and the optimization hasn't converged yet.\n",
      "  % self.max_iter, ConvergenceWarning)\n",
      "C:\\Users\\Utente\\Anaconda3\\lib\\site-packages\\sklearn\\neural_network\\multilayer_perceptron.py:566: ConvergenceWarning: Stochastic Optimizer: Maximum iterations (200) reached and the optimization hasn't converged yet.\n",
      "  % self.max_iter, ConvergenceWarning)\n",
      "C:\\Users\\Utente\\Anaconda3\\lib\\site-packages\\sklearn\\neural_network\\multilayer_perceptron.py:566: ConvergenceWarning: Stochastic Optimizer: Maximum iterations (200) reached and the optimization hasn't converged yet.\n",
      "  % self.max_iter, ConvergenceWarning)\n",
      "C:\\Users\\Utente\\Anaconda3\\lib\\site-packages\\sklearn\\neural_network\\multilayer_perceptron.py:566: ConvergenceWarning: Stochastic Optimizer: Maximum iterations (200) reached and the optimization hasn't converged yet.\n",
      "  % self.max_iter, ConvergenceWarning)\n",
      "C:\\Users\\Utente\\Anaconda3\\lib\\site-packages\\sklearn\\neural_network\\multilayer_perceptron.py:566: ConvergenceWarning: Stochastic Optimizer: Maximum iterations (200) reached and the optimization hasn't converged yet.\n",
      "  % self.max_iter, ConvergenceWarning)\n",
      "C:\\Users\\Utente\\Anaconda3\\lib\\site-packages\\sklearn\\neural_network\\multilayer_perceptron.py:566: ConvergenceWarning: Stochastic Optimizer: Maximum iterations (200) reached and the optimization hasn't converged yet.\n",
      "  % self.max_iter, ConvergenceWarning)\n",
      "C:\\Users\\Utente\\Anaconda3\\lib\\site-packages\\sklearn\\neural_network\\multilayer_perceptron.py:566: ConvergenceWarning: Stochastic Optimizer: Maximum iterations (200) reached and the optimization hasn't converged yet.\n",
      "  % self.max_iter, ConvergenceWarning)\n",
      "C:\\Users\\Utente\\Anaconda3\\lib\\site-packages\\sklearn\\neural_network\\multilayer_perceptron.py:566: ConvergenceWarning: Stochastic Optimizer: Maximum iterations (200) reached and the optimization hasn't converged yet.\n",
      "  % self.max_iter, ConvergenceWarning)\n",
      "C:\\Users\\Utente\\Anaconda3\\lib\\site-packages\\sklearn\\neural_network\\multilayer_perceptron.py:566: ConvergenceWarning: Stochastic Optimizer: Maximum iterations (200) reached and the optimization hasn't converged yet.\n",
      "  % self.max_iter, ConvergenceWarning)\n",
      "C:\\Users\\Utente\\Anaconda3\\lib\\site-packages\\sklearn\\neural_network\\multilayer_perceptron.py:566: ConvergenceWarning: Stochastic Optimizer: Maximum iterations (200) reached and the optimization hasn't converged yet.\n",
      "  % self.max_iter, ConvergenceWarning)\n",
      "C:\\Users\\Utente\\Anaconda3\\lib\\site-packages\\sklearn\\neural_network\\multilayer_perceptron.py:566: ConvergenceWarning: Stochastic Optimizer: Maximum iterations (200) reached and the optimization hasn't converged yet.\n",
      "  % self.max_iter, ConvergenceWarning)\n",
      "C:\\Users\\Utente\\Anaconda3\\lib\\site-packages\\sklearn\\neural_network\\multilayer_perceptron.py:566: ConvergenceWarning: Stochastic Optimizer: Maximum iterations (200) reached and the optimization hasn't converged yet.\n",
      "  % self.max_iter, ConvergenceWarning)\n",
      "C:\\Users\\Utente\\Anaconda3\\lib\\site-packages\\sklearn\\neural_network\\multilayer_perceptron.py:566: ConvergenceWarning: Stochastic Optimizer: Maximum iterations (200) reached and the optimization hasn't converged yet.\n",
      "  % self.max_iter, ConvergenceWarning)\n",
      "C:\\Users\\Utente\\Anaconda3\\lib\\site-packages\\sklearn\\neural_network\\multilayer_perceptron.py:566: ConvergenceWarning: Stochastic Optimizer: Maximum iterations (200) reached and the optimization hasn't converged yet.\n",
      "  % self.max_iter, ConvergenceWarning)\n",
      "C:\\Users\\Utente\\Anaconda3\\lib\\site-packages\\sklearn\\neural_network\\multilayer_perceptron.py:566: ConvergenceWarning: Stochastic Optimizer: Maximum iterations (200) reached and the optimization hasn't converged yet.\n",
      "  % self.max_iter, ConvergenceWarning)\n",
      "C:\\Users\\Utente\\Anaconda3\\lib\\site-packages\\sklearn\\neural_network\\multilayer_perceptron.py:566: ConvergenceWarning: Stochastic Optimizer: Maximum iterations (200) reached and the optimization hasn't converged yet.\n",
      "  % self.max_iter, ConvergenceWarning)\n",
      "C:\\Users\\Utente\\Anaconda3\\lib\\site-packages\\sklearn\\neural_network\\multilayer_perceptron.py:566: ConvergenceWarning: Stochastic Optimizer: Maximum iterations (200) reached and the optimization hasn't converged yet.\n",
      "  % self.max_iter, ConvergenceWarning)\n",
      "C:\\Users\\Utente\\Anaconda3\\lib\\site-packages\\sklearn\\neural_network\\multilayer_perceptron.py:566: ConvergenceWarning: Stochastic Optimizer: Maximum iterations (200) reached and the optimization hasn't converged yet.\n",
      "  % self.max_iter, ConvergenceWarning)\n",
      "C:\\Users\\Utente\\Anaconda3\\lib\\site-packages\\sklearn\\neural_network\\multilayer_perceptron.py:566: ConvergenceWarning: Stochastic Optimizer: Maximum iterations (200) reached and the optimization hasn't converged yet.\n",
      "  % self.max_iter, ConvergenceWarning)\n",
      "C:\\Users\\Utente\\Anaconda3\\lib\\site-packages\\sklearn\\neural_network\\multilayer_perceptron.py:566: ConvergenceWarning: Stochastic Optimizer: Maximum iterations (200) reached and the optimization hasn't converged yet.\n",
      "  % self.max_iter, ConvergenceWarning)\n",
      "C:\\Users\\Utente\\Anaconda3\\lib\\site-packages\\sklearn\\neural_network\\multilayer_perceptron.py:566: ConvergenceWarning: Stochastic Optimizer: Maximum iterations (200) reached and the optimization hasn't converged yet.\n",
      "  % self.max_iter, ConvergenceWarning)\n",
      "C:\\Users\\Utente\\Anaconda3\\lib\\site-packages\\sklearn\\neural_network\\multilayer_perceptron.py:566: ConvergenceWarning: Stochastic Optimizer: Maximum iterations (200) reached and the optimization hasn't converged yet.\n",
      "  % self.max_iter, ConvergenceWarning)\n",
      "C:\\Users\\Utente\\Anaconda3\\lib\\site-packages\\sklearn\\neural_network\\multilayer_perceptron.py:566: ConvergenceWarning: Stochastic Optimizer: Maximum iterations (200) reached and the optimization hasn't converged yet.\n",
      "  % self.max_iter, ConvergenceWarning)\n",
      "C:\\Users\\Utente\\Anaconda3\\lib\\site-packages\\sklearn\\neural_network\\multilayer_perceptron.py:566: ConvergenceWarning: Stochastic Optimizer: Maximum iterations (200) reached and the optimization hasn't converged yet.\n",
      "  % self.max_iter, ConvergenceWarning)\n",
      "C:\\Users\\Utente\\Anaconda3\\lib\\site-packages\\sklearn\\neural_network\\multilayer_perceptron.py:566: ConvergenceWarning: Stochastic Optimizer: Maximum iterations (200) reached and the optimization hasn't converged yet.\n",
      "  % self.max_iter, ConvergenceWarning)\n",
      "C:\\Users\\Utente\\Anaconda3\\lib\\site-packages\\sklearn\\neural_network\\multilayer_perceptron.py:566: ConvergenceWarning: Stochastic Optimizer: Maximum iterations (200) reached and the optimization hasn't converged yet.\n",
      "  % self.max_iter, ConvergenceWarning)\n",
      "C:\\Users\\Utente\\Anaconda3\\lib\\site-packages\\sklearn\\neural_network\\multilayer_perceptron.py:566: ConvergenceWarning: Stochastic Optimizer: Maximum iterations (200) reached and the optimization hasn't converged yet.\n",
      "  % self.max_iter, ConvergenceWarning)\n",
      "C:\\Users\\Utente\\Anaconda3\\lib\\site-packages\\sklearn\\neural_network\\multilayer_perceptron.py:566: ConvergenceWarning: Stochastic Optimizer: Maximum iterations (200) reached and the optimization hasn't converged yet.\n",
      "  % self.max_iter, ConvergenceWarning)\n",
      "C:\\Users\\Utente\\Anaconda3\\lib\\site-packages\\sklearn\\neural_network\\multilayer_perceptron.py:566: ConvergenceWarning: Stochastic Optimizer: Maximum iterations (200) reached and the optimization hasn't converged yet.\n",
      "  % self.max_iter, ConvergenceWarning)\n",
      "C:\\Users\\Utente\\Anaconda3\\lib\\site-packages\\sklearn\\neural_network\\multilayer_perceptron.py:566: ConvergenceWarning: Stochastic Optimizer: Maximum iterations (200) reached and the optimization hasn't converged yet.\n",
      "  % self.max_iter, ConvergenceWarning)\n",
      "C:\\Users\\Utente\\Anaconda3\\lib\\site-packages\\sklearn\\neural_network\\multilayer_perceptron.py:566: ConvergenceWarning: Stochastic Optimizer: Maximum iterations (200) reached and the optimization hasn't converged yet.\n",
      "  % self.max_iter, ConvergenceWarning)\n",
      "C:\\Users\\Utente\\Anaconda3\\lib\\site-packages\\sklearn\\neural_network\\multilayer_perceptron.py:566: ConvergenceWarning: Stochastic Optimizer: Maximum iterations (200) reached and the optimization hasn't converged yet.\n",
      "  % self.max_iter, ConvergenceWarning)\n"
     ]
    },
    {
     "name": "stderr",
     "output_type": "stream",
     "text": [
      "C:\\Users\\Utente\\Anaconda3\\lib\\site-packages\\sklearn\\neural_network\\multilayer_perceptron.py:566: ConvergenceWarning: Stochastic Optimizer: Maximum iterations (200) reached and the optimization hasn't converged yet.\n",
      "  % self.max_iter, ConvergenceWarning)\n",
      "C:\\Users\\Utente\\Anaconda3\\lib\\site-packages\\sklearn\\neural_network\\multilayer_perceptron.py:566: ConvergenceWarning: Stochastic Optimizer: Maximum iterations (200) reached and the optimization hasn't converged yet.\n",
      "  % self.max_iter, ConvergenceWarning)\n",
      "C:\\Users\\Utente\\Anaconda3\\lib\\site-packages\\sklearn\\neural_network\\multilayer_perceptron.py:566: ConvergenceWarning: Stochastic Optimizer: Maximum iterations (200) reached and the optimization hasn't converged yet.\n",
      "  % self.max_iter, ConvergenceWarning)\n",
      "C:\\Users\\Utente\\Anaconda3\\lib\\site-packages\\sklearn\\neural_network\\multilayer_perceptron.py:566: ConvergenceWarning: Stochastic Optimizer: Maximum iterations (200) reached and the optimization hasn't converged yet.\n",
      "  % self.max_iter, ConvergenceWarning)\n",
      "C:\\Users\\Utente\\Anaconda3\\lib\\site-packages\\sklearn\\neural_network\\multilayer_perceptron.py:566: ConvergenceWarning: Stochastic Optimizer: Maximum iterations (200) reached and the optimization hasn't converged yet.\n",
      "  % self.max_iter, ConvergenceWarning)\n",
      "C:\\Users\\Utente\\Anaconda3\\lib\\site-packages\\sklearn\\neural_network\\multilayer_perceptron.py:566: ConvergenceWarning: Stochastic Optimizer: Maximum iterations (200) reached and the optimization hasn't converged yet.\n",
      "  % self.max_iter, ConvergenceWarning)\n",
      "C:\\Users\\Utente\\Anaconda3\\lib\\site-packages\\sklearn\\neural_network\\multilayer_perceptron.py:566: ConvergenceWarning: Stochastic Optimizer: Maximum iterations (200) reached and the optimization hasn't converged yet.\n",
      "  % self.max_iter, ConvergenceWarning)\n",
      "C:\\Users\\Utente\\Anaconda3\\lib\\site-packages\\sklearn\\neural_network\\multilayer_perceptron.py:566: ConvergenceWarning: Stochastic Optimizer: Maximum iterations (200) reached and the optimization hasn't converged yet.\n",
      "  % self.max_iter, ConvergenceWarning)\n",
      "C:\\Users\\Utente\\Anaconda3\\lib\\site-packages\\sklearn\\neural_network\\multilayer_perceptron.py:566: ConvergenceWarning: Stochastic Optimizer: Maximum iterations (200) reached and the optimization hasn't converged yet.\n",
      "  % self.max_iter, ConvergenceWarning)\n",
      "C:\\Users\\Utente\\Anaconda3\\lib\\site-packages\\sklearn\\neural_network\\multilayer_perceptron.py:566: ConvergenceWarning: Stochastic Optimizer: Maximum iterations (200) reached and the optimization hasn't converged yet.\n",
      "  % self.max_iter, ConvergenceWarning)\n",
      "C:\\Users\\Utente\\Anaconda3\\lib\\site-packages\\sklearn\\neural_network\\multilayer_perceptron.py:566: ConvergenceWarning: Stochastic Optimizer: Maximum iterations (200) reached and the optimization hasn't converged yet.\n",
      "  % self.max_iter, ConvergenceWarning)\n",
      "C:\\Users\\Utente\\Anaconda3\\lib\\site-packages\\sklearn\\neural_network\\multilayer_perceptron.py:566: ConvergenceWarning: Stochastic Optimizer: Maximum iterations (200) reached and the optimization hasn't converged yet.\n",
      "  % self.max_iter, ConvergenceWarning)\n",
      "C:\\Users\\Utente\\Anaconda3\\lib\\site-packages\\sklearn\\neural_network\\multilayer_perceptron.py:566: ConvergenceWarning: Stochastic Optimizer: Maximum iterations (200) reached and the optimization hasn't converged yet.\n",
      "  % self.max_iter, ConvergenceWarning)\n",
      "C:\\Users\\Utente\\Anaconda3\\lib\\site-packages\\sklearn\\neural_network\\multilayer_perceptron.py:566: ConvergenceWarning: Stochastic Optimizer: Maximum iterations (200) reached and the optimization hasn't converged yet.\n",
      "  % self.max_iter, ConvergenceWarning)\n",
      "C:\\Users\\Utente\\Anaconda3\\lib\\site-packages\\sklearn\\neural_network\\multilayer_perceptron.py:566: ConvergenceWarning: Stochastic Optimizer: Maximum iterations (200) reached and the optimization hasn't converged yet.\n",
      "  % self.max_iter, ConvergenceWarning)\n",
      "C:\\Users\\Utente\\Anaconda3\\lib\\site-packages\\sklearn\\neural_network\\multilayer_perceptron.py:566: ConvergenceWarning: Stochastic Optimizer: Maximum iterations (200) reached and the optimization hasn't converged yet.\n",
      "  % self.max_iter, ConvergenceWarning)\n",
      "C:\\Users\\Utente\\Anaconda3\\lib\\site-packages\\sklearn\\neural_network\\multilayer_perceptron.py:566: ConvergenceWarning: Stochastic Optimizer: Maximum iterations (200) reached and the optimization hasn't converged yet.\n",
      "  % self.max_iter, ConvergenceWarning)\n",
      "C:\\Users\\Utente\\Anaconda3\\lib\\site-packages\\sklearn\\neural_network\\multilayer_perceptron.py:566: ConvergenceWarning: Stochastic Optimizer: Maximum iterations (200) reached and the optimization hasn't converged yet.\n",
      "  % self.max_iter, ConvergenceWarning)\n",
      "C:\\Users\\Utente\\Anaconda3\\lib\\site-packages\\sklearn\\neural_network\\multilayer_perceptron.py:566: ConvergenceWarning: Stochastic Optimizer: Maximum iterations (200) reached and the optimization hasn't converged yet.\n",
      "  % self.max_iter, ConvergenceWarning)\n",
      "C:\\Users\\Utente\\Anaconda3\\lib\\site-packages\\sklearn\\neural_network\\multilayer_perceptron.py:566: ConvergenceWarning: Stochastic Optimizer: Maximum iterations (200) reached and the optimization hasn't converged yet.\n",
      "  % self.max_iter, ConvergenceWarning)\n",
      "C:\\Users\\Utente\\Anaconda3\\lib\\site-packages\\sklearn\\neural_network\\multilayer_perceptron.py:566: ConvergenceWarning: Stochastic Optimizer: Maximum iterations (200) reached and the optimization hasn't converged yet.\n",
      "  % self.max_iter, ConvergenceWarning)\n",
      "C:\\Users\\Utente\\Anaconda3\\lib\\site-packages\\sklearn\\neural_network\\multilayer_perceptron.py:566: ConvergenceWarning: Stochastic Optimizer: Maximum iterations (200) reached and the optimization hasn't converged yet.\n",
      "  % self.max_iter, ConvergenceWarning)\n",
      "C:\\Users\\Utente\\Anaconda3\\lib\\site-packages\\sklearn\\neural_network\\multilayer_perceptron.py:566: ConvergenceWarning: Stochastic Optimizer: Maximum iterations (200) reached and the optimization hasn't converged yet.\n",
      "  % self.max_iter, ConvergenceWarning)\n",
      "C:\\Users\\Utente\\Anaconda3\\lib\\site-packages\\sklearn\\neural_network\\multilayer_perceptron.py:566: ConvergenceWarning: Stochastic Optimizer: Maximum iterations (200) reached and the optimization hasn't converged yet.\n",
      "  % self.max_iter, ConvergenceWarning)\n",
      "C:\\Users\\Utente\\Anaconda3\\lib\\site-packages\\sklearn\\neural_network\\multilayer_perceptron.py:566: ConvergenceWarning: Stochastic Optimizer: Maximum iterations (200) reached and the optimization hasn't converged yet.\n",
      "  % self.max_iter, ConvergenceWarning)\n",
      "C:\\Users\\Utente\\Anaconda3\\lib\\site-packages\\sklearn\\neural_network\\multilayer_perceptron.py:566: ConvergenceWarning: Stochastic Optimizer: Maximum iterations (200) reached and the optimization hasn't converged yet.\n",
      "  % self.max_iter, ConvergenceWarning)\n",
      "C:\\Users\\Utente\\Anaconda3\\lib\\site-packages\\sklearn\\neural_network\\multilayer_perceptron.py:566: ConvergenceWarning: Stochastic Optimizer: Maximum iterations (200) reached and the optimization hasn't converged yet.\n",
      "  % self.max_iter, ConvergenceWarning)\n",
      "C:\\Users\\Utente\\Anaconda3\\lib\\site-packages\\sklearn\\neural_network\\multilayer_perceptron.py:566: ConvergenceWarning: Stochastic Optimizer: Maximum iterations (200) reached and the optimization hasn't converged yet.\n",
      "  % self.max_iter, ConvergenceWarning)\n",
      "C:\\Users\\Utente\\Anaconda3\\lib\\site-packages\\sklearn\\neural_network\\multilayer_perceptron.py:566: ConvergenceWarning: Stochastic Optimizer: Maximum iterations (200) reached and the optimization hasn't converged yet.\n",
      "  % self.max_iter, ConvergenceWarning)\n",
      "C:\\Users\\Utente\\Anaconda3\\lib\\site-packages\\sklearn\\neural_network\\multilayer_perceptron.py:566: ConvergenceWarning: Stochastic Optimizer: Maximum iterations (200) reached and the optimization hasn't converged yet.\n",
      "  % self.max_iter, ConvergenceWarning)\n",
      "C:\\Users\\Utente\\Anaconda3\\lib\\site-packages\\sklearn\\neural_network\\multilayer_perceptron.py:566: ConvergenceWarning: Stochastic Optimizer: Maximum iterations (200) reached and the optimization hasn't converged yet.\n",
      "  % self.max_iter, ConvergenceWarning)\n",
      "C:\\Users\\Utente\\Anaconda3\\lib\\site-packages\\sklearn\\neural_network\\multilayer_perceptron.py:566: ConvergenceWarning: Stochastic Optimizer: Maximum iterations (200) reached and the optimization hasn't converged yet.\n",
      "  % self.max_iter, ConvergenceWarning)\n",
      "C:\\Users\\Utente\\Anaconda3\\lib\\site-packages\\sklearn\\neural_network\\multilayer_perceptron.py:566: ConvergenceWarning: Stochastic Optimizer: Maximum iterations (200) reached and the optimization hasn't converged yet.\n",
      "  % self.max_iter, ConvergenceWarning)\n"
     ]
    },
    {
     "name": "stderr",
     "output_type": "stream",
     "text": [
      "C:\\Users\\Utente\\Anaconda3\\lib\\site-packages\\sklearn\\neural_network\\multilayer_perceptron.py:566: ConvergenceWarning: Stochastic Optimizer: Maximum iterations (200) reached and the optimization hasn't converged yet.\n",
      "  % self.max_iter, ConvergenceWarning)\n",
      "C:\\Users\\Utente\\Anaconda3\\lib\\site-packages\\sklearn\\neural_network\\multilayer_perceptron.py:566: ConvergenceWarning: Stochastic Optimizer: Maximum iterations (200) reached and the optimization hasn't converged yet.\n",
      "  % self.max_iter, ConvergenceWarning)\n",
      "C:\\Users\\Utente\\Anaconda3\\lib\\site-packages\\sklearn\\neural_network\\multilayer_perceptron.py:566: ConvergenceWarning: Stochastic Optimizer: Maximum iterations (200) reached and the optimization hasn't converged yet.\n",
      "  % self.max_iter, ConvergenceWarning)\n",
      "C:\\Users\\Utente\\Anaconda3\\lib\\site-packages\\sklearn\\neural_network\\multilayer_perceptron.py:566: ConvergenceWarning: Stochastic Optimizer: Maximum iterations (200) reached and the optimization hasn't converged yet.\n",
      "  % self.max_iter, ConvergenceWarning)\n",
      "C:\\Users\\Utente\\Anaconda3\\lib\\site-packages\\sklearn\\neural_network\\multilayer_perceptron.py:566: ConvergenceWarning: Stochastic Optimizer: Maximum iterations (200) reached and the optimization hasn't converged yet.\n",
      "  % self.max_iter, ConvergenceWarning)\n",
      "C:\\Users\\Utente\\Anaconda3\\lib\\site-packages\\sklearn\\neural_network\\multilayer_perceptron.py:566: ConvergenceWarning: Stochastic Optimizer: Maximum iterations (200) reached and the optimization hasn't converged yet.\n",
      "  % self.max_iter, ConvergenceWarning)\n",
      "C:\\Users\\Utente\\Anaconda3\\lib\\site-packages\\sklearn\\neural_network\\multilayer_perceptron.py:566: ConvergenceWarning: Stochastic Optimizer: Maximum iterations (200) reached and the optimization hasn't converged yet.\n",
      "  % self.max_iter, ConvergenceWarning)\n",
      "C:\\Users\\Utente\\Anaconda3\\lib\\site-packages\\sklearn\\neural_network\\multilayer_perceptron.py:566: ConvergenceWarning: Stochastic Optimizer: Maximum iterations (200) reached and the optimization hasn't converged yet.\n",
      "  % self.max_iter, ConvergenceWarning)\n",
      "C:\\Users\\Utente\\Anaconda3\\lib\\site-packages\\sklearn\\neural_network\\multilayer_perceptron.py:566: ConvergenceWarning: Stochastic Optimizer: Maximum iterations (200) reached and the optimization hasn't converged yet.\n",
      "  % self.max_iter, ConvergenceWarning)\n",
      "C:\\Users\\Utente\\Anaconda3\\lib\\site-packages\\sklearn\\neural_network\\multilayer_perceptron.py:566: ConvergenceWarning: Stochastic Optimizer: Maximum iterations (200) reached and the optimization hasn't converged yet.\n",
      "  % self.max_iter, ConvergenceWarning)\n",
      "C:\\Users\\Utente\\Anaconda3\\lib\\site-packages\\sklearn\\neural_network\\multilayer_perceptron.py:566: ConvergenceWarning: Stochastic Optimizer: Maximum iterations (200) reached and the optimization hasn't converged yet.\n",
      "  % self.max_iter, ConvergenceWarning)\n",
      "C:\\Users\\Utente\\Anaconda3\\lib\\site-packages\\sklearn\\neural_network\\multilayer_perceptron.py:566: ConvergenceWarning: Stochastic Optimizer: Maximum iterations (200) reached and the optimization hasn't converged yet.\n",
      "  % self.max_iter, ConvergenceWarning)\n",
      "C:\\Users\\Utente\\Anaconda3\\lib\\site-packages\\sklearn\\neural_network\\multilayer_perceptron.py:566: ConvergenceWarning: Stochastic Optimizer: Maximum iterations (200) reached and the optimization hasn't converged yet.\n",
      "  % self.max_iter, ConvergenceWarning)\n",
      "C:\\Users\\Utente\\Anaconda3\\lib\\site-packages\\sklearn\\neural_network\\multilayer_perceptron.py:566: ConvergenceWarning: Stochastic Optimizer: Maximum iterations (200) reached and the optimization hasn't converged yet.\n",
      "  % self.max_iter, ConvergenceWarning)\n",
      "C:\\Users\\Utente\\Anaconda3\\lib\\site-packages\\sklearn\\neural_network\\multilayer_perceptron.py:566: ConvergenceWarning: Stochastic Optimizer: Maximum iterations (200) reached and the optimization hasn't converged yet.\n",
      "  % self.max_iter, ConvergenceWarning)\n",
      "C:\\Users\\Utente\\Anaconda3\\lib\\site-packages\\sklearn\\neural_network\\multilayer_perceptron.py:566: ConvergenceWarning: Stochastic Optimizer: Maximum iterations (200) reached and the optimization hasn't converged yet.\n",
      "  % self.max_iter, ConvergenceWarning)\n",
      "C:\\Users\\Utente\\Anaconda3\\lib\\site-packages\\sklearn\\neural_network\\multilayer_perceptron.py:566: ConvergenceWarning: Stochastic Optimizer: Maximum iterations (200) reached and the optimization hasn't converged yet.\n",
      "  % self.max_iter, ConvergenceWarning)\n",
      "C:\\Users\\Utente\\Anaconda3\\lib\\site-packages\\sklearn\\neural_network\\multilayer_perceptron.py:566: ConvergenceWarning: Stochastic Optimizer: Maximum iterations (200) reached and the optimization hasn't converged yet.\n",
      "  % self.max_iter, ConvergenceWarning)\n",
      "C:\\Users\\Utente\\Anaconda3\\lib\\site-packages\\sklearn\\neural_network\\multilayer_perceptron.py:566: ConvergenceWarning: Stochastic Optimizer: Maximum iterations (200) reached and the optimization hasn't converged yet.\n",
      "  % self.max_iter, ConvergenceWarning)\n",
      "C:\\Users\\Utente\\Anaconda3\\lib\\site-packages\\sklearn\\neural_network\\multilayer_perceptron.py:566: ConvergenceWarning: Stochastic Optimizer: Maximum iterations (200) reached and the optimization hasn't converged yet.\n",
      "  % self.max_iter, ConvergenceWarning)\n"
     ]
    },
    {
     "name": "stdout",
     "output_type": "stream",
     "text": [
      "Elapsed time to fit the model and compare the hyperparameters: 2974.28 seconds \n",
      "\n",
      "searchMLP best combination of these hyperparameters is: {'clf__activation': 'relu', 'clf__hidden_layer_sizes': 300, 'clf__learning_rate': 'adaptive', 'clf__solver': 'adam'} \n",
      "\n",
      "searchMLP best score for these hyperparameters is: 0.9886935866983372 \n",
      "\n",
      "Elapsed time to make preditictions: 0.06 seconds \n",
      "\n"
     ]
    }
   ],
   "source": [
    "start_time = time.time()\n",
    "\n",
    "classifier = MLPClassifier()\n",
    "\n",
    "pipe = Pipeline(steps=[('clf', classifier)])\n",
    "\n",
    "param_grid = {\n",
    "    'clf__activation': ['logistic','relu'],\n",
    "    'clf__solver': ['sgd','adam'],\n",
    "    'clf__learning_rate' : ['constant','adaptive'],\n",
    "    'clf__hidden_layer_sizes' : [(100,),(200,),(300),],\n",
    "    #'clf__alpha' : [0.0001,0.05]\n",
    "}\n",
    "\n",
    "searchMLP = GridSearchCV(pipe, param_grid, iid=False, cv=5, verbose=False, return_train_score=True)\n",
    "searchMLP.fit(X_train, y_train)\n",
    "\n",
    "trainedMLP = searchMLP.best_estimator_.get_params()['clf']\n",
    "\n",
    "elapsed_training_searching_time_trainedMLP = time.time() - start_time\n",
    "print(\"Elapsed time to fit the model and compare the hyperparameters: %.2f seconds\" % elapsed_training_searching_time_trainedMLP,'\\n')\n",
    "\n",
    "best_params_MLP = searchMLP.best_params_\n",
    "best_score_MLP = searchMLP.best_score_\n",
    "\n",
    "print('searchMLP best combination of these hyperparameters is:',best_params_MLP,'\\n')\n",
    "print('searchMLP best score for these hyperparameters is:',best_score_MLP,'\\n')\n",
    "\n",
    "# print('searchMLP results for these hyperparameters is:',pd.DataFrame(searchMLP.cv_results_),'\\n')\n",
    "\n",
    "start_time = time.time()\n",
    "\n",
    "y_pred_trainedMLP = trainedMLP.predict(X_test)\n",
    "\n",
    "elapsed_prediction_time_trainedMLP = time.time() - start_time\n",
    "print(\"Elapsed time to make preditictions: %.2f seconds\" % elapsed_prediction_time_trainedMLP,'\\n')"
   ]
  },
  {
   "cell_type": "markdown",
   "metadata": {},
   "source": [
    "Creation of variables and print:"
   ]
  },
  {
   "cell_type": "code",
   "execution_count": 47,
   "metadata": {},
   "outputs": [],
   "source": [
    "accuracy_score_trainedMLP = accuracy_score(y_test,y_pred_trainedMLP)\n",
    "\n",
    "classification_report_trainedMLP = classification_report(y_test,y_pred_trainedMLP,digits=5)\n",
    "\n",
    "balanced_accuracy_score_trainedMLP = balanced_accuracy_score(y_test,y_pred_trainedMLP)\n",
    "\n",
    "confusion_matrix_true_trainedMLP = confusion_matrix(y_test, y_test)   \n",
    "\n",
    "confusion_matrix_pred_trainedMLP = confusion_matrix(y_test,y_pred_trainedMLP)"
   ]
  },
  {
   "cell_type": "code",
   "execution_count": 48,
   "metadata": {},
   "outputs": [
    {
     "name": "stdout",
     "output_type": "stream",
     "text": [
      "elapsed time for training: 2974.282509326935 \n",
      "\n",
      "elapsed time to make predictions: 0.061834096908569336 \n",
      "\n",
      "classification_report: \n",
      "               precision    recall  f1-score   support\n",
      "\n",
      "           B    0.98670   0.99226   0.98947      2841\n",
      "           S    0.98670   0.97725   0.98195      1670\n",
      "\n",
      "    accuracy                        0.98670      4511\n",
      "   macro avg    0.98670   0.98475   0.98571      4511\n",
      "weighted avg    0.98670   0.98670   0.98669      4511\n",
      " \n",
      "\n",
      "balanced_accuracy_score: 0.9847508783910531 \n",
      "\n",
      "confusion_matrix-true value: \n",
      " [[2841    0]\n",
      " [   0 1670]] \n",
      "\n",
      "confusion_matrix-pred value: \n",
      " [[2819   22]\n",
      " [  38 1632]]\n"
     ]
    }
   ],
   "source": [
    "print('elapsed time for training:',elapsed_training_searching_time_trainedMLP,'\\n')\n",
    "print('elapsed time to make predictions:', elapsed_prediction_time_trainedMLP,'\\n')\n",
    "\n",
    "print('classification_report: \\n', classification_report_trainedMLP,'\\n')\n",
    "print('balanced_accuracy_score:', balanced_accuracy_score_trainedMLP,'\\n')\n",
    "\n",
    "print('confusion_matrix-true value: \\n',confusion_matrix_true_trainedMLP,'\\n')\n",
    "print('confusion_matrix-pred value: \\n',confusion_matrix_pred_trainedMLP)"
   ]
  },
  {
   "cell_type": "markdown",
   "metadata": {
    "scrolled": true
   },
   "source": [
    " "
   ]
  },
  {
   "cell_type": "markdown",
   "metadata": {},
   "source": [
    "### 3.4. C-Support Vector Classification"
   ]
  },
  {
   "cell_type": "markdown",
   "metadata": {},
   "source": [
    "<b> WARNING: Requires around 55 mins to train and predict </b>"
   ]
  },
  {
   "cell_type": "markdown",
   "metadata": {},
   "source": [
    "Training and Prediction searching for best hyperparameters:"
   ]
  },
  {
   "cell_type": "code",
   "execution_count": 49,
   "metadata": {},
   "outputs": [
    {
     "name": "stdout",
     "output_type": "stream",
     "text": [
      "Fitting 5 folds for each of 16 candidates, totalling 80 fits\n"
     ]
    },
    {
     "name": "stderr",
     "output_type": "stream",
     "text": [
      "[Parallel(n_jobs=1)]: Using backend SequentialBackend with 1 concurrent workers.\n",
      "[Parallel(n_jobs=1)]: Done  80 out of  80 | elapsed: 62.8min finished\n"
     ]
    },
    {
     "name": "stdout",
     "output_type": "stream",
     "text": [
      "Elapsed time to fit the model and compare the hyperparameters: 3805.67 seconds \n",
      "\n",
      "searchSVC best combination of these hyperparameters is: {'clf__decision_function_shape': 'ovo', 'clf__gamma': 'scale', 'clf__kernel': 'rbf'} \n",
      "\n",
      "searchSVC best score for these hyperparameters is: 0.9818527315914489 \n",
      "\n",
      "Elapsed time to make preditictions: 1.91 seconds \n",
      "\n"
     ]
    }
   ],
   "source": [
    "start_time = time.time()\n",
    "\n",
    "classifier = SVC(probability=True)\n",
    "\n",
    "pipe = Pipeline(steps=[('clf', classifier)])\n",
    "\n",
    "param_grid = {\n",
    "    'clf__kernel': ['linear','rbf','sigmoid','poly'],\n",
    "    'clf__gamma': ['scale','auto'],\n",
    "    #'clf__shrinking' : [True,False],  #NB default value is True (we performed CV and we see that True is the best value)\n",
    "    #'clf__probability' : [True,False], #NB above we set True because we see that this is the best value for this parameter\n",
    "    'clf__decision_function_shape' : ['ovo','ovr']\n",
    "}\n",
    "\n",
    "searchSVC = GridSearchCV(pipe, param_grid, iid=False, cv=5, verbose=True, return_train_score=True)\n",
    "searchSVC.fit(X_train, y_train)\n",
    "\n",
    "trainedSVC = searchSVC.best_estimator_.get_params()['clf']\n",
    "\n",
    "elapsed_training_searching_time_trainedSVC = time.time() - start_time\n",
    "print(\"Elapsed time to fit the model and compare the hyperparameters: %.2f seconds\" % elapsed_training_searching_time_trainedSVC,'\\n')\n",
    "\n",
    "\n",
    "best_params_SVC = searchSVC.best_params_\n",
    "best_score_SVC = searchSVC.best_score_\n",
    "\n",
    "print('searchSVC best combination of these hyperparameters is:',best_params_SVC,'\\n')\n",
    "print('searchSVC best score for these hyperparameters is:',best_score_SVC,'\\n')\n",
    "\n",
    "# print('searchSVC results for these hyperparameters is:',pd.DataFrame(searchSVC.cv_results_),'\\n')\n",
    "\n",
    "start_time = time.time()\n",
    "\n",
    "y_pred_trainedSVC = trainedSVC.predict(X_test)\n",
    "\n",
    "elapsed_prediction_time_SVC = time.time() - start_time\n",
    "print(\"Elapsed time to make preditictions: %.2f seconds\" % elapsed_prediction_time_SVC,'\\n')"
   ]
  },
  {
   "cell_type": "markdown",
   "metadata": {},
   "source": [
    "Printing important metrics:"
   ]
  },
  {
   "cell_type": "code",
   "execution_count": 50,
   "metadata": {},
   "outputs": [
    {
     "name": "stdout",
     "output_type": "stream",
     "text": [
      "elapsed time for training: 3805.674987077713 \n",
      "\n",
      "elapsed time to make predictions: 1.9058997631072998 \n",
      "\n",
      "classification_report: \n",
      "               precision    recall  f1-score   support\n",
      "\n",
      "           B    0.97813   0.99155   0.98479      2841\n",
      "           S    0.98529   0.96228   0.97364      1670\n",
      "\n",
      "    accuracy                        0.98071      4511\n",
      "   macro avg    0.98171   0.97691   0.97922      4511\n",
      "weighted avg    0.98078   0.98071   0.98067      4511\n",
      " \n",
      "\n",
      "balanced_accuracy_score: 0.976913859714573 \n",
      "\n",
      "confusion_matrix-true value: \n",
      " [[2841    0]\n",
      " [   0 1670]] \n",
      "\n",
      "confusion_matrix-pred value: \n",
      " [[2817   24]\n",
      " [  63 1607]]\n"
     ]
    }
   ],
   "source": [
    "print('elapsed time for training:',elapsed_training_searching_time_trainedSVC,'\\n')\n",
    "print('elapsed time to make predictions:', elapsed_prediction_time_SVC,'\\n')\n",
    "\n",
    "print('classification_report: \\n', classification_report(y_test,y_pred_trainedSVC,digits=5),'\\n')\n",
    "print('balanced_accuracy_score:', balanced_accuracy_score(y_test,y_pred_trainedSVC),'\\n')\n",
    "\n",
    "print('confusion_matrix-true value: \\n',confusion_matrix(y_test, y_test),'\\n')\n",
    "print('confusion_matrix-pred value: \\n',confusion_matrix(y_test,y_pred_trainedSVC))"
   ]
  },
  {
   "cell_type": "markdown",
   "metadata": {},
   "source": [
    " "
   ]
  },
  {
   "cell_type": "markdown",
   "metadata": {},
   "source": [
    " "
   ]
  },
  {
   "cell_type": "markdown",
   "metadata": {},
   "source": [
    "Summary of all results:"
   ]
  },
  {
   "cell_type": "markdown",
   "metadata": {},
   "source": [
    "## 4. Results"
   ]
  },
  {
   "cell_type": "markdown",
   "metadata": {},
   "source": [
    "In this paragraph we are going to show some metrics related to the performances of various classifiers. Remember that we trained the classifiers using the same input data. Then we performed 5-fold cross-validation to find the best combination of classifiers hyperparameters. Then, at the end, we made prediction using the best estimators we found in order to compare the results with the one we get without searching for the best hyperparameter."
   ]
  },
  {
   "cell_type": "code",
   "execution_count": 51,
   "metadata": {
    "scrolled": false
   },
   "outputs": [
    {
     "name": "stdout",
     "output_type": "stream",
     "text": [
      "\n",
      "---------------------------------------------------------------------------------------------------------------------------\n",
      "\n",
      "DECISION TREE:\n",
      "\n",
      "DecisionTreeClassifier interesting metrics:\n",
      "\n",
      "elapsed time for training: 0.2902193069458008 \n",
      "\n",
      "elapsed time to make predictions: 0.01096653938293457 \n",
      "\n",
      "classification_report: \n",
      "               precision    recall  f1-score   support\n",
      "\n",
      "           B    0.97983   0.97466   0.97724      2841\n",
      "           S    0.95727   0.96587   0.96155      1670\n",
      "\n",
      "    accuracy                        0.97140      4511\n",
      "   macro avg    0.96855   0.97026   0.96939      4511\n",
      "weighted avg    0.97148   0.97140   0.97143      4511\n",
      " \n",
      "\n",
      "balanced_accuracy_score: 0.9702625372275513 \n",
      "\n",
      "confusion_matrix-true value: \n",
      " [[2841    0]\n",
      " [   0 1670]] \n",
      "\n",
      "confusion_matrix-pred value: \n",
      " [[2769   72]\n",
      " [  57 1613]] \n",
      "\n",
      "Trained DecisionTreeClassifier best estimator interesting metrics:\n",
      "\n",
      "searchDT best combination of these hyperparameters is: {'clf__criterion': 'gini', 'clf__max_depth': None, 'clf__max_leaf_nodes': 500, 'clf__splitter': 'best'} \n",
      "\n",
      "searchDT best score for these hyperparameters is: 0.977957244655582 \n",
      "\n",
      "elapsed time for training: 114.07212162017822 \n",
      "\n",
      "elapsed time to make predictions: 0.01096963882446289 \n",
      "\n",
      "classification_report: \n",
      "               precision    recall  f1-score   support\n",
      "\n",
      "           B    0.98121   0.97395   0.97757      2841\n",
      "           S    0.95624   0.96826   0.96221      1670\n",
      "\n",
      "    accuracy                        0.97185      4511\n",
      "   macro avg    0.96872   0.97111   0.96989      4511\n",
      "weighted avg    0.97196   0.97185   0.97188      4511\n",
      " \n",
      "\n",
      "balanced_accuracy_score: 0.9711081532816099 \n",
      "\n",
      "confusion_matrix-true value: \n",
      " [[2841    0]\n",
      " [   0 1670]] \n",
      "\n",
      "confusion_matrix-pred value: \n",
      " [[2767   74]\n",
      " [  53 1617]] \n",
      "\n",
      "top 40 features for importance:\n",
      " Index(['MASTER_CLEAR', 'WRITE_SOCIAL_STREAM', 'READ_PROFILE', 'REBOOT',\n",
      "       'BIND_REMOTEVIEWS', 'MessengerService', 'BIND_DEVICE_ADMIN',\n",
      "       'WRITE_GSERVICES', 'SET_ALARM', 'android.intent.action.SENDTO',\n",
      "       'WRITE_CALL_LOG', 'android.intent.action.SCREEN_ON',\n",
      "       'Context.bindService', 'RECEIVE_MMS', 'WRITE_SYNC_SETTINGS',\n",
      "       'SET_TIME_ZONE', 'android.intent.action.BATTERY_OKAY',\n",
      "       'CONTROL_LOCATION_UPDATES', 'BROADCAST_WAP_PUSH', 'Process.start',\n",
      "       'BIND_ACCESSIBILITY_SERVICE', 'READ_SYNC_STATS', 'BATTERY_STATS',\n",
      "       'DELETE_PACKAGES', 'android.intent.action.PACKAGE_DATA_CLEARED',\n",
      "       'GLOBAL_SEARCH', 'CHANGE_WIFI_MULTICAST_STATE', 'SUBSCRIBED_FEEDS_READ',\n",
      "       'DELETE_CACHE_FILES', 'sendDataMessage', 'REORDER_TASKS',\n",
      "       'android.intent.action.TIMEZONE_CHANGED', 'WRITE_PROFILE',\n",
      "       'SUBSCRIBED_FEEDS_WRITE', 'READ_CALL_LOG', 'READ_CALENDAR',\n",
      "       'PathClassLoader', 'PROCESS_OUTGOING_CALLS', 'CALL_PRIVILEGED',\n",
      "       'Ljava.lang.Class.getPackage'],\n",
      "      dtype='object')\n",
      "\n",
      "---------------------------------------------------------------------------------------------------------------------------\n",
      "\n",
      "RANDOM FOREST CLASSIFIER:\n",
      "\n",
      "RandomForestClassifier interesting metrics:\n",
      "\n",
      "elapsed time for training: 0.20844125747680664 \n",
      "\n",
      "elapsed time to make predictions: 0.021941184997558594 \n",
      "\n",
      "classification_report: \n",
      "               precision    recall  f1-score   support\n",
      "\n",
      "           B    0.97644   0.99190   0.98411      2841\n",
      "           S    0.98585   0.95928   0.97238      1670\n",
      "\n",
      "    accuracy                        0.97983      4511\n",
      "   macro avg    0.98114   0.97559   0.97825      4511\n",
      "weighted avg    0.97992   0.97983   0.97977      4511\n",
      " \n",
      "\n",
      "balanced_accuracy_score: 0.9755928480947292 \n",
      "\n",
      "confusion_matrix-true value: \n",
      " [[2841    0]\n",
      " [   0 1670]] \n",
      "\n",
      "confusion_matrix-pred value: \n",
      " [[2818   23]\n",
      " [  68 1602]] \n",
      "\n",
      "Trained RandomForestClassifier best estimator interesting metrics:\n",
      "\n",
      "searchRF best combination of these hyperparameters is: {'clf__criterion': 'gini', 'clf__max_depth': None, 'clf__max_leaf_nodes': None, 'clf__n_estimators': 100} \n",
      "\n",
      "searchRF best score for these hyperparameters is: 0.9879334916864607 \n",
      "\n",
      "elapsed time for training: 1092.4386422634125 \n",
      "\n",
      "elapsed time to make predictions: 0.15857672691345215 \n",
      "\n",
      "classification_report: \n",
      "               precision    recall  f1-score   support\n",
      "\n",
      "           B    0.98193   0.99472   0.98828      2841\n",
      "           S    0.99081   0.96886   0.97972      1670\n",
      "\n",
      "    accuracy                        0.98515      4511\n",
      "   macro avg    0.98637   0.98179   0.98400      4511\n",
      "weighted avg    0.98522   0.98515   0.98511      4511\n",
      " \n",
      "\n",
      "balanced_accuracy_score: 0.9817912222018477 \n",
      "\n",
      "confusion_matrix-true value: \n",
      " [[2841    0]\n",
      " [   0 1670]] \n",
      "\n",
      "confusion_matrix-pred value: \n",
      " [[2826   15]\n",
      " [  52 1618]] \n",
      "\n",
      "top 40 features for importance:\n",
      " Index(['BIND_TEXT_SERVICE', 'READ_SOCIAL_STREAM', 'BIND_VPN_SERVICE',\n",
      "       'WRITE_SOCIAL_STREAM', 'Process.start', 'Context.bindService',\n",
      "       'MessengerService', 'Runtime.loadLibrary', 'WRITE_PROFILE',\n",
      "       'MOUNT_FORMAT_FILESYSTEMS', 'SET_ACTIVITY_WATCHER', 'intent.action.RUN',\n",
      "       'INSTALL_LOCATION_PROVIDER', 'INTERNAL_SYSTEM_WINDOW',\n",
      "       'BIND_ACCESSIBILITY_SERVICE', 'android.intent.action.CALL_BUTTON',\n",
      "       'REORDER_TASKS', 'ADD_VOICEMAIL', 'SUBSCRIBED_FEEDS_WRITE',\n",
      "       'SET_PROCESS_LIMIT', 'SET_TIME_ZONE', 'android.intent.action.CALL',\n",
      "       'ACCOUNT_MANAGER', 'android.intent.action.PACKAGE_DATA_CLEARED',\n",
      "       'WRITE_USER_DICTIONARY', 'SUBSCRIBED_FEEDS_READ',\n",
      "       'android.intent.action.BATTERY_LOW', 'SET_ORIENTATION', 'DUMP',\n",
      "       'BIND_APPWIDGET', 'SET_TIME', 'READ_FRAME_BUFFER',\n",
      "       'android.intent.action.SET_WALLPAPER', 'android.intent.action.SENDTO',\n",
      "       'CONTROL_LOCATION_UPDATES', 'READ_USER_DICTIONARY', 'GLOBAL_SEARCH',\n",
      "       'android.intent.action.BATTERY_OKAY',\n",
      "       'android.intent.action.SCREEN_OFF',\n",
      "       'android.intent.action.PACKAGE_RESTARTED'],\n",
      "      dtype='object')\n",
      "\n",
      "---------------------------------------------------------------------------------------------------------------------------\n",
      "\n",
      "MULTI-LAYER PERCEPTRON CLASSIFIER:\n",
      "\n",
      "Multi-layerPerceptronClassifier interesting metrics:\n",
      "\n",
      "elapsed time for training: 43.71689057350159 \n",
      "\n",
      "elapsed time to make predictions: 0.05086374282836914 \n",
      "\n",
      "classification_report: \n",
      "               precision    recall  f1-score   support\n",
      "\n",
      "           B    0.97385   0.98310   0.97846      2841\n",
      "           S    0.97079   0.95509   0.96287      1670\n",
      "\n",
      "    accuracy                        0.97273      4511\n",
      "   macro avg    0.97232   0.96910   0.97066      4511\n",
      "weighted avg    0.97271   0.97273   0.97269      4511\n",
      " \n",
      "\n",
      "balanced_accuracy_score: 0.9690971805069903 \n",
      "\n",
      "confusion_matrix-true value: \n",
      " [[2841    0]\n",
      " [   0 1670]] \n",
      "\n",
      "confusion_matrix-pred value: \n",
      " [[2793   48]\n",
      " [  75 1595]] \n",
      "\n",
      "Trained Multi-layerPerceptronClassifier best estimator interesting metrics:\n",
      "\n",
      "searchMLP best combination of these hyperparameters is: {'clf__activation': 'relu', 'clf__hidden_layer_sizes': 300, 'clf__learning_rate': 'adaptive', 'clf__solver': 'adam'} \n",
      "\n",
      "searchMLP best score for these hyperparameters is: 0.9886935866983372 \n",
      "\n",
      "elapsed time for training: 2974.282509326935 \n",
      "\n",
      "elapsed time to make predictions: 0.061834096908569336 \n",
      "\n",
      "classification_report: \n",
      "               precision    recall  f1-score   support\n",
      "\n",
      "           B    0.98670   0.99226   0.98947      2841\n",
      "           S    0.98670   0.97725   0.98195      1670\n",
      "\n",
      "    accuracy                        0.98670      4511\n",
      "   macro avg    0.98670   0.98475   0.98571      4511\n",
      "weighted avg    0.98670   0.98670   0.98669      4511\n",
      " \n",
      "\n",
      "balanced_accuracy_score: 0.9847508783910531 \n",
      "\n",
      "confusion_matrix-true value: \n",
      " [[2841    0]\n",
      " [   0 1670]] \n",
      "\n",
      "confusion_matrix-pred value: \n",
      " [[2819   22]\n",
      " [  38 1632]]\n",
      "\n",
      "---------------------------------------------------------------------------------------------------------------------------\n",
      "\n",
      "LINEAR SUPPORT VECTOR CLASSIFIER:\n",
      "\n",
      "NB: we perform cross validation only on C-SupportVectorClassifier\n",
      "LinearSupportVectorClassifier interesting metrics:\n",
      "\n",
      "elapsed time for training: 0.41588640213012695 \n",
      "\n",
      "elapsed time to make predictions: 0.011967658996582031 \n",
      "\n",
      "classification_report: \n",
      "               precision    recall  f1-score   support\n",
      "\n",
      "           B    0.97938   0.98627   0.98281      2841\n",
      "           S    0.97636   0.96467   0.97048      1670\n",
      "\n",
      "    accuracy                        0.97828      4511\n",
      "   macro avg    0.97787   0.97547   0.97665      4511\n",
      "weighted avg    0.97826   0.97828   0.97825      4511\n",
      " \n",
      "\n",
      "balanced_accuracy_score: 0.9754715489822888 \n",
      "\n",
      "confusion_matrix-true value: \n",
      " [[2841    0]\n",
      " [   0 1670]] \n",
      "\n",
      "confusion_matrix-pred value: \n",
      " [[2802   39]\n",
      " [  59 1611]]\n",
      "\n",
      "---------------------------------------------------------------------------------------------------------------------------\n",
      "\n",
      "C-SUPPORT VECTOR CLASSIFIER:\n",
      "\n",
      "C-SupportVectorClassifier interesting metrics:\n",
      "\n",
      "elapsed time for training: 5.130272388458252 \n",
      "\n",
      "elapsed time to make predictions: 1.9058997631072998 \n",
      "\n",
      "classification_report: \n",
      "               precision    recall  f1-score   support\n",
      "\n",
      "           B    0.97813   0.99155   0.98479      2841\n",
      "           S    0.98529   0.96228   0.97364      1670\n",
      "\n",
      "    accuracy                        0.98071      4511\n",
      "   macro avg    0.98171   0.97691   0.97922      4511\n",
      "weighted avg    0.98078   0.98071   0.98067      4511\n",
      " \n",
      "\n",
      "balanced_accuracy_score: 0.976913859714573 \n",
      "\n",
      "confusion_matrix-true value: \n",
      " [[2841    0]\n",
      " [   0 1670]] \n",
      "\n",
      "confusion_matrix-test and train: \n",
      " [[2817   24]\n",
      " [  63 1607]] \n",
      "\n",
      "Trained C-SupportVectorClassifiers best estimator interesting metrics:\n",
      "\n",
      "searchSVC best combination of these hyperparameters is: {'clf__decision_function_shape': 'ovo', 'clf__gamma': 'scale', 'clf__kernel': 'rbf'} \n",
      "\n",
      "searchSVC best score for these hyperparameters is: 0.9818527315914489 \n",
      "\n"
     ]
    },
    {
     "name": "stdout",
     "output_type": "stream",
     "text": [
      "classification_report: \n",
      "               precision    recall  f1-score   support\n",
      "\n",
      "           B    0.97813   0.99155   0.98479      2841\n",
      "           S    0.98529   0.96228   0.97364      1670\n",
      "\n",
      "    accuracy                        0.98071      4511\n",
      "   macro avg    0.98171   0.97691   0.97922      4511\n",
      "weighted avg    0.98078   0.98071   0.98067      4511\n",
      " \n",
      "\n",
      "balanced_accuracy_score: 0.976913859714573 \n",
      "\n",
      "confusion_matrix-true value: \n",
      " [[2841    0]\n",
      " [   0 1670]] \n",
      "\n",
      "confusion_matrix-pred value: \n",
      " [[2817   24]\n",
      " [  63 1607]]\n",
      "\n",
      "---------------------------------------------------------------------------------------------------------------------------\n",
      "\n"
     ]
    }
   ],
   "source": [
    "print('\\n---------------------------------------------------------------------------------------------------------------------------\\n')\n",
    "\n",
    "print('DECISION TREE:\\n')\n",
    "\n",
    "print('DecisionTreeClassifier interesting metrics:\\n')\n",
    "\n",
    "print('elapsed time for training:',elapsed_training_time_DT,'\\n')\n",
    "print('elapsed time to make predictions:', elapsed_prediction_time_DT,'\\n')\n",
    "\n",
    "print('classification_report: \\n', classification_report_DT,'\\n')\n",
    "print('balanced_accuracy_score:', balanced_accuracy_score_DT,'\\n')\n",
    "\n",
    "print('confusion_matrix-true value: \\n',confusion_matrix_true_DT,'\\n')\n",
    "print('confusion_matrix-pred value: \\n',confusion_matrix_pred_DT,'\\n')\n",
    "\n",
    "print('Trained DecisionTreeClassifier best estimator interesting metrics:\\n')\n",
    "\n",
    "print('searchDT best combination of these hyperparameters is:',best_params_DT,'\\n')\n",
    "print('searchDT best score for these hyperparameters is:',best_score_DT,'\\n')\n",
    "\n",
    "print('elapsed time for training:',elapsed_training_searching_time_trainedDT,'\\n')\n",
    "print('elapsed time to make predictions:', elapsed_prediction_time_trainedDT,'\\n')\n",
    "\n",
    "print('classification_report: \\n', classification_report_trainedDT,'\\n')\n",
    "print('balanced_accuracy_score:', balanced_accuracy_score_trainedDT,'\\n')\n",
    "\n",
    "print('confusion_matrix-true value: \\n',confusion_matrix_true_trainedDT,'\\n')\n",
    "print('confusion_matrix-pred value: \\n',confusion_matrix_pred_trainedDT,'\\n')\n",
    "\n",
    "print('top 40 features for importance:\\n',X_train.columns[top_40_features_DT])\n",
    "\n",
    "print('\\n---------------------------------------------------------------------------------------------------------------------------\\n')\n",
    "\n",
    "print('RANDOM FOREST CLASSIFIER:\\n')\n",
    "\n",
    "print('RandomForestClassifier interesting metrics:\\n')\n",
    "\n",
    "print('elapsed time for training:',elapsed_training_time_RF,'\\n')\n",
    "print('elapsed time to make predictions:', elapsed_prediction_time_RF,'\\n')\n",
    "\n",
    "print('classification_report: \\n', classification_report_RF,'\\n')\n",
    "print('balanced_accuracy_score:', balanced_accuracy_score_RF,'\\n')\n",
    "\n",
    "print('confusion_matrix-true value: \\n',confusion_matrix_true_RF,'\\n')\n",
    "print('confusion_matrix-pred value: \\n',confusion_matrix_pred_RF,'\\n')\n",
    "\n",
    "print('Trained RandomForestClassifier best estimator interesting metrics:\\n')\n",
    "\n",
    "print('searchRF best combination of these hyperparameters is:',best_params_RF,'\\n')\n",
    "print('searchRF best score for these hyperparameters is:',best_score_RF,'\\n')\n",
    "\n",
    "print('elapsed time for training:',elapsed_training_searching_time_trainedRF,'\\n')\n",
    "print('elapsed time to make predictions:', elapsed_prediction_time_trainedRF,'\\n') \n",
    "\n",
    "print('classification_report: \\n', classification_report_trainedRF,'\\n')\n",
    "print('balanced_accuracy_score:', balanced_accuracy_score_trainedRF,'\\n')\n",
    "\n",
    "print('confusion_matrix-true value: \\n',confusion_matrix_true_trainedRF,'\\n')\n",
    "print('confusion_matrix-pred value: \\n',confusion_matrix_pred_trainedRF,'\\n')\n",
    "\n",
    "print('top 40 features for importance:\\n',X_train.columns[top_40_features_RF])\n",
    "\n",
    "print('\\n---------------------------------------------------------------------------------------------------------------------------\\n')\n",
    "\n",
    "print('MULTI-LAYER PERCEPTRON CLASSIFIER:\\n')\n",
    "\n",
    "print('Multi-layerPerceptronClassifier interesting metrics:\\n')\n",
    "\n",
    "print('elapsed time for training:',elapsed_training_time_MLP,'\\n')\n",
    "print('elapsed time to make predictions:', elapsed_prediction_time_MLP,'\\n')\n",
    "\n",
    "print('classification_report: \\n', classification_report_MLP,'\\n')\n",
    "print('balanced_accuracy_score:', balanced_accuracy_score_MLP,'\\n')\n",
    "\n",
    "print('confusion_matrix-true value: \\n',confusion_matrix_true_MLP,'\\n')\n",
    "print('confusion_matrix-pred value: \\n',confusion_matrix_pred_MLP,'\\n')\n",
    "\n",
    "print('Trained Multi-layerPerceptronClassifier best estimator interesting metrics:\\n')\n",
    "\n",
    "print('searchMLP best combination of these hyperparameters is:',best_params_MLP,'\\n')\n",
    "print('searchMLP best score for these hyperparameters is:',best_score_MLP,'\\n')\n",
    "\n",
    "print('elapsed time for training:',elapsed_training_searching_time_trainedMLP,'\\n')\n",
    "print('elapsed time to make predictions:', elapsed_prediction_time_trainedMLP,'\\n')\n",
    "\n",
    "print('classification_report: \\n', classification_report_trainedMLP,'\\n')\n",
    "print('balanced_accuracy_score:', balanced_accuracy_score_trainedMLP,'\\n')\n",
    "\n",
    "print('confusion_matrix-true value: \\n',confusion_matrix_true_trainedMLP,'\\n')\n",
    "print('confusion_matrix-pred value: \\n',confusion_matrix_pred_trainedMLP)\n",
    "\n",
    "print('\\n---------------------------------------------------------------------------------------------------------------------------\\n')\n",
    "\n",
    "print('LINEAR SUPPORT VECTOR CLASSIFIER:\\n')\n",
    "\n",
    "print('NB: we perform cross validation only on C-SupportVectorClassifier')\n",
    "\n",
    "print('LinearSupportVectorClassifier interesting metrics:\\n')\n",
    "\n",
    "print('elapsed time for training:',elapsed_training_time_LinearSVC,'\\n')\n",
    "print('elapsed time to make predictions:', elapsed_prediction_time_LinearSVC,'\\n')\n",
    "\n",
    "print('classification_report: \\n', classification_report_LinearSVC,'\\n')\n",
    "print('balanced_accuracy_score:', balanced_accuracy_score_LinearSVC,'\\n')\n",
    "\n",
    "print('confusion_matrix-true value: \\n',confusion_matrix_true_LinearSVC,'\\n')\n",
    "print('confusion_matrix-pred value: \\n',confusion_matrix_pred_LinearSVC)\n",
    "\n",
    "print('\\n---------------------------------------------------------------------------------------------------------------------------\\n')\n",
    "\n",
    "print('C-SUPPORT VECTOR CLASSIFIER:\\n')\n",
    "\n",
    "print('C-SupportVectorClassifier interesting metrics:\\n')\n",
    "\n",
    "print('elapsed time for training:',elapsed_training_time_SVC,'\\n')\n",
    "print('elapsed time to make predictions:', elapsed_prediction_time_SVC,'\\n')\n",
    "\n",
    "print('classification_report: \\n', classification_report_SVC,'\\n')\n",
    "print('balanced_accuracy_score:', balanced_accuracy_score_SVC,'\\n')\n",
    "\n",
    "print('confusion_matrix-true value: \\n',confusion_matrix_true_SVC,'\\n')\n",
    "print('confusion_matrix-test and train: \\n',confusion_matrix_pred_SVC,'\\n')\n",
    "\n",
    "print('Trained C-SupportVectorClassifiers best estimator interesting metrics:\\n')\n",
    "\n",
    "print('searchSVC best combination of these hyperparameters is:',best_params_SVC,'\\n')\n",
    "print('searchSVC best score for these hyperparameters is:',best_score_SVC,'\\n')\n",
    "\n",
    "print('classification_report: \\n', classification_report(y_test,y_pred_trainedSVC,digits=5),'\\n')\n",
    "print('balanced_accuracy_score:', balanced_accuracy_score(y_test,y_pred_trainedSVC),'\\n')\n",
    "\n",
    "print('confusion_matrix-true value: \\n',confusion_matrix(y_test, y_test),'\\n')\n",
    "print('confusion_matrix-pred value: \\n',confusion_matrix(y_test,y_pred_trainedSVC))\n",
    "\n",
    "print('\\n---------------------------------------------------------------------------------------------------------------------------\\n')\n"
   ]
  },
  {
   "cell_type": "markdown",
   "metadata": {},
   "source": [
    " "
   ]
  },
  {
   "cell_type": "markdown",
   "metadata": {},
   "source": [
    " "
   ]
  },
  {
   "cell_type": "markdown",
   "metadata": {},
   "source": [
    "## 5. Clustering"
   ]
  },
  {
   "cell_type": "code",
   "execution_count": 52,
   "metadata": {},
   "outputs": [],
   "source": [
    "# Clustering\n",
    "from sklearn.cluster import (KMeans, AgglomerativeClustering, DBSCAN)\n",
    "# Metrics\n",
    "from sklearn.metrics import (homogeneity_score,completeness_score,v_measure_score,silhouette_score,davies_bouldin_score,)"
   ]
  },
  {
   "cell_type": "markdown",
   "metadata": {},
   "source": [
    "The geometric intuition behind clustering is straightforard: you want to group togheter data points that are close \"togheter\" in some way. In our goal the main goal is also defin which cluster correspond to malicious apps. \n",
    "We will see 3 different clustering algorithms: K-means, AgglomerativeClustering, and DBSCAN. "
   ]
  },
  {
   "cell_type": "markdown",
   "metadata": {},
   "source": [
    "In order to be able to perform clustering we have to perform the usual preprocessing of data:\n",
    "1. One hot encoding\n",
    "2. Scaling\n",
    "\n",
    "We already performed the first one (getting dummies for one of the two object features that we have into the dataframe). We have not performed the second one because we don't have numeric variables, only binary one, and they only reprsent if a permission/functionality of the application is present or not. Scaling binary features is not necessary. \n",
    "\n",
    "<b> NB. Some of the clustering algorithms tend to be intractable on small machines as the dimensionality increases. </b>"
   ]
  },
  {
   "cell_type": "markdown",
   "metadata": {},
   "source": [
    "While performing clustering, we do not want information about the label, since it is information that is missing in unseen data (it is the target label).\n",
    "So we will fit the clustering model on the dataframe after dropping such columns."
   ]
  },
  {
   "cell_type": "markdown",
   "metadata": {},
   "source": [
    "<b>K-MEANS</b>"
   ]
  },
  {
   "cell_type": "markdown",
   "metadata": {},
   "source": [
    "Is on of the 82best known clustering algorithm. The goal of k-means algorithm is to assign points to clusters to minimise sum of (squared) distances between points & corresponding clusters centers. The standard algorithm is the following:\n",
    "\n",
    "1. <b>Initialize</b> *k* centroids\n",
    "    - choose them randomly\n",
    "2. <b>(re)assign each data point</b> to closest centroid\n",
    "3. <b>(re)compute centroids</b> by averaging data points in cluster\n",
    "4. <b>repeat (2) (3)</b> until convergence, when centroids stop moving\n",
    "\n",
    "\n",
    "- How we choose *k*? Is common to choose values *k* that is 1-3 times the number of know classes in the data (our case: 2 classes) \n",
    "\n",
    "In general k-means works best when centroids initialised randomly. This makes reproducing results difficult, so we can see how the results depend on the inizialization.\n",
    "\n",
    "<b>NB. using k-means with *binary features* can led to unpredictable results. k-means loses effectiveness in high dimetions, due to the \"curse of dimentionality\" - all points are roughly equally distant from each other (again, we have more than 2 hundred dimensions).</b>"
   ]
  },
  {
   "cell_type": "markdown",
   "metadata": {},
   "source": [
    "### 5.1. Training the clustering algorithm"
   ]
  },
  {
   "cell_type": "markdown",
   "metadata": {},
   "source": [
    "https://scikit-learn.org/stable/modules/generated/sklearn.cluster.KMeans.html#sklearn.cluster.KMeans"
   ]
  },
  {
   "cell_type": "markdown",
   "metadata": {},
   "source": [
    "Before starting the clustering we are going to create another dataframe obtained by dropping the dummy column representing the \"?\" from the original \"df_one_hot\". We are also creating a second new dataframe called \"df_clustering_kmeans\" that will be used for the kmeans algorithm. It is created at the same way as the first one."
   ]
  },
  {
   "cell_type": "code",
   "execution_count": 53,
   "metadata": {},
   "outputs": [],
   "source": [
    "df_clustering = df_one_hot.drop(['TelephonyManager.getSimCountryIso_?'], axis=1)"
   ]
  },
  {
   "cell_type": "code",
   "execution_count": 54,
   "metadata": {},
   "outputs": [],
   "source": [
    "df_clustering_kmeans = df_one_hot.drop(['TelephonyManager.getSimCountryIso_?'], axis=1)"
   ]
  },
  {
   "cell_type": "code",
   "execution_count": 55,
   "metadata": {},
   "outputs": [
    {
     "data": {
      "text/plain": [
       "Index(['transact', 'onServiceConnected', 'bindService', 'attachInterface',\n",
       "       'ServiceConnection', 'android.os.Binder', 'SEND_SMS',\n",
       "       'Ljava.lang.Class.getCanonicalName', 'Ljava.lang.Class.getMethods',\n",
       "       'Ljava.lang.Class.cast',\n",
       "       ...\n",
       "       'HARDWARE_TEST', 'ACCESS_WIFI_STATE', 'WRITE_EXTERNAL_STORAGE',\n",
       "       'ACCESS_FINE_LOCATION', 'SET_WALLPAPER_HINTS',\n",
       "       'SET_PREFERRED_APPLICATIONS', 'WRITE_SECURE_SETTINGS', 'class',\n",
       "       'TelephonyManager.getSimCountryIso_0',\n",
       "       'TelephonyManager.getSimCountryIso_1'],\n",
       "      dtype='object', length=217)"
      ]
     },
     "execution_count": 55,
     "metadata": {},
     "output_type": "execute_result"
    }
   ],
   "source": [
    "df_clustering_kmeans.columns"
   ]
  },
  {
   "cell_type": "markdown",
   "metadata": {},
   "source": [
    "Here we are fitting the cluster algorithm on the kmeans algorithm (without the \"class\" feature). Remember, we are always tracking the time required to perform the training."
   ]
  },
  {
   "cell_type": "code",
   "execution_count": 56,
   "metadata": {},
   "outputs": [
    {
     "name": "stdout",
     "output_type": "stream",
     "text": [
      "elapsed time to train kmeans clustering algorithm:  8.5381498336792\n"
     ]
    }
   ],
   "source": [
    "start_time = time.time()\n",
    "\n",
    "kmeans = KMeans(n_clusters=6, random_state=6, verbose=0, algorithm='auto').fit(df_clustering_kmeans.drop(('class'),axis=1))\n",
    "\n",
    "elapsed_training_time_kmeans = time.time() - start_time\n",
    "print('elapsed time to train kmeans clustering algorithm: ',elapsed_training_time_kmeans)"
   ]
  },
  {
   "cell_type": "markdown",
   "metadata": {},
   "source": [
    "Here we are performing some checks:\n",
    "1. Checking the columns\n",
    "2. Checking the centers of the clusters\n",
    "3. Checking the labels for the elements in the dataframe\n",
    "4. Checking the number of iterations\n",
    "5. Checking the sum of squared distances of samples to their closest cluster center"
   ]
  },
  {
   "cell_type": "code",
   "execution_count": 57,
   "metadata": {},
   "outputs": [],
   "source": [
    "# df_clustering_kmeans.columns"
   ]
  },
  {
   "cell_type": "code",
   "execution_count": 58,
   "metadata": {
    "scrolled": true
   },
   "outputs": [],
   "source": [
    "# kmeans.cluster_centers_"
   ]
  },
  {
   "cell_type": "code",
   "execution_count": 59,
   "metadata": {
    "scrolled": true
   },
   "outputs": [
    {
     "data": {
      "text/plain": [
       "array([1, 1, 1, ..., 1, 4, 4])"
      ]
     },
     "execution_count": 59,
     "metadata": {},
     "output_type": "execute_result"
    }
   ],
   "source": [
    "kmeans.labels_"
   ]
  },
  {
   "cell_type": "code",
   "execution_count": 60,
   "metadata": {},
   "outputs": [
    {
     "data": {
      "text/plain": [
       "67"
      ]
     },
     "execution_count": 60,
     "metadata": {},
     "output_type": "execute_result"
    }
   ],
   "source": [
    "kmeans.n_iter_"
   ]
  },
  {
   "cell_type": "code",
   "execution_count": 61,
   "metadata": {},
   "outputs": [
    {
     "data": {
      "text/plain": [
       "190662.59586146183"
      ]
     },
     "execution_count": 61,
     "metadata": {},
     "output_type": "execute_result"
    }
   ],
   "source": [
    "kmeans.inertia_"
   ]
  },
  {
   "cell_type": "markdown",
   "metadata": {},
   "source": [
    "We are also saving the labels we have found before in a new column of the dataframe that we are going to call \"cluster\"."
   ]
  },
  {
   "cell_type": "code",
   "execution_count": 62,
   "metadata": {},
   "outputs": [],
   "source": [
    "df_clustering_kmeans['cluster'] = kmeans.labels_"
   ]
  },
  {
   "cell_type": "markdown",
   "metadata": {},
   "source": [
    "Here we are trying to evaluate the accuracy of the clustering by looking at the classes of the entries of each cluster. In fact, after a perfect clustering we would have in each cluster only elements belonging to the one class."
   ]
  },
  {
   "cell_type": "code",
   "execution_count": 63,
   "metadata": {},
   "outputs": [
    {
     "data": {
      "text/plain": [
       "cluster\n",
       "0    2450\n",
       "1    3178\n",
       "2    2085\n",
       "3    2021\n",
       "4    4131\n",
       "5    1171\n",
       "dtype: int64"
      ]
     },
     "execution_count": 63,
     "metadata": {},
     "output_type": "execute_result"
    }
   ],
   "source": [
    "df_clustering_kmeans.groupby('cluster').size()"
   ]
  },
  {
   "cell_type": "code",
   "execution_count": 64,
   "metadata": {
    "scrolled": true
   },
   "outputs": [
    {
     "data": {
      "text/plain": [
       "class\n",
       "B    9476\n",
       "S    5560\n",
       "dtype: int64"
      ]
     },
     "execution_count": 64,
     "metadata": {},
     "output_type": "execute_result"
    }
   ],
   "source": [
    "df_clustering_kmeans.groupby('class').size()"
   ]
  },
  {
   "cell_type": "code",
   "execution_count": 65,
   "metadata": {
    "scrolled": true
   },
   "outputs": [
    {
     "data": {
      "text/html": [
       "<div>\n",
       "<style scoped>\n",
       "    .dataframe tbody tr th:only-of-type {\n",
       "        vertical-align: middle;\n",
       "    }\n",
       "\n",
       "    .dataframe tbody tr th {\n",
       "        vertical-align: top;\n",
       "    }\n",
       "\n",
       "    .dataframe thead th {\n",
       "        text-align: right;\n",
       "    }\n",
       "</style>\n",
       "<table border=\"1\" class=\"dataframe\">\n",
       "  <thead>\n",
       "    <tr style=\"text-align: right;\">\n",
       "      <th></th>\n",
       "      <th>cluster</th>\n",
       "      <th>class</th>\n",
       "      <th>0</th>\n",
       "    </tr>\n",
       "  </thead>\n",
       "  <tbody>\n",
       "    <tr>\n",
       "      <th>0</th>\n",
       "      <td>0</td>\n",
       "      <td>B</td>\n",
       "      <td>556</td>\n",
       "    </tr>\n",
       "    <tr>\n",
       "      <th>2</th>\n",
       "      <td>1</td>\n",
       "      <td>B</td>\n",
       "      <td>1764</td>\n",
       "    </tr>\n",
       "    <tr>\n",
       "      <th>4</th>\n",
       "      <td>2</td>\n",
       "      <td>B</td>\n",
       "      <td>1924</td>\n",
       "    </tr>\n",
       "    <tr>\n",
       "      <th>6</th>\n",
       "      <td>3</td>\n",
       "      <td>B</td>\n",
       "      <td>133</td>\n",
       "    </tr>\n",
       "    <tr>\n",
       "      <th>8</th>\n",
       "      <td>4</td>\n",
       "      <td>B</td>\n",
       "      <td>4048</td>\n",
       "    </tr>\n",
       "    <tr>\n",
       "      <th>10</th>\n",
       "      <td>5</td>\n",
       "      <td>B</td>\n",
       "      <td>1051</td>\n",
       "    </tr>\n",
       "    <tr>\n",
       "      <th>1</th>\n",
       "      <td>0</td>\n",
       "      <td>S</td>\n",
       "      <td>1894</td>\n",
       "    </tr>\n",
       "    <tr>\n",
       "      <th>3</th>\n",
       "      <td>1</td>\n",
       "      <td>S</td>\n",
       "      <td>1414</td>\n",
       "    </tr>\n",
       "    <tr>\n",
       "      <th>5</th>\n",
       "      <td>2</td>\n",
       "      <td>S</td>\n",
       "      <td>161</td>\n",
       "    </tr>\n",
       "    <tr>\n",
       "      <th>7</th>\n",
       "      <td>3</td>\n",
       "      <td>S</td>\n",
       "      <td>1888</td>\n",
       "    </tr>\n",
       "    <tr>\n",
       "      <th>9</th>\n",
       "      <td>4</td>\n",
       "      <td>S</td>\n",
       "      <td>83</td>\n",
       "    </tr>\n",
       "    <tr>\n",
       "      <th>11</th>\n",
       "      <td>5</td>\n",
       "      <td>S</td>\n",
       "      <td>120</td>\n",
       "    </tr>\n",
       "  </tbody>\n",
       "</table>\n",
       "</div>"
      ],
      "text/plain": [
       "    cluster class     0\n",
       "0         0     B   556\n",
       "2         1     B  1764\n",
       "4         2     B  1924\n",
       "6         3     B   133\n",
       "8         4     B  4048\n",
       "10        5     B  1051\n",
       "1         0     S  1894\n",
       "3         1     S  1414\n",
       "5         2     S   161\n",
       "7         3     S  1888\n",
       "9         4     S    83\n",
       "11        5     S   120"
      ]
     },
     "execution_count": 65,
     "metadata": {},
     "output_type": "execute_result"
    }
   ],
   "source": [
    "df_clustering_kmeans.groupby(['cluster', 'class']).size().reset_index().sort_values(['class'])"
   ]
  },
  {
   "cell_type": "markdown",
   "metadata": {},
   "source": [
    "#### 5.1.1. Evaluating the cluster algorithm"
   ]
  },
  {
   "cell_type": "markdown",
   "metadata": {},
   "source": [
    "There are many possible metrics for clustering evaluation: some can be used when the ground truth labels are known, some can be used when the true labels are unknown.\n",
    "If the ground truth is known, you can use, for instance:\n",
    "- [homogeneity](https://scikit-learn.org/stable/modules/generated/sklearn.metrics.homogeneity_score.html#sklearn.metrics.homogeneity_score)\n",
    "    A clustering result satisfies homogeneity if all of its clusters contain only data points which are members of a single\n",
    "    class.\n",
    "- [completeness](https://scikit-learn.org/stable/modules/generated/sklearn.metrics.completeness_score.html#sklearn.metrics.completeness_score)\n",
    "    A clustering result satisfies completeness if all the data points that are members of a given class are elements of the \n",
    "    same cluster.\n",
    "- [v-measure](https://scikit-learn.org/stable/modules/generated/sklearn.metrics.v_measure_score.html#sklearn.metrics.v_measure_score)\n",
    "    The V-measure is the harmonic mean between homogeneity and completeness.\n",
    "If the ground truth is not known <b>(not our case)</b>, you can use, for instance:\n",
    "- [silhouette](https://scikit-learn.org/stable/modules/generated/sklearn.metrics.silhouette_score.html#sklearn.metrics.silhouette_score) \n",
    "    \"a higher Silhouette Coefficient score relates to a model with better defined clusters\"\n",
    "\n",
    "- [Davies-Bouldin Index](https://scikit-learn.org/stable/modules/generated/sklearn.metrics.davies_bouldin_score.html#sklearn.metrics.davies_bouldin_score) \n",
    "    \"a lower Davies-Bouldin index relates to a model with better separation between the clusters\""
   ]
  },
  {
   "cell_type": "markdown",
   "metadata": {},
   "source": [
    "We have to keep separeted:\n",
    "- the predicted labels\n",
    "- the column 'label' containing the ground truth (be careful not to consider it as a feature while testing!!)\n",
    "- the features."
   ]
  },
  {
   "cell_type": "markdown",
   "metadata": {},
   "source": [
    "We are creating two new different variables, one containing the cluster column and one containing the class column."
   ]
  },
  {
   "cell_type": "code",
   "execution_count": 66,
   "metadata": {},
   "outputs": [],
   "source": [
    "predicted_clusters_kmeans = df_clustering_kmeans['cluster'].values\n",
    "true_labels_kmeans = df_clustering_kmeans['class'].values"
   ]
  },
  {
   "cell_type": "markdown",
   "metadata": {},
   "source": [
    "Here we perform the calculation for the different evaluation scores that we have listed above:"
   ]
  },
  {
   "cell_type": "code",
   "execution_count": 67,
   "metadata": {},
   "outputs": [],
   "source": [
    "homogeneity_score_kmeans = homogeneity_score(true_labels_kmeans, predicted_clusters_kmeans)\n",
    "completeness_score_kmeans = completeness_score(true_labels_kmeans, predicted_clusters_kmeans)\n",
    "v_measure_score_kmeans = v_measure_score(true_labels_kmeans, predicted_clusters_kmeans)\n",
    "silhouette_score_kmeans = silhouette_score(df_clustering_kmeans.drop(['class', 'cluster'], axis=1), kmeans.labels_)\n",
    "davies_bouldin_score_kmeans = davies_bouldin_score(df_clustering_kmeans.drop(['class', 'cluster'], axis=1), kmeans.labels_)"
   ]
  },
  {
   "cell_type": "code",
   "execution_count": 68,
   "metadata": {},
   "outputs": [
    {
     "name": "stdout",
     "output_type": "stream",
     "text": [
      "homogeneity score: 0.4602957636273446 \n",
      "\n",
      "completeness score: 0.1761529310721488 \n",
      "\n",
      "v measure score: 0.2547964937262814 \n",
      "\n",
      "silhouette score 0.12345999147603387 \n",
      "\n",
      "davies bouldin score 2.7257457540389036 \n",
      "\n"
     ]
    }
   ],
   "source": [
    "print('homogeneity score:',homogeneity_score_kmeans,'\\n')\n",
    "print('completeness score:',completeness_score_kmeans,'\\n')\n",
    "print('v measure score:',v_measure_score_kmeans,'\\n')\n",
    "print('silhouette score',silhouette_score_kmeans,'\\n')\n",
    "print('davies bouldin score',davies_bouldin_score_kmeans,'\\n')"
   ]
  },
  {
   "cell_type": "markdown",
   "metadata": {},
   "source": [
    "We can utilize the silhouette_score to compute and plot the different values for different K given. In our case te K range given is between 2 and 10."
   ]
  },
  {
   "cell_type": "code",
   "execution_count": 69,
   "metadata": {},
   "outputs": [
    {
     "name": "stdout",
     "output_type": "stream",
     "text": [
      "elapsed time to train the models: 122.34560465812683\n"
     ]
    }
   ],
   "source": [
    "start_time = time.time()\n",
    "\n",
    "silhouette_values = []\n",
    "for k in range(2, 11):\n",
    "    kmeans_2 = KMeans(n_clusters=k).fit(df_clustering.drop(['class'], axis=1))\n",
    "    silhouette_values.append(silhouette_score(df_clustering.drop(['class'], axis=1), kmeans_2.labels_))\n",
    "    \n",
    "\n",
    "elapsed_time_kmeans_2 = time.time() - start_time\n",
    "print('elapsed time to train the models:',elapsed_time_kmeans_2)"
   ]
  },
  {
   "cell_type": "code",
   "execution_count": 70,
   "metadata": {
    "scrolled": true
   },
   "outputs": [
    {
     "data": {
      "image/png": "[encoded data removed]",
      "text/plain": [
       "<Figure size 432x288 with 1 Axes>"
      ]
     },
     "metadata": {
      "needs_background": "light"
     },
     "output_type": "display_data"
    }
   ],
   "source": [
    "fig, ax = plt.subplots()\n",
    "ax.plot(range(2, 11), silhouette_values)\n",
    "ax.set_xticks(range(2, 11))\n",
    "ax.set_title('KMEANS - Silhouette for varying K')\n",
    "ax.set_xlabel('K')\n",
    "plt.show()"
   ]
  },
  {
   "cell_type": "markdown",
   "metadata": {},
   "source": [
    "We can do the same thing for the davies_bouldin_score for different K, always in the same range."
   ]
  },
  {
   "cell_type": "code",
   "execution_count": 71,
   "metadata": {},
   "outputs": [
    {
     "name": "stdout",
     "output_type": "stream",
     "text": [
      "elapsed time to train the models: 58.530372858047485\n"
     ]
    }
   ],
   "source": [
    "start_time = time.time()\n",
    "\n",
    "davies_bouldin_values = []\n",
    "for k in range(2, 11):\n",
    "    kmeans_3 = KMeans(n_clusters=k).fit(df_clustering.drop(['class'], axis=1))\n",
    "    davies_bouldin_values.append(davies_bouldin_score(df_clustering.drop(['class'], axis=1), kmeans_3.labels_))\n",
    "\n",
    "elapsed_time_kmeans_2 = time.time() - start_time\n",
    "print('elapsed time to train the models:',elapsed_time_kmeans_2)"
   ]
  },
  {
   "cell_type": "code",
   "execution_count": 72,
   "metadata": {
    "scrolled": true
   },
   "outputs": [
    {
     "data": {
      "image/png": "[encoded data removed]",
      "text/plain": [
       "<Figure size 432x288 with 1 Axes>"
      ]
     },
     "metadata": {
      "needs_background": "light"
     },
     "output_type": "display_data"
    }
   ],
   "source": [
    "fig, ax = plt.subplots()\n",
    "ax.plot(range(2, 11), davies_bouldin_values)\n",
    "ax.set_xticks(range(2, 11))\n",
    "ax.set_title('KMEANS - Davies Bouldin score for varying K')\n",
    "ax.set_xlabel('K')\n",
    "plt.show()"
   ]
  },
  {
   "cell_type": "markdown",
   "metadata": {},
   "source": [
    " "
   ]
  },
  {
   "cell_type": "markdown",
   "metadata": {},
   "source": [
    "Homogeneity score for K range between 2 and 10."
   ]
  },
  {
   "cell_type": "code",
   "execution_count": 73,
   "metadata": {},
   "outputs": [],
   "source": [
    "homogeneity_values = []\n",
    "for k in range(2, 11):\n",
    "    kmeans_4 = KMeans(n_clusters=k).fit(df_clustering.drop(['class'], axis=1))\n",
    "    homogeneity_values.append(homogeneity_score(df_clustering['class'].values, kmeans_4.labels_))"
   ]
  },
  {
   "cell_type": "code",
   "execution_count": 74,
   "metadata": {
    "scrolled": true
   },
   "outputs": [
    {
     "data": {
      "image/png": "[encoded data removed]",
      "text/plain": [
       "<Figure size 432x288 with 1 Axes>"
      ]
     },
     "metadata": {
      "needs_background": "light"
     },
     "output_type": "display_data"
    }
   ],
   "source": [
    "fig, ax = plt.subplots()\n",
    "ax.plot(range(2, 11), homogeneity_values)\n",
    "ax.set_xticks(range(2, 11))\n",
    "ax.set_title('KMEANS - Homogeneity for varying K')\n",
    "ax.set_xlabel('K')\n",
    "plt.show()"
   ]
  },
  {
   "cell_type": "markdown",
   "metadata": {},
   "source": [
    " "
   ]
  },
  {
   "cell_type": "markdown",
   "metadata": {},
   "source": [
    "Completeness score for K range between 2 and 10."
   ]
  },
  {
   "cell_type": "code",
   "execution_count": 75,
   "metadata": {},
   "outputs": [],
   "source": [
    "completeness_values = []\n",
    "for k in range(2, 11):\n",
    "    kmeans_5 = KMeans(n_clusters=k).fit(df_clustering.drop(['class'], axis=1))\n",
    "    completeness_values.append(completeness_score(df_clustering['class'].values, kmeans_5.labels_))"
   ]
  },
  {
   "cell_type": "code",
   "execution_count": 76,
   "metadata": {
    "scrolled": true
   },
   "outputs": [
    {
     "data": {
      "image/png": "[encoded data removed]",
      "text/plain": [
       "<Figure size 432x288 with 1 Axes>"
      ]
     },
     "metadata": {
      "needs_background": "light"
     },
     "output_type": "display_data"
    }
   ],
   "source": [
    "fig, ax = plt.subplots()\n",
    "ax.plot(range(2, 11), completeness_values)\n",
    "ax.set_xticks(range(2, 11))\n",
    "ax.set_title('KMEANS - Completeness for varying K')\n",
    "ax.set_xlabel('K')\n",
    "plt.show()"
   ]
  },
  {
   "cell_type": "markdown",
   "metadata": {},
   "source": [
    " "
   ]
  },
  {
   "cell_type": "markdown",
   "metadata": {},
   "source": [
    "V_measure for K in range between 2 and 10."
   ]
  },
  {
   "cell_type": "code",
   "execution_count": 77,
   "metadata": {},
   "outputs": [],
   "source": [
    "v_measure_values = []\n",
    "for k in range(2, 11):\n",
    "    kmeans_6 = KMeans(n_clusters=k).fit(df_clustering.drop(['class'], axis=1))\n",
    "    v_measure_values.append(v_measure_score(df_clustering['class'].values, kmeans_6.labels_))"
   ]
  },
  {
   "cell_type": "code",
   "execution_count": 78,
   "metadata": {
    "scrolled": true
   },
   "outputs": [
    {
     "data": {
      "image/png": "[encoded data removed]",
      "text/plain": [
       "<Figure size 432x288 with 1 Axes>"
      ]
     },
     "metadata": {
      "needs_background": "light"
     },
     "output_type": "display_data"
    }
   ],
   "source": [
    "fig, ax = plt.subplots()\n",
    "ax.plot(range(2, 11), v_measure_values)\n",
    "ax.set_xticks(range(2, 11))\n",
    "ax.set_title('KMEANS - v-measure for varying K')\n",
    "ax.set_xlabel('K')\n",
    "plt.show()"
   ]
  },
  {
   "cell_type": "markdown",
   "metadata": {},
   "source": [
    " "
   ]
  },
  {
   "cell_type": "markdown",
   "metadata": {},
   "source": [
    "### 5.2. Hierarchical Clustering"
   ]
  },
  {
   "cell_type": "markdown",
   "metadata": {},
   "source": [
    "Hierarchical clustering is a general family of clustering algorithms that build nested clusters by merging or splitting them successively. This hierarchy of clusters is represented as a tree (or dendrogram). The root of the tree is the unique cluster that gathers all the samples, the leaves being the clusters with only one sample. \n",
    "\n",
    "The AgglomerativeClustering object performs a hierarchical clustering using a bottom up approach: each observation starts in its own cluster, and clusters are successively merged together. The algorithm is the following:\n",
    "\n",
    "1. assign each data point to its own group \n",
    "2. merge 2 groups that are most similar\n",
    "    - according to distance metrics\n",
    "3. repeat <b>(2)</b> until only one group remains\n",
    "4. *optional* select layer of tree giving \"best\" clustering results\n",
    "\n",
    "Hierarchical clustering produces *dendogram* tree model that uses more storage space than k-means centroids, but that conveys more information about underlying structure of data.\n",
    "\n",
    "In theory, hierarchical clustering works with *any kind of distance metric/similarity function* (k-means only with Euclidean), and work with *any kind of data* (k-means requires numerical data)"
   ]
  },
  {
   "cell_type": "markdown",
   "metadata": {},
   "source": [
    " - https://scikit-learn.org/stable/modules/generated/sklearn.cluster.AgglomerativeClustering.html#sklearn.cluster.AgglomerativeClustering"
   ]
  },
  {
   "cell_type": "markdown",
   "metadata": {},
   "source": [
    "For this clustering we are going to first drop the dummy column of the value \"?\" from our original \"df_one_hot\"."
   ]
  },
  {
   "cell_type": "code",
   "execution_count": 79,
   "metadata": {},
   "outputs": [],
   "source": [
    "# df_clustering = df_one_hot.drop(['TelephonyManager.getSimCountryIso_?'], axis=1)"
   ]
  },
  {
   "cell_type": "code",
   "execution_count": 80,
   "metadata": {},
   "outputs": [],
   "source": [
    "df_clustering_agglomerative = df_one_hot.drop(['TelephonyManager.getSimCountryIso_?'], axis=1)"
   ]
  },
  {
   "cell_type": "code",
   "execution_count": 81,
   "metadata": {},
   "outputs": [],
   "source": [
    "# df_clustering_agglomerative.columns"
   ]
  },
  {
   "cell_type": "markdown",
   "metadata": {},
   "source": [
    "Here we are fitting the Agglomerative Clustering algorithm on the new dataframe that we have created. Remember, we always drop the column \"class\" before training the algorithm."
   ]
  },
  {
   "cell_type": "code",
   "execution_count": 82,
   "metadata": {},
   "outputs": [
    {
     "name": "stdout",
     "output_type": "stream",
     "text": [
      "elapsed time to train agglomerative clustering algorithm:  57.96488666534424\n"
     ]
    }
   ],
   "source": [
    "start_time = time.time()\n",
    "\n",
    "agglomerative = AgglomerativeClustering(n_clusters=6, affinity='euclidean',linkage='ward').fit(df_clustering_agglomerative.drop(('class'),axis=1))\n",
    "\n",
    "elapsed_training_time_agglomerative = time.time() - start_time\n",
    "print('elapsed time to train agglomerative clustering algorithm: ',elapsed_training_time_agglomerative)"
   ]
  },
  {
   "cell_type": "markdown",
   "metadata": {},
   "source": [
    "Here we retrieve some useful information from the algorithm:\n",
    "- Number of leaves\n",
    "- Labels of the elements of the dataframe\n",
    "- Estimated number of connected components in the graph"
   ]
  },
  {
   "cell_type": "code",
   "execution_count": 83,
   "metadata": {
    "scrolled": true
   },
   "outputs": [
    {
     "data": {
      "text/plain": [
       "15036"
      ]
     },
     "execution_count": 83,
     "metadata": {},
     "output_type": "execute_result"
    }
   ],
   "source": [
    "agglomerative.n_leaves_"
   ]
  },
  {
   "cell_type": "code",
   "execution_count": 84,
   "metadata": {
    "scrolled": true
   },
   "outputs": [
    {
     "data": {
      "text/plain": [
       "array([3, 3, 3, ..., 4, 2, 2], dtype=int64)"
      ]
     },
     "execution_count": 84,
     "metadata": {},
     "output_type": "execute_result"
    }
   ],
   "source": [
    "agglomerative.labels_"
   ]
  },
  {
   "cell_type": "code",
   "execution_count": 85,
   "metadata": {},
   "outputs": [
    {
     "data": {
      "text/plain": [
       "1"
      ]
     },
     "execution_count": 85,
     "metadata": {},
     "output_type": "execute_result"
    }
   ],
   "source": [
    "agglomerative.n_connected_components_"
   ]
  },
  {
   "cell_type": "markdown",
   "metadata": {},
   "source": [
    "Then, as we did before, we save the new labels in a new column of the dataframe that we are going to call \"cluster\"."
   ]
  },
  {
   "cell_type": "code",
   "execution_count": 86,
   "metadata": {},
   "outputs": [],
   "source": [
    "df_clustering_agglomerative['cluster'] = agglomerative.labels_"
   ]
  },
  {
   "cell_type": "markdown",
   "metadata": {},
   "source": [
    "#### 5.2.1. Evaluating the clustering algorithm"
   ]
  },
  {
   "cell_type": "markdown",
   "metadata": {},
   "source": [
    "Using the same metrics that we used above we try to evaluate the correctness of the clustering."
   ]
  },
  {
   "cell_type": "code",
   "execution_count": 87,
   "metadata": {},
   "outputs": [
    {
     "data": {
      "text/plain": [
       "cluster\n",
       "0    2675\n",
       "1    2046\n",
       "2    5141\n",
       "3    2382\n",
       "4    2163\n",
       "5     629\n",
       "dtype: int64"
      ]
     },
     "execution_count": 87,
     "metadata": {},
     "output_type": "execute_result"
    }
   ],
   "source": [
    "df_clustering_agglomerative.groupby('cluster').size()"
   ]
  },
  {
   "cell_type": "code",
   "execution_count": 88,
   "metadata": {},
   "outputs": [
    {
     "data": {
      "text/plain": [
       "class\n",
       "B    9476\n",
       "S    5560\n",
       "dtype: int64"
      ]
     },
     "execution_count": 88,
     "metadata": {},
     "output_type": "execute_result"
    }
   ],
   "source": [
    "df_clustering_agglomerative.groupby('class').size()"
   ]
  },
  {
   "cell_type": "code",
   "execution_count": 89,
   "metadata": {
    "scrolled": true
   },
   "outputs": [
    {
     "data": {
      "text/html": [
       "<div>\n",
       "<style scoped>\n",
       "    .dataframe tbody tr th:only-of-type {\n",
       "        vertical-align: middle;\n",
       "    }\n",
       "\n",
       "    .dataframe tbody tr th {\n",
       "        vertical-align: top;\n",
       "    }\n",
       "\n",
       "    .dataframe thead th {\n",
       "        text-align: right;\n",
       "    }\n",
       "</style>\n",
       "<table border=\"1\" class=\"dataframe\">\n",
       "  <thead>\n",
       "    <tr style=\"text-align: right;\">\n",
       "      <th></th>\n",
       "      <th>cluster</th>\n",
       "      <th>class</th>\n",
       "      <th>0</th>\n",
       "    </tr>\n",
       "  </thead>\n",
       "  <tbody>\n",
       "    <tr>\n",
       "      <th>0</th>\n",
       "      <td>0</td>\n",
       "      <td>B</td>\n",
       "      <td>650</td>\n",
       "    </tr>\n",
       "    <tr>\n",
       "      <th>2</th>\n",
       "      <td>1</td>\n",
       "      <td>B</td>\n",
       "      <td>25</td>\n",
       "    </tr>\n",
       "    <tr>\n",
       "      <th>4</th>\n",
       "      <td>2</td>\n",
       "      <td>B</td>\n",
       "      <td>5032</td>\n",
       "    </tr>\n",
       "    <tr>\n",
       "      <th>6</th>\n",
       "      <td>3</td>\n",
       "      <td>B</td>\n",
       "      <td>1203</td>\n",
       "    </tr>\n",
       "    <tr>\n",
       "      <th>8</th>\n",
       "      <td>4</td>\n",
       "      <td>B</td>\n",
       "      <td>1939</td>\n",
       "    </tr>\n",
       "    <tr>\n",
       "      <th>10</th>\n",
       "      <td>5</td>\n",
       "      <td>B</td>\n",
       "      <td>627</td>\n",
       "    </tr>\n",
       "    <tr>\n",
       "      <th>1</th>\n",
       "      <td>0</td>\n",
       "      <td>S</td>\n",
       "      <td>2025</td>\n",
       "    </tr>\n",
       "    <tr>\n",
       "      <th>3</th>\n",
       "      <td>1</td>\n",
       "      <td>S</td>\n",
       "      <td>2021</td>\n",
       "    </tr>\n",
       "    <tr>\n",
       "      <th>5</th>\n",
       "      <td>2</td>\n",
       "      <td>S</td>\n",
       "      <td>109</td>\n",
       "    </tr>\n",
       "    <tr>\n",
       "      <th>7</th>\n",
       "      <td>3</td>\n",
       "      <td>S</td>\n",
       "      <td>1179</td>\n",
       "    </tr>\n",
       "    <tr>\n",
       "      <th>9</th>\n",
       "      <td>4</td>\n",
       "      <td>S</td>\n",
       "      <td>224</td>\n",
       "    </tr>\n",
       "    <tr>\n",
       "      <th>11</th>\n",
       "      <td>5</td>\n",
       "      <td>S</td>\n",
       "      <td>2</td>\n",
       "    </tr>\n",
       "  </tbody>\n",
       "</table>\n",
       "</div>"
      ],
      "text/plain": [
       "    cluster class     0\n",
       "0         0     B   650\n",
       "2         1     B    25\n",
       "4         2     B  5032\n",
       "6         3     B  1203\n",
       "8         4     B  1939\n",
       "10        5     B   627\n",
       "1         0     S  2025\n",
       "3         1     S  2021\n",
       "5         2     S   109\n",
       "7         3     S  1179\n",
       "9         4     S   224\n",
       "11        5     S     2"
      ]
     },
     "execution_count": 89,
     "metadata": {},
     "output_type": "execute_result"
    }
   ],
   "source": [
    "df_clustering_agglomerative.groupby(['cluster', 'class']).size().reset_index().sort_values(['class'])"
   ]
  },
  {
   "cell_type": "markdown",
   "metadata": {},
   "source": [
    "As we can see it is slightly better than the other clustering algorithm.\n",
    "Now we print some score useful for the evaluation of the algorithm and after we will plot them for different K values, as we did before. The only difference is that this time the K range is between 2 and 10."
   ]
  },
  {
   "cell_type": "code",
   "execution_count": 90,
   "metadata": {},
   "outputs": [],
   "source": [
    "predicted_clusters_agglomerative = df_clustering_agglomerative['cluster'].values\n",
    "true_labels_agglomerative = df_clustering_agglomerative['class'].values"
   ]
  },
  {
   "cell_type": "code",
   "execution_count": 91,
   "metadata": {},
   "outputs": [],
   "source": [
    "homogeneity_score_agglomerative = homogeneity_score(true_labels_agglomerative, predicted_clusters_agglomerative)\n",
    "completeness_score_agglomerative = completeness_score(true_labels_agglomerative, predicted_clusters_agglomerative)\n",
    "v_measure_score_agglomerative = v_measure_score(true_labels_agglomerative, predicted_clusters_agglomerative)\n",
    "silhouette_score_agglomerative = silhouette_score(df_clustering_agglomerative.drop(['class', 'cluster'], axis=1), agglomerative.labels_)\n",
    "davies_bouldin_score_agglomerative = davies_bouldin_score(df_clustering_agglomerative.drop(['class', 'cluster'], axis=1), agglomerative.labels_)"
   ]
  },
  {
   "cell_type": "code",
   "execution_count": 92,
   "metadata": {},
   "outputs": [
    {
     "name": "stdout",
     "output_type": "stream",
     "text": [
      "homogeneity score: 0.5426620322017952 \n",
      "\n",
      "completeness score: 0.21680093245895457 \n",
      "\n",
      "v measure score: 0.30982323053494576 \n",
      "\n",
      "silhouette score 0.09886193195080295 \n",
      "\n",
      "davies bouldin score 2.78009758793795 \n",
      "\n"
     ]
    }
   ],
   "source": [
    "print('homogeneity score:',homogeneity_score_agglomerative,'\\n')\n",
    "print('completeness score:',completeness_score_agglomerative,'\\n')\n",
    "print('v measure score:',v_measure_score_agglomerative,'\\n')\n",
    "print('silhouette score',silhouette_score_agglomerative,'\\n')\n",
    "print('davies bouldin score',davies_bouldin_score_agglomerative,'\\n')"
   ]
  },
  {
   "cell_type": "markdown",
   "metadata": {},
   "source": [
    "Silhouette score:"
   ]
  },
  {
   "cell_type": "code",
   "execution_count": 93,
   "metadata": {},
   "outputs": [
    {
     "name": "stdout",
     "output_type": "stream",
     "text": [
      "elapsed time to train the models: 543.3550982475281\n"
     ]
    }
   ],
   "source": [
    "start_time = time.time()\n",
    "\n",
    "silhouette_values = []\n",
    "for k in range(2, 11):\n",
    "    agglomerative_2 = AgglomerativeClustering(n_clusters=k).fit(df_clustering.drop(['class'], axis=1))\n",
    "    silhouette_values.append(silhouette_score(df_clustering.drop(['class'], axis=1), agglomerative_2.labels_))\n",
    "\n",
    "elapsed_time_agglomerative_2 = time.time() - start_time\n",
    "print('elapsed time to train the models:',elapsed_time_agglomerative_2)"
   ]
  },
  {
   "cell_type": "code",
   "execution_count": 94,
   "metadata": {
    "scrolled": true
   },
   "outputs": [
    {
     "data": {
      "image/png": "[encoded data removed]",
      "text/plain": [
       "<Figure size 432x288 with 1 Axes>"
      ]
     },
     "metadata": {
      "needs_background": "light"
     },
     "output_type": "display_data"
    }
   ],
   "source": [
    "fig, ax = plt.subplots()\n",
    "ax.plot(range(2, 11), silhouette_values)\n",
    "ax.set_xticks(range(2, 11))\n",
    "ax.set_title('AGGLOMERATIVE - Silhouette for varying K')\n",
    "ax.set_xlabel('K')\n",
    "plt.show()"
   ]
  },
  {
   "cell_type": "markdown",
   "metadata": {},
   "source": [
    "V_measure score:"
   ]
  },
  {
   "cell_type": "code",
   "execution_count": 95,
   "metadata": {},
   "outputs": [],
   "source": [
    "v_measure_values = []\n",
    "for k in range(2, 11):\n",
    "    agglomerative_3 = AgglomerativeClustering(n_clusters=k).fit(df_clustering.drop(['class'], axis=1))\n",
    "    v_measure_values.append(v_measure_score(df_clustering['class'].values, agglomerative_3.labels_))"
   ]
  },
  {
   "cell_type": "code",
   "execution_count": 96,
   "metadata": {
    "scrolled": true
   },
   "outputs": [
    {
     "data": {
      "image/png": "[encoded data removed]",
      "text/plain": [
       "<Figure size 432x288 with 1 Axes>"
      ]
     },
     "metadata": {
      "needs_background": "light"
     },
     "output_type": "display_data"
    }
   ],
   "source": [
    "fig, ax = plt.subplots()\n",
    "ax.plot(range(2, 11), v_measure_values)\n",
    "ax.set_xticks(range(2, 11))\n",
    "ax.set_title('AGGLOMERATIVE - v-measure for varying K')\n",
    "ax.set_xlabel('K')\n",
    "plt.show()"
   ]
  },
  {
   "cell_type": "markdown",
   "metadata": {},
   "source": [
    " "
   ]
  },
  {
   "cell_type": "markdown",
   "metadata": {},
   "source": [
    "## 6. Mapping features to categories and re-classification using best hyperparameters combination"
   ]
  },
  {
   "cell_type": "markdown",
   "metadata": {},
   "source": [
    "### 6.1. Mapping from features to categories"
   ]
  },
  {
   "cell_type": "markdown",
   "metadata": {},
   "source": [
    "First thing that we have to do in this paragraph is to import some useful libraries"
   ]
  },
  {
   "cell_type": "code",
   "execution_count": 97,
   "metadata": {},
   "outputs": [],
   "source": [
    "from collections import defaultdict\n",
    "import csv"
   ]
  },
  {
   "cell_type": "code",
   "execution_count": 98,
   "metadata": {},
   "outputs": [
    {
     "data": {
      "text/plain": [
       "(15036, 216)"
      ]
     },
     "execution_count": 98,
     "metadata": {},
     "output_type": "execute_result"
    }
   ],
   "source": [
    "df.shape"
   ]
  },
  {
   "cell_type": "code",
   "execution_count": 99,
   "metadata": {},
   "outputs": [],
   "source": [
    "category = defaultdict(list)"
   ]
  },
  {
   "cell_type": "code",
   "execution_count": 100,
   "metadata": {},
   "outputs": [],
   "source": [
    "with open('../ASSIGNMENT/data/AndroidMalware/dataset-features-categories.csv','r') as csv_file:\n",
    "    for line in csv_file:\n",
    "        df_features, df_categories = line.strip().split(',')\n",
    "        category[df_categories].append(df_features)\n",
    "        \n",
    "category_mapping = {v: k for k in category for v in category[k]}"
   ]
  },
  {
   "cell_type": "code",
   "execution_count": 101,
   "metadata": {},
   "outputs": [
    {
     "data": {
      "text/plain": [
       "{'transact': 'API call signature',\n",
       " 'onServiceConnected': 'API call signature',\n",
       " 'bindService': 'API call signature',\n",
       " 'attachInterface': 'API call signature',\n",
       " 'ServiceConnection': 'API call signature',\n",
       " 'android.os.Binder': 'API call signature',\n",
       " 'Ljava.lang.Class.getCanonicalName': 'API call signature',\n",
       " 'Ljava.lang.Class.getMethods': 'API call signature',\n",
       " 'Ljava.lang.Class.cast': 'API call signature',\n",
       " 'Ljava.net.URLDecoder': 'API call signature',\n",
       " 'android.content.pm.Signature': 'API call signature',\n",
       " 'android.telephony.SmsManager': 'API call signature',\n",
       " 'getBinder': 'API call signature',\n",
       " 'ClassLoader': 'API call signature',\n",
       " 'Landroid.content.Context.registerReceiver': 'API call signature',\n",
       " 'Ljava.lang.Class.getField': 'API call signature',\n",
       " 'Landroid.content.Context.unregisterReceiver': 'API call signature',\n",
       " 'Ljava.lang.Class.getDeclaredField': 'API call signature',\n",
       " 'getCallingUid': 'API call signature',\n",
       " 'Ljavax.crypto.spec.SecretKeySpec': 'API call signature',\n",
       " 'android.content.pm.PackageInfo': 'API call signature',\n",
       " 'KeySpec': 'API call signature',\n",
       " 'TelephonyManager.getLine1Number': 'API call signature',\n",
       " 'DexClassLoader': 'API call signature',\n",
       " 'HttpGet.init': 'API call signature',\n",
       " 'SecretKey': 'API call signature',\n",
       " 'Ljava.lang.Class.getMethod': 'API call signature',\n",
       " 'System.loadLibrary': 'API call signature',\n",
       " 'android.intent.action.SEND': 'API call signature',\n",
       " 'Ljavax.crypto.Cipher': 'API call signature',\n",
       " 'android.telephony.gsm.SmsManager': 'API call signature',\n",
       " 'TelephonyManager.getSubscriberId': 'API call signature',\n",
       " 'Runtime.getRuntime': 'API call signature',\n",
       " 'Ljava.lang.Object.getClass': 'API call signature',\n",
       " 'Ljava.lang.Class.forName': 'API call signature',\n",
       " 'Binder': 'API call signature',\n",
       " 'IBinder': 'API call signature',\n",
       " 'android.os.IBinder': 'API call signature',\n",
       " 'createSubprocess': 'API call signature',\n",
       " 'URLClassLoader': 'API call signature',\n",
       " 'abortBroadcast': 'API call signature',\n",
       " 'TelephonyManager.getDeviceId': 'API call signature',\n",
       " 'getCallingPid': 'API call signature',\n",
       " 'Ljava.lang.Class.getPackage': 'API call signature',\n",
       " 'Ljava.lang.Class.getDeclaredClasses': 'API call signature',\n",
       " 'PathClassLoader': 'API call signature',\n",
       " 'TelephonyManager.getSimSerialNumber': 'API call signature',\n",
       " 'Runtime.load': 'API call signature',\n",
       " 'TelephonyManager.getCallState': 'API call signature',\n",
       " 'TelephonyManager.getSimCountryIso': 'API call signature',\n",
       " 'sendMultipartTextMessage': 'API call signature',\n",
       " 'PackageInstaller': 'API call signature',\n",
       " 'sendDataMessage': 'API call signature',\n",
       " 'HttpPost.init': 'API call signature',\n",
       " 'Ljava.lang.Class.getClasses': 'API call signature',\n",
       " 'TelephonyManager.isNetworkRoaming': 'API call signature',\n",
       " 'HttpUriRequest': 'API call signature',\n",
       " 'divideMessage': 'API call signature',\n",
       " 'Runtime.exec': 'API call signature',\n",
       " 'TelephonyManager.getNetworkOperator': 'API call signature',\n",
       " 'MessengerService': 'API call signature',\n",
       " 'IRemoteService': 'API call signature',\n",
       " 'SET_ALARM': 'API call signature',\n",
       " 'ACCOUNT_MANAGER': 'API call signature',\n",
       " 'TelephonyManager.getSimOperator': 'API call signature',\n",
       " 'onBind': 'API call signature',\n",
       " 'Process.start': 'API call signature',\n",
       " 'Context.bindService': 'API call signature',\n",
       " 'ProcessBuilder': 'API call signature',\n",
       " 'Ljava.lang.Class.getResource': 'API call signature',\n",
       " 'defineClass': 'API call signature',\n",
       " 'findClass': 'API call signature',\n",
       " 'Runtime.loadLibrary': 'API call signature',\n",
       " 'SEND_SMS': 'Manifest Permission',\n",
       " 'READ_PHONE_STATE': 'Manifest Permission',\n",
       " 'GET_ACCOUNTS': 'Manifest Permission',\n",
       " 'RECEIVE_SMS': 'Manifest Permission',\n",
       " 'READ_SMS': 'Manifest Permission',\n",
       " 'USE_CREDENTIALS': 'Manifest Permission',\n",
       " 'MANAGE_ACCOUNTS': 'Manifest Permission',\n",
       " 'WRITE_SMS': 'Manifest Permission',\n",
       " 'READ_SYNC_SETTINGS': 'Manifest Permission',\n",
       " 'AUTHENTICATE_ACCOUNTS': 'Manifest Permission',\n",
       " 'WRITE_HISTORY_BOOKMARKS': 'Manifest Permission',\n",
       " 'INSTALL_PACKAGES': 'Manifest Permission',\n",
       " 'CAMERA': 'Manifest Permission',\n",
       " 'WRITE_SYNC_SETTINGS': 'Manifest Permission',\n",
       " 'READ_HISTORY_BOOKMARKS': 'Manifest Permission',\n",
       " 'INTERNET': 'Manifest Permission',\n",
       " 'RECORD_AUDIO': 'Manifest Permission',\n",
       " 'NFC': 'Manifest Permission',\n",
       " 'ACCESS_LOCATION_EXTRA_COMMANDS': 'Manifest Permission',\n",
       " 'WRITE_APN_SETTINGS': 'Manifest Permission',\n",
       " 'BIND_REMOTEVIEWS': 'Manifest Permission',\n",
       " 'READ_PROFILE': 'Manifest Permission',\n",
       " 'MODIFY_AUDIO_SETTINGS': 'Manifest Permission',\n",
       " 'READ_SYNC_STATS': 'Manifest Permission',\n",
       " 'BROADCAST_STICKY': 'Manifest Permission',\n",
       " 'WAKE_LOCK': 'Manifest Permission',\n",
       " 'RECEIVE_BOOT_COMPLETED': 'Manifest Permission',\n",
       " 'RESTART_PACKAGES': 'Manifest Permission',\n",
       " 'BLUETOOTH': 'Manifest Permission',\n",
       " 'READ_CALENDAR': 'Manifest Permission',\n",
       " 'READ_CALL_LOG': 'Manifest Permission',\n",
       " 'SUBSCRIBED_FEEDS_WRITE': 'Manifest Permission',\n",
       " 'READ_EXTERNAL_STORAGE': 'Manifest Permission',\n",
       " 'VIBRATE': 'Manifest Permission',\n",
       " 'ACCESS_NETWORK_STATE': 'Manifest Permission',\n",
       " 'SUBSCRIBED_FEEDS_READ': 'Manifest Permission',\n",
       " 'CHANGE_WIFI_MULTICAST_STATE': 'Manifest Permission',\n",
       " 'WRITE_CALENDAR': 'Manifest Permission',\n",
       " 'MASTER_CLEAR': 'Manifest Permission',\n",
       " 'UPDATE_DEVICE_STATS': 'Manifest Permission',\n",
       " 'WRITE_CALL_LOG': 'Manifest Permission',\n",
       " 'DELETE_PACKAGES': 'Manifest Permission',\n",
       " 'GET_TASKS': 'Manifest Permission',\n",
       " 'GLOBAL_SEARCH': 'Manifest Permission',\n",
       " 'DELETE_CACHE_FILES': 'Manifest Permission',\n",
       " 'WRITE_USER_DICTIONARY': 'Manifest Permission',\n",
       " 'REORDER_TASKS': 'Manifest Permission',\n",
       " 'WRITE_PROFILE': 'Manifest Permission',\n",
       " 'SET_WALLPAPER': 'Manifest Permission',\n",
       " 'BIND_INPUT_METHOD': 'Manifest Permission',\n",
       " 'READ_SOCIAL_STREAM': 'Manifest Permission',\n",
       " 'READ_USER_DICTIONARY': 'Manifest Permission',\n",
       " 'PROCESS_OUTGOING_CALLS': 'Manifest Permission',\n",
       " 'CALL_PRIVILEGED': 'Manifest Permission',\n",
       " 'BIND_WALLPAPER': 'Manifest Permission',\n",
       " 'RECEIVE_WAP_PUSH': 'Manifest Permission',\n",
       " 'DUMP': 'Manifest Permission',\n",
       " 'BATTERY_STATS': 'Manifest Permission',\n",
       " 'ACCESS_COARSE_LOCATION': 'Manifest Permission',\n",
       " 'SET_TIME': 'Manifest Permission',\n",
       " 'WRITE_SOCIAL_STREAM': 'Manifest Permission',\n",
       " 'WRITE_SETTINGS': 'Manifest Permission',\n",
       " 'REBOOT': 'Manifest Permission',\n",
       " 'BLUETOOTH_ADMIN': 'Manifest Permission',\n",
       " 'BIND_DEVICE_ADMIN': 'Manifest Permission',\n",
       " 'WRITE_GSERVICES': 'Manifest Permission',\n",
       " 'KILL_BACKGROUND_PROCESSES': 'Manifest Permission',\n",
       " 'STATUS_BAR': 'Manifest Permission',\n",
       " 'PERSISTENT_ACTIVITY': 'Manifest Permission',\n",
       " 'CHANGE_NETWORK_STATE': 'Manifest Permission',\n",
       " 'RECEIVE_MMS': 'Manifest Permission',\n",
       " 'SET_TIME_ZONE': 'Manifest Permission',\n",
       " 'CONTROL_LOCATION_UPDATES': 'Manifest Permission',\n",
       " 'BROADCAST_WAP_PUSH': 'Manifest Permission',\n",
       " 'BIND_ACCESSIBILITY_SERVICE': 'Manifest Permission',\n",
       " 'ADD_VOICEMAIL': 'Manifest Permission',\n",
       " 'CALL_PHONE': 'Manifest Permission',\n",
       " 'BIND_APPWIDGET': 'Manifest Permission',\n",
       " 'FLASHLIGHT': 'Manifest Permission',\n",
       " 'READ_LOGS': 'Manifest Permission',\n",
       " 'SET_PROCESS_LIMIT': 'Manifest Permission',\n",
       " 'MOUNT_UNMOUNT_FILESYSTEMS': 'Manifest Permission',\n",
       " 'BIND_TEXT_SERVICE': 'Manifest Permission',\n",
       " 'INSTALL_LOCATION_PROVIDER': 'Manifest Permission',\n",
       " 'SYSTEM_ALERT_WINDOW': 'Manifest Permission',\n",
       " 'MOUNT_FORMAT_FILESYSTEMS': 'Manifest Permission',\n",
       " 'CHANGE_CONFIGURATION': 'Manifest Permission',\n",
       " 'CLEAR_APP_USER_DATA': 'Manifest Permission',\n",
       " 'CHANGE_WIFI_STATE': 'Manifest Permission',\n",
       " 'READ_FRAME_BUFFER': 'Manifest Permission',\n",
       " 'ACCESS_SURFACE_FLINGER': 'Manifest Permission',\n",
       " 'BROADCAST_SMS': 'Manifest Permission',\n",
       " 'EXPAND_STATUS_BAR': 'Manifest Permission',\n",
       " 'INTERNAL_SYSTEM_WINDOW': 'Manifest Permission',\n",
       " 'SET_ACTIVITY_WATCHER': 'Manifest Permission',\n",
       " 'WRITE_CONTACTS': 'Manifest Permission',\n",
       " 'BIND_VPN_SERVICE': 'Manifest Permission',\n",
       " 'DISABLE_KEYGUARD': 'Manifest Permission',\n",
       " 'ACCESS_MOCK_LOCATION': 'Manifest Permission',\n",
       " 'GET_PACKAGE_SIZE': 'Manifest Permission',\n",
       " 'MODIFY_PHONE_STATE': 'Manifest Permission',\n",
       " 'CHANGE_COMPONENT_ENABLED_STATE': 'Manifest Permission',\n",
       " 'CLEAR_APP_CACHE': 'Manifest Permission',\n",
       " 'SET_ORIENTATION': 'Manifest Permission',\n",
       " 'READ_CONTACTS': 'Manifest Permission',\n",
       " 'DEVICE_POWER': 'Manifest Permission',\n",
       " 'HARDWARE_TEST': 'Manifest Permission',\n",
       " 'ACCESS_WIFI_STATE': 'Manifest Permission',\n",
       " 'WRITE_EXTERNAL_STORAGE': 'Manifest Permission',\n",
       " 'ACCESS_FINE_LOCATION': 'Manifest Permission',\n",
       " 'SET_WALLPAPER_HINTS': 'Manifest Permission',\n",
       " 'SET_PREFERRED_APPLICATIONS': 'Manifest Permission',\n",
       " 'WRITE_SECURE_SETTINGS': 'Manifest Permission',\n",
       " 'android.intent.action.BOOT_COMPLETED': 'Intent',\n",
       " 'android.intent.action.PACKAGE_REPLACED': 'Intent',\n",
       " 'android.intent.action.SEND_MULTIPLE': 'Intent',\n",
       " 'android.intent.action.TIME_SET': 'Intent',\n",
       " 'android.intent.action.PACKAGE_REMOVED': 'Intent',\n",
       " 'android.intent.action.TIMEZONE_CHANGED': 'Intent',\n",
       " 'android.intent.action.ACTION_POWER_DISCONNECTED': 'Intent',\n",
       " 'android.intent.action.PACKAGE_ADDED': 'Intent',\n",
       " 'android.intent.action.ACTION_SHUTDOWN': 'Intent',\n",
       " 'android.intent.action.PACKAGE_DATA_CLEARED': 'Intent',\n",
       " 'android.intent.action.PACKAGE_CHANGED': 'Intent',\n",
       " 'android.intent.action.NEW_OUTGOING_CALL': 'Intent',\n",
       " 'android.intent.action.SENDTO': 'Intent',\n",
       " 'android.intent.action.CALL': 'Intent',\n",
       " 'android.intent.action.SCREEN_ON': 'Intent',\n",
       " 'android.intent.action.BATTERY_OKAY': 'Intent',\n",
       " 'android.intent.action.PACKAGE_RESTARTED': 'Intent',\n",
       " 'android.intent.action.CALL_BUTTON': 'Intent',\n",
       " 'android.intent.action.SCREEN_OFF': 'Intent',\n",
       " 'intent.action.RUN': 'Intent',\n",
       " 'android.intent.action.SET_WALLPAPER': 'Intent',\n",
       " 'android.intent.action.BATTERY_LOW': 'Intent',\n",
       " 'android.intent.action.ACTION_POWER_CONNECTED': 'Intent',\n",
       " 'mount': 'Commands signature',\n",
       " 'chmod': 'Commands signature',\n",
       " 'remount': 'Commands signature',\n",
       " 'chown': 'Commands signature',\n",
       " '/system/bin': 'Commands signature',\n",
       " '/system/app': 'Commands signature',\n",
       " 'class': 'B=Benign; S=Malware'}"
      ]
     },
     "execution_count": 101,
     "metadata": {},
     "output_type": "execute_result"
    }
   ],
   "source": [
    "category_mapping"
   ]
  },
  {
   "cell_type": "code",
   "execution_count": 102,
   "metadata": {},
   "outputs": [
    {
     "data": {
      "text/plain": [
       "5"
      ]
     },
     "execution_count": 102,
     "metadata": {},
     "output_type": "execute_result"
    }
   ],
   "source": [
    "len(set(category_mapping.values()))"
   ]
  },
  {
   "cell_type": "code",
   "execution_count": 103,
   "metadata": {},
   "outputs": [
    {
     "data": {
      "text/plain": [
       "dict"
      ]
     },
     "execution_count": 103,
     "metadata": {},
     "output_type": "execute_result"
    }
   ],
   "source": [
    "type(category_mapping)"
   ]
  },
  {
   "cell_type": "markdown",
   "metadata": {},
   "source": [
    "Here we are going to create a new dataframe with the category that we have mapped above. This dataframe will be used to try again the classifiers for this dataset."
   ]
  },
  {
   "cell_type": "code",
   "execution_count": 104,
   "metadata": {},
   "outputs": [],
   "source": [
    "new_df = df.rename(mapper=category_mapping,axis=1)"
   ]
  },
  {
   "cell_type": "markdown",
   "metadata": {},
   "source": [
    "Here we perform some operations on the columns of the new classifier."
   ]
  },
  {
   "cell_type": "code",
   "execution_count": 105,
   "metadata": {},
   "outputs": [
    {
     "data": {
      "text/plain": [
       "Index(['API call signature', 'API call signature', 'API call signature',\n",
       "       'API call signature', 'API call signature', 'API call signature',\n",
       "       'Manifest Permission', 'API call signature', 'API call signature',\n",
       "       'API call signature',\n",
       "       ...\n",
       "       'Manifest Permission', 'Manifest Permission', 'Manifest Permission',\n",
       "       'Manifest Permission', 'Manifest Permission', 'Manifest Permission',\n",
       "       'Manifest Permission', 'Manifest Permission', 'Manifest Permission',\n",
       "       'B=Benign; S=Malware'],\n",
       "      dtype='object', length=216)"
      ]
     },
     "execution_count": 105,
     "metadata": {},
     "output_type": "execute_result"
    }
   ],
   "source": [
    "new_df.columns"
   ]
  },
  {
   "cell_type": "code",
   "execution_count": 106,
   "metadata": {},
   "outputs": [
    {
     "data": {
      "text/plain": [
       "{'API call signature',\n",
       " 'B=Benign; S=Malware',\n",
       " 'Commands signature',\n",
       " 'Intent',\n",
       " 'Manifest Permission'}"
      ]
     },
     "execution_count": 106,
     "metadata": {},
     "output_type": "execute_result"
    }
   ],
   "source": [
    "set(new_df.columns)"
   ]
  },
  {
   "cell_type": "code",
   "execution_count": 107,
   "metadata": {},
   "outputs": [
    {
     "name": "stdout",
     "output_type": "stream",
     "text": [
      "<class 'pandas.core.frame.DataFrame'>\n",
      "RangeIndex: 15036 entries, 0 to 15035\n",
      "Data columns (total 216 columns):\n",
      "API call signature     int64\n",
      "API call signature     int64\n",
      "API call signature     int64\n",
      "API call signature     int64\n",
      "API call signature     int64\n",
      "API call signature     int64\n",
      "Manifest Permission    int64\n",
      "API call signature     int64\n",
      "API call signature     int64\n",
      "API call signature     int64\n",
      "API call signature     int64\n",
      "API call signature     int64\n",
      "API call signature     int64\n",
      "Manifest Permission    int64\n",
      "API call signature     int64\n",
      "API call signature     int64\n",
      "API call signature     int64\n",
      "API call signature     int64\n",
      "API call signature     int64\n",
      "Manifest Permission    int64\n",
      "Manifest Permission    int64\n",
      "API call signature     int64\n",
      "Manifest Permission    int64\n",
      "API call signature     int64\n",
      "API call signature     int64\n",
      "Intent                 int64\n",
      "Manifest Permission    int64\n",
      "Manifest Permission    int64\n",
      "API call signature     int64\n",
      "API call signature     int64\n",
      "API call signature     int64\n",
      "API call signature     int64\n",
      "API call signature     int64\n",
      "API call signature     int64\n",
      "API call signature     int64\n",
      "API call signature     int64\n",
      "API call signature     int64\n",
      "API call signature     int64\n",
      "Manifest Permission    int64\n",
      "Manifest Permission    int64\n",
      "Manifest Permission    int64\n",
      "API call signature     int64\n",
      "Manifest Permission    int64\n",
      "API call signature     int64\n",
      "Commands signature     int64\n",
      "Manifest Permission    int64\n",
      "API call signature     int64\n",
      "Manifest Permission    int64\n",
      "API call signature     int64\n",
      "Manifest Permission    int64\n",
      "Manifest Permission    int64\n",
      "API call signature     int64\n",
      "Manifest Permission    int64\n",
      "Intent                 int64\n",
      "API call signature     int64\n",
      "Intent                 int64\n",
      "Manifest Permission    int64\n",
      "API call signature     int64\n",
      "API call signature     int64\n",
      "API call signature     int64\n",
      "Manifest Permission    int64\n",
      "Manifest Permission    int64\n",
      "API call signature     int64\n",
      "Manifest Permission    int64\n",
      "API call signature     int64\n",
      "Manifest Permission    int64\n",
      "Intent                 int64\n",
      "Manifest Permission    int64\n",
      "API call signature     int64\n",
      "Manifest Permission    int64\n",
      "API call signature     int64\n",
      "Manifest Permission    int64\n",
      "Manifest Permission    int64\n",
      "Intent                 int64\n",
      "Intent                 int64\n",
      "Manifest Permission    int64\n",
      "Manifest Permission    int64\n",
      "Manifest Permission    int64\n",
      "API call signature     int64\n",
      "Commands signature     int64\n",
      "API call signature     int64\n",
      "Intent                 int64\n",
      "Intent                 int64\n",
      "API call signature     int64\n",
      "API call signature     int64\n",
      "API call signature     int64\n",
      "API call signature     int64\n",
      "Manifest Permission    int64\n",
      "Manifest Permission    int64\n",
      "Manifest Permission    int64\n",
      "Manifest Permission    int64\n",
      "Manifest Permission    int64\n",
      "API call signature     object\n",
      "API call signature     int64\n",
      "API call signature     int64\n",
      "Manifest Permission    int64\n",
      "Commands signature     int64\n",
      "Intent                 int64\n",
      "API call signature     int64\n",
      "Manifest Permission    int64\n",
      "Commands signature     int64\n",
      "API call signature     int64\n",
      "API call signature     int64\n",
      "Manifest Permission    int64\n",
      "API call signature     int64\n",
      "Manifest Permission    int64\n",
      "Manifest Permission    int64\n",
      "Intent                 int64\n",
      "Manifest Permission    int64\n",
      "API call signature     int64\n",
      "Manifest Permission    int64\n",
      "Manifest Permission    int64\n",
      "Manifest Permission    int64\n",
      "Manifest Permission    int64\n",
      "Manifest Permission    int64\n",
      "Manifest Permission    int64\n",
      "Manifest Permission    int64\n",
      "Intent                 int64\n",
      "Intent                 int64\n",
      "Manifest Permission    int64\n",
      "Manifest Permission    int64\n",
      "Manifest Permission    int64\n",
      "Manifest Permission    int64\n",
      "API call signature     int64\n",
      "Manifest Permission    int64\n",
      "Manifest Permission    int64\n",
      "Manifest Permission    int64\n",
      "Manifest Permission    int64\n",
      "API call signature     int64\n",
      "Manifest Permission    int64\n",
      "Manifest Permission    int64\n",
      "Manifest Permission    int64\n",
      "Manifest Permission    int64\n",
      "Manifest Permission    int64\n",
      "Manifest Permission    int64\n",
      "Intent                 int64\n",
      "Manifest Permission    int64\n",
      "Manifest Permission    int64\n",
      "Manifest Permission    int64\n",
      "Manifest Permission    int64\n",
      "API call signature     int64\n",
      "Commands signature     int64\n",
      "API call signature     int64\n",
      "Manifest Permission    int64\n",
      "Manifest Permission    int64\n",
      "API call signature     int64\n",
      "Manifest Permission    int64\n",
      "API call signature     int64\n",
      "API call signature     int64\n",
      "Commands signature     int64\n",
      "Intent                 int64\n",
      "Manifest Permission    int64\n",
      "API call signature     int64\n",
      "Manifest Permission    int64\n",
      "Manifest Permission    int64\n",
      "API call signature     int64\n",
      "API call signature     int64\n",
      "Intent                 int64\n",
      "API call signature     int64\n",
      "Manifest Permission    int64\n",
      "Manifest Permission    int64\n",
      "Intent                 int64\n",
      "Manifest Permission    int64\n",
      "Manifest Permission    int64\n",
      "Manifest Permission    int64\n",
      "Manifest Permission    int64\n",
      "Manifest Permission    int64\n",
      "API call signature     int64\n",
      "Manifest Permission    int64\n",
      "Manifest Permission    int64\n",
      "Manifest Permission    int64\n",
      "API call signature     int64\n",
      "API call signature     int64\n",
      "Manifest Permission    int64\n",
      "Intent                 int64\n",
      "Manifest Permission    int64\n",
      "Manifest Permission    int64\n",
      "Manifest Permission    int64\n",
      "Intent                 int64\n",
      "Intent                 int64\n",
      "API call signature     int64\n",
      "Manifest Permission    int64\n",
      "Manifest Permission    int64\n",
      "Manifest Permission    int64\n",
      "Manifest Permission    int64\n",
      "Intent                 int64\n",
      "Intent                 int64\n",
      "Manifest Permission    int64\n",
      "Manifest Permission    int64\n",
      "Manifest Permission    int64\n",
      "API call signature     int64\n",
      "Manifest Permission    int64\n",
      "Manifest Permission    int64\n",
      "Manifest Permission    int64\n",
      "Intent                 int64\n",
      "Manifest Permission    int64\n",
      "Manifest Permission    int64\n",
      "Intent                 int64\n",
      "Manifest Permission    int64\n",
      "Manifest Permission    int64\n",
      "Manifest Permission    int64\n",
      "Manifest Permission    int64\n",
      "Manifest Permission    int64\n",
      "Manifest Permission    int64\n",
      "Manifest Permission    int64\n",
      "Manifest Permission    int64\n",
      "Manifest Permission    int64\n",
      "Manifest Permission    int64\n",
      "Manifest Permission    int64\n",
      "Manifest Permission    int64\n",
      "Manifest Permission    int64\n",
      "Manifest Permission    int64\n",
      "Manifest Permission    int64\n",
      "Manifest Permission    int64\n",
      "Manifest Permission    int64\n",
      "B=Benign; S=Malware    object\n",
      "dtypes: int64(214), object(2)\n",
      "memory usage: 24.8+ MB\n"
     ]
    }
   ],
   "source": [
    "new_df.info(verbose=True)"
   ]
  },
  {
   "cell_type": "code",
   "execution_count": 108,
   "metadata": {
    "scrolled": false
   },
   "outputs": [
    {
     "data": {
      "text/plain": [
       "0        0\n",
       "1        0\n",
       "2        0\n",
       "3        0\n",
       "4        0\n",
       "        ..\n",
       "15031    1\n",
       "15032    0\n",
       "15033    0\n",
       "15034    0\n",
       "15035    1\n",
       "Name: API call signature, Length: 15036, dtype: object"
      ]
     },
     "execution_count": 108,
     "metadata": {},
     "output_type": "execute_result"
    }
   ],
   "source": [
    "new_df.iloc[:,92]"
   ]
  },
  {
   "cell_type": "markdown",
   "metadata": {},
   "source": [
    "### 6.2. New test of the classifiers"
   ]
  },
  {
   "cell_type": "markdown",
   "metadata": {},
   "source": [
    "Now, we can create again the dummy variables for the dataframe with the mapped categories. Before getting dummies we are dropping the columns that contain the classification, Benign and Malware."
   ]
  },
  {
   "cell_type": "code",
   "execution_count": 109,
   "metadata": {},
   "outputs": [],
   "source": [
    "new_df_dummy = pd.get_dummies(new_df.drop('B=Benign; S=Malware',axis=1))"
   ]
  },
  {
   "cell_type": "code",
   "execution_count": 110,
   "metadata": {},
   "outputs": [
    {
     "name": "stdout",
     "output_type": "stream",
     "text": [
      "<class 'pandas.core.frame.DataFrame'>\n",
      "RangeIndex: 15036 entries, 0 to 15035\n",
      "Columns: 216 entries, API call signature to B=Benign; S=Malware\n",
      "dtypes: int64(214), object(2)\n",
      "memory usage: 24.8+ MB\n"
     ]
    }
   ],
   "source": [
    "new_df.info()"
   ]
  },
  {
   "cell_type": "code",
   "execution_count": 111,
   "metadata": {},
   "outputs": [
    {
     "name": "stdout",
     "output_type": "stream",
     "text": [
      "<class 'pandas.core.frame.DataFrame'>\n",
      "RangeIndex: 15036 entries, 0 to 15035\n",
      "Columns: 217 entries, API call signature to API call signature_?\n",
      "dtypes: int64(214), uint8(3)\n",
      "memory usage: 24.6 MB\n"
     ]
    }
   ],
   "source": [
    "new_df_dummy.info()"
   ]
  },
  {
   "cell_type": "markdown",
   "metadata": {},
   "source": [
    " "
   ]
  },
  {
   "cell_type": "markdown",
   "metadata": {},
   "source": [
    "As we did before we are splitting the dataframe into train and test variables, the train variables will be 70% of the dataframe and test ones will be the remaining 30%."
   ]
  },
  {
   "cell_type": "code",
   "execution_count": 112,
   "metadata": {},
   "outputs": [],
   "source": [
    "new_X_train, new_X_test, new_y_train, new_y_test = train_test_split(\n",
    "    new_df_dummy, \n",
    "    new_df['B=Benign; S=Malware'], \n",
    "    test_size=0.3)"
   ]
  },
  {
   "cell_type": "code",
   "execution_count": 113,
   "metadata": {},
   "outputs": [],
   "source": [
    "# new_X_train.columns"
   ]
  },
  {
   "cell_type": "markdown",
   "metadata": {},
   "source": [
    "<b> NB. For all the classifier that we are going to use now we are using the best hyperparameter that we have found before. </b>"
   ]
  },
  {
   "cell_type": "markdown",
   "metadata": {},
   "source": [
    "#### 6.2.1. Decision Tree"
   ]
  },
  {
   "cell_type": "markdown",
   "metadata": {},
   "source": [
    "Training and Prediction:"
   ]
  },
  {
   "cell_type": "code",
   "execution_count": 114,
   "metadata": {},
   "outputs": [
    {
     "name": "stdout",
     "output_type": "stream",
     "text": [
      "Elapsed time to fit the model: 0.50 seconds \n",
      "\n",
      "Elapsed time to make the predictions: 0.06 seconds \n",
      "\n"
     ]
    }
   ],
   "source": [
    "start_time = time.time()\n",
    "#print(time.time())\n",
    "\n",
    "clf_newDT = DecisionTreeClassifier(criterion='entropy',max_depth=300,max_leaf_nodes=300,splitter='best').fit(new_X_train.drop(new_X_train.columns[-1],axis=1), new_y_train)\n",
    "\n",
    "elapsed_training_time_newDT = time.time() - start_time\n",
    "print(\"Elapsed time to fit the model: %.2f seconds\" % elapsed_training_time_newDT,'\\n')\n",
    "\n",
    "start_time = time.time()\n",
    "\n",
    "y_pred_newDT = clf_newDT.predict(new_X_test.drop(new_X_test.columns[-1],axis=1))\n",
    "\n",
    "elapsed_prediction_time_newDT = time.time() - start_time\n",
    "print(\"Elapsed time to make the predictions: %.2f seconds\" % elapsed_prediction_time_newDT,'\\n')"
   ]
  },
  {
   "cell_type": "markdown",
   "metadata": {},
   "source": [
    "Creating variables for metrics:"
   ]
  },
  {
   "cell_type": "code",
   "execution_count": 115,
   "metadata": {},
   "outputs": [],
   "source": [
    "accuracy_score_newDT = accuracy_score(new_y_test,y_pred_newDT)\n",
    "\n",
    "classification_report_newDT = classification_report(new_y_test,y_pred_newDT,digits=5)\n",
    "\n",
    "balanced_accuracy_score_newDT = balanced_accuracy_score(new_y_test,y_pred_newDT)\n",
    "\n",
    "confusion_matrix_true_newDT = confusion_matrix(new_y_test, new_y_test)   \n",
    "\n",
    "confusion_matrix_pred_newDT = confusion_matrix(new_y_test,y_pred_newDT)"
   ]
  },
  {
   "cell_type": "markdown",
   "metadata": {},
   "source": [
    "Here we are searching for the first 15 features in order of importance."
   ]
  },
  {
   "cell_type": "code",
   "execution_count": 116,
   "metadata": {},
   "outputs": [],
   "source": [
    "sort_importances = np.argsort(clf_newDT.feature_importances_)\n",
    "top_15_features_newDT = sort_importances[0:15]"
   ]
  },
  {
   "cell_type": "code",
   "execution_count": 117,
   "metadata": {},
   "outputs": [
    {
     "data": {
      "text/plain": [
       "array([107,  86,  85, 148,  83, 149,  81,  80, 150, 155, 156, 157, 158,\n",
       "        71,  70], dtype=int64)"
      ]
     },
     "execution_count": 117,
     "metadata": {},
     "output_type": "execute_result"
    }
   ],
   "source": [
    "top_15_features_newDT"
   ]
  },
  {
   "cell_type": "code",
   "execution_count": 118,
   "metadata": {},
   "outputs": [
    {
     "data": {
      "text/plain": [
       "Index(['Manifest Permission', 'API call signature', 'API call signature',\n",
       "       'Commands signature', 'API call signature', 'Intent', 'Intent',\n",
       "       'API call signature', 'Manifest Permission', 'API call signature',\n",
       "       'Intent', 'API call signature', 'Manifest Permission',\n",
       "       'Manifest Permission', 'API call signature'],\n",
       "      dtype='object')"
      ]
     },
     "execution_count": 118,
     "metadata": {},
     "output_type": "execute_result"
    }
   ],
   "source": [
    "new_X_train.columns[top_15_features_newDT]"
   ]
  },
  {
   "cell_type": "markdown",
   "metadata": {},
   "source": [
    " "
   ]
  },
  {
   "cell_type": "markdown",
   "metadata": {},
   "source": [
    "#### 6.2.2. Random Forest"
   ]
  },
  {
   "cell_type": "markdown",
   "metadata": {},
   "source": [
    "Training and Prediction:"
   ]
  },
  {
   "cell_type": "code",
   "execution_count": 119,
   "metadata": {},
   "outputs": [
    {
     "name": "stderr",
     "output_type": "stream",
     "text": [
      "[Parallel(n_jobs=1)]: Using backend SequentialBackend with 1 concurrent workers.\n",
      "[Parallel(n_jobs=1)]: Done 200 out of 200 | elapsed:    3.0s finished\n",
      "[Parallel(n_jobs=1)]: Using backend SequentialBackend with 1 concurrent workers.\n"
     ]
    },
    {
     "name": "stdout",
     "output_type": "stream",
     "text": [
      "Elapsed time to fit the model: 3.55 seconds \n",
      "\n",
      "Elapsed time to make the predictions: 0.21 seconds \n",
      "\n"
     ]
    },
    {
     "name": "stderr",
     "output_type": "stream",
     "text": [
      "[Parallel(n_jobs=1)]: Done 200 out of 200 | elapsed:    0.1s finished\n"
     ]
    }
   ],
   "source": [
    "start_time = time.time()\n",
    "#print(time.time())\n",
    "\n",
    "clf_newRF = RandomForestClassifier(criterion='gini',verbose=1,warm_start=True,max_depth=340,max_leaf_nodes=None,n_estimators=200).fit(new_X_train.drop(new_X_train.columns[-1],axis=1), new_y_train)\n",
    "\n",
    "elapsed_training_time_newRF = time.time() - start_time\n",
    "print(\"Elapsed time to fit the model: %.2f seconds\" % elapsed_training_time_newRF,'\\n')\n",
    "\n",
    "start_time = time.time()\n",
    "\n",
    "y_pred_newRF = clf_newRF.predict(new_X_test.drop(new_X_test.columns[-1],axis=1))\n",
    "\n",
    "elapsed_prediction_time_newRF = time.time() - start_time\n",
    "print(\"Elapsed time to make the predictions: %.2f seconds\" % elapsed_prediction_time_newRF,'\\n')"
   ]
  },
  {
   "cell_type": "markdown",
   "metadata": {},
   "source": [
    "Saving variables of various metrics:"
   ]
  },
  {
   "cell_type": "code",
   "execution_count": 120,
   "metadata": {},
   "outputs": [],
   "source": [
    "accuracy_score_newRF = accuracy_score(new_y_test,y_pred_newRF)\n",
    "\n",
    "classification_report_newRF = classification_report(new_y_test,y_pred_newRF,digits=5)\n",
    "\n",
    "balanced_accuracy_score_newRF = balanced_accuracy_score(new_y_test,y_pred_newRF)\n",
    "\n",
    "confusion_matrix_true_newRF = confusion_matrix(new_y_test, new_y_test)   \n",
    "\n",
    "confusion_matrix_pred_newRF = confusion_matrix(new_y_test,y_pred_newRF)"
   ]
  },
  {
   "cell_type": "markdown",
   "metadata": {},
   "source": [
    "Checking the first features in order of importance:"
   ]
  },
  {
   "cell_type": "code",
   "execution_count": 121,
   "metadata": {},
   "outputs": [],
   "source": [
    "sort_importances = np.argsort(clf_newRF.feature_importances_)\n",
    "top_15_features_newRF = sort_importances[0:15]"
   ]
  },
  {
   "cell_type": "code",
   "execution_count": 122,
   "metadata": {},
   "outputs": [
    {
     "data": {
      "text/plain": [
       "array([197, 141, 155, 157, 184, 135, 164, 123, 175, 189, 181, 159, 119,\n",
       "       163, 118], dtype=int64)"
      ]
     },
     "execution_count": 122,
     "metadata": {},
     "output_type": "execute_result"
    }
   ],
   "source": [
    "top_15_features_newRF"
   ]
  },
  {
   "cell_type": "code",
   "execution_count": 123,
   "metadata": {},
   "outputs": [
    {
     "data": {
      "text/plain": [
       "Index(['Manifest Permission', 'API call signature', 'API call signature',\n",
       "       'API call signature', 'Intent', 'Manifest Permission',\n",
       "       'Manifest Permission', 'Manifest Permission', 'Manifest Permission',\n",
       "       'API call signature', 'Manifest Permission', 'Manifest Permission',\n",
       "       'Manifest Permission', 'Manifest Permission', 'Manifest Permission'],\n",
       "      dtype='object')"
      ]
     },
     "execution_count": 123,
     "metadata": {},
     "output_type": "execute_result"
    }
   ],
   "source": [
    "new_X_train.columns[top_15_features_newRF]"
   ]
  },
  {
   "cell_type": "markdown",
   "metadata": {},
   "source": [
    " "
   ]
  },
  {
   "cell_type": "markdown",
   "metadata": {},
   "source": [
    "#### 6.2.3. Multi-layer Perceptron"
   ]
  },
  {
   "cell_type": "markdown",
   "metadata": {},
   "source": [
    "Training and Prediction:"
   ]
  },
  {
   "cell_type": "code",
   "execution_count": 124,
   "metadata": {
    "scrolled": false
   },
   "outputs": [
    {
     "name": "stdout",
     "output_type": "stream",
     "text": [
      "Iteration 1, loss = 0.26927297\n",
      "Iteration 2, loss = 0.10720428\n",
      "Iteration 3, loss = 0.07937824\n",
      "Iteration 4, loss = 0.06580859\n",
      "Iteration 5, loss = 0.05802360\n",
      "Iteration 6, loss = 0.05215589\n",
      "Iteration 7, loss = 0.04747829\n",
      "Iteration 8, loss = 0.04348308\n",
      "Iteration 9, loss = 0.04002466\n",
      "Iteration 10, loss = 0.03751047\n",
      "Iteration 11, loss = 0.03411787\n",
      "Iteration 12, loss = 0.03152785\n",
      "Iteration 13, loss = 0.02927961\n",
      "Iteration 14, loss = 0.02705395\n",
      "Iteration 15, loss = 0.02546214\n",
      "Iteration 16, loss = 0.02323063\n",
      "Iteration 17, loss = 0.02184715\n",
      "Iteration 18, loss = 0.02014755\n",
      "Iteration 19, loss = 0.01924194\n",
      "Iteration 20, loss = 0.01798139\n",
      "Iteration 21, loss = 0.01675157\n",
      "Iteration 22, loss = 0.01620023\n",
      "Iteration 23, loss = 0.01479533\n",
      "Iteration 24, loss = 0.01358071\n",
      "Iteration 25, loss = 0.01297558\n",
      "Iteration 26, loss = 0.01228664\n",
      "Iteration 27, loss = 0.01165645\n",
      "Iteration 28, loss = 0.01093019\n",
      "Iteration 29, loss = 0.01030411\n",
      "Iteration 30, loss = 0.00994618\n",
      "Iteration 31, loss = 0.00941299\n",
      "Iteration 32, loss = 0.00896336\n",
      "Iteration 33, loss = 0.00859115\n",
      "Iteration 34, loss = 0.00817791\n",
      "Iteration 35, loss = 0.00762140\n",
      "Iteration 36, loss = 0.00748772\n",
      "Iteration 37, loss = 0.00716302\n",
      "Iteration 38, loss = 0.00679749\n",
      "Iteration 39, loss = 0.00653299\n",
      "Iteration 40, loss = 0.00654543\n",
      "Iteration 41, loss = 0.00609019\n",
      "Iteration 42, loss = 0.00590038\n",
      "Iteration 43, loss = 0.00573748\n",
      "Iteration 44, loss = 0.00554066\n",
      "Iteration 45, loss = 0.00542005\n",
      "Iteration 46, loss = 0.00526317\n",
      "Iteration 47, loss = 0.00515581\n",
      "Iteration 48, loss = 0.00503889\n",
      "Iteration 49, loss = 0.00493385\n",
      "Iteration 50, loss = 0.00468777\n",
      "Iteration 51, loss = 0.00456558\n",
      "Iteration 52, loss = 0.00453691\n",
      "Iteration 53, loss = 0.00437109\n",
      "Iteration 54, loss = 0.00436025\n",
      "Iteration 55, loss = 0.00421861\n",
      "Iteration 56, loss = 0.00414768\n",
      "Iteration 57, loss = 0.00407376\n",
      "Iteration 58, loss = 0.00402408\n",
      "Iteration 59, loss = 0.00398441\n",
      "Iteration 60, loss = 0.00387065\n",
      "Iteration 61, loss = 0.00380651\n",
      "Iteration 62, loss = 0.00379526\n",
      "Iteration 63, loss = 0.00369357\n",
      "Iteration 64, loss = 0.00361894\n",
      "Iteration 65, loss = 0.00361055\n",
      "Iteration 66, loss = 0.00361055\n",
      "Iteration 67, loss = 0.00347538\n",
      "Iteration 68, loss = 0.00347145\n",
      "Iteration 69, loss = 0.00344583\n",
      "Iteration 70, loss = 0.00336617\n",
      "Iteration 71, loss = 0.00332976\n",
      "Iteration 72, loss = 0.00331608\n",
      "Iteration 73, loss = 0.00327694\n",
      "Iteration 74, loss = 0.00324553\n",
      "Iteration 75, loss = 0.00326878\n",
      "Iteration 76, loss = 0.00319727\n",
      "Iteration 77, loss = 0.00316976\n",
      "Iteration 78, loss = 0.00308734\n",
      "Iteration 79, loss = 0.00313312\n",
      "Iteration 80, loss = 0.00314049\n",
      "Iteration 81, loss = 0.00320077\n",
      "Iteration 82, loss = 0.00307156\n",
      "Iteration 83, loss = 0.00306341\n",
      "Iteration 84, loss = 0.00297849\n",
      "Iteration 85, loss = 0.00302965\n",
      "Iteration 86, loss = 0.00300913\n",
      "Iteration 87, loss = 0.00294028\n",
      "Iteration 88, loss = 0.00298408\n",
      "Iteration 89, loss = 0.00292326\n",
      "Iteration 90, loss = 0.00290140\n",
      "Iteration 91, loss = 0.00290647\n",
      "Iteration 92, loss = 0.00290708\n",
      "Iteration 93, loss = 0.00292473\n",
      "Iteration 94, loss = 0.00289465\n",
      "Iteration 95, loss = 0.00284438\n",
      "Iteration 96, loss = 0.00286970\n",
      "Iteration 97, loss = 0.00302001\n",
      "Iteration 98, loss = 0.00280495\n",
      "Iteration 99, loss = 0.00285365\n",
      "Iteration 100, loss = 0.00279681\n",
      "Iteration 101, loss = 0.00275603\n",
      "Iteration 102, loss = 0.00279482\n",
      "Iteration 103, loss = 0.00277576\n",
      "Iteration 104, loss = 0.00276469\n",
      "Iteration 105, loss = 0.00283054\n",
      "Iteration 106, loss = 0.00274921\n",
      "Iteration 107, loss = 0.00275835\n",
      "Iteration 108, loss = 0.00280468\n",
      "Iteration 109, loss = 0.00274472\n",
      "Iteration 110, loss = 0.00274616\n",
      "Iteration 111, loss = 0.00275023\n",
      "Iteration 112, loss = 0.00281879\n",
      "Iteration 113, loss = 0.00273494\n",
      "Iteration 114, loss = 0.00274672\n",
      "Iteration 115, loss = 0.00269848\n",
      "Iteration 116, loss = 0.00271147\n",
      "Iteration 117, loss = 0.00276916\n",
      "Iteration 118, loss = 0.00268393\n",
      "Iteration 119, loss = 0.00274164\n",
      "Iteration 120, loss = 0.00275968\n",
      "Iteration 121, loss = 0.00273099\n",
      "Iteration 122, loss = 0.00262719\n",
      "Iteration 123, loss = 0.00267023\n",
      "Iteration 124, loss = 0.00266514\n",
      "Iteration 125, loss = 0.00267765\n",
      "Iteration 126, loss = 0.00268394\n",
      "Iteration 127, loss = 0.00267136\n",
      "Iteration 128, loss = 0.00265962\n",
      "Iteration 129, loss = 0.00260081\n",
      "Iteration 130, loss = 0.00262006\n",
      "Iteration 131, loss = 0.00272784\n",
      "Iteration 132, loss = 0.00262779\n",
      "Iteration 133, loss = 0.00261100\n",
      "Iteration 134, loss = 0.00262872\n",
      "Iteration 135, loss = 0.00263611\n",
      "Iteration 136, loss = 0.00262052\n",
      "Iteration 137, loss = 0.00270758\n",
      "Iteration 138, loss = 0.00265496\n",
      "Iteration 139, loss = 0.00267442\n",
      "Iteration 140, loss = 0.00257263\n",
      "Iteration 141, loss = 0.00259789\n",
      "Iteration 142, loss = 0.00261865\n",
      "Iteration 143, loss = 0.00266136\n",
      "Iteration 144, loss = 0.00261837\n",
      "Iteration 145, loss = 0.00262945\n",
      "Iteration 146, loss = 0.00256843\n",
      "Iteration 147, loss = 0.00271392\n",
      "Iteration 148, loss = 0.00261097\n",
      "Iteration 149, loss = 0.00254717\n",
      "Iteration 150, loss = 0.00257723\n",
      "Iteration 151, loss = 0.00257057\n",
      "Iteration 152, loss = 0.00255677\n",
      "Iteration 153, loss = 0.00259939\n",
      "Iteration 154, loss = 0.00264668\n",
      "Iteration 155, loss = 0.00255420\n",
      "Iteration 156, loss = 0.00256466\n",
      "Iteration 157, loss = 0.00256482\n",
      "Iteration 158, loss = 0.00250689\n",
      "Iteration 159, loss = 0.00265377\n",
      "Iteration 160, loss = 0.00255960\n",
      "Iteration 161, loss = 0.00258809\n",
      "Iteration 162, loss = 0.00260633\n",
      "Iteration 163, loss = 0.00258476\n",
      "Iteration 164, loss = 0.00258435\n",
      "Iteration 165, loss = 0.00254160\n",
      "Iteration 166, loss = 0.00257102\n",
      "Iteration 167, loss = 0.00265049\n",
      "Iteration 168, loss = 0.00253064\n",
      "Iteration 169, loss = 0.00257502\n",
      "Training loss did not improve more than tol=0.000001 for 10 consecutive epochs. Stopping.\n",
      "Elapsed time to fit the model: 49.54 seconds \n",
      "\n",
      "Elapsed time to make the prediction: 0.31 seconds \n",
      "\n"
     ]
    }
   ],
   "source": [
    "start_time = time.time()\n",
    "#print(time.time())\n",
    "\n",
    "clf_newMLP = MLPClassifier(hidden_layer_sizes=(300, ), activation='relu', solver='adam',learning_rate='adaptive',verbose=True,tol=0.000001)\n",
    "\n",
    "clf_newMLP.fit(new_X_train.drop(new_X_train.columns[-1],axis=1), new_y_train)\n",
    "\n",
    "elapsed_training_time_newMLP = time.time() - start_time\n",
    "print(\"Elapsed time to fit the model: %.2f seconds\" % elapsed_training_time_newMLP,'\\n')\n",
    "\n",
    "start_time = time.time()\n",
    "\n",
    "y_pred_newMLP = clf_newMLP.predict(new_X_test.drop(new_X_test.columns[-1],axis=1))\n",
    "\n",
    "elapsed_prediction_time_newMLP = time.time() - start_time\n",
    "print(\"Elapsed time to make the prediction: %.2f seconds\" % elapsed_prediction_time_newMLP,'\\n')"
   ]
  },
  {
   "cell_type": "markdown",
   "metadata": {},
   "source": [
    "Saving metrics into variables:"
   ]
  },
  {
   "cell_type": "code",
   "execution_count": 125,
   "metadata": {},
   "outputs": [],
   "source": [
    "accuracy_score_newMLP = accuracy_score(new_y_test,y_pred_newMLP)\n",
    "\n",
    "classification_report_newMLP = classification_report(new_y_test,y_pred_newMLP,digits=5)\n",
    "\n",
    "balanced_accuracy_score_newMLP = balanced_accuracy_score(new_y_test,y_pred_newMLP)\n",
    "\n",
    "confusion_matrix_true_newMLP = confusion_matrix(new_y_test, new_y_test)   \n",
    "\n",
    "confusion_matrix_pred_newMLP = confusion_matrix(new_y_test,y_pred_newMLP)"
   ]
  },
  {
   "cell_type": "code",
   "execution_count": 126,
   "metadata": {},
   "outputs": [
    {
     "data": {
      "text/plain": [
       "Index(['API call signature', 'API call signature', 'API call signature',\n",
       "       'API call signature', 'API call signature', 'API call signature',\n",
       "       'Manifest Permission', 'API call signature', 'API call signature',\n",
       "       'API call signature',\n",
       "       ...\n",
       "       'Manifest Permission', 'Manifest Permission', 'Manifest Permission',\n",
       "       'Manifest Permission', 'Manifest Permission', 'Manifest Permission',\n",
       "       'Manifest Permission', 'API call signature_0', 'API call signature_1',\n",
       "       'API call signature_?'],\n",
       "      dtype='object', length=217)"
      ]
     },
     "execution_count": 126,
     "metadata": {},
     "output_type": "execute_result"
    }
   ],
   "source": [
    "new_X_train.columns"
   ]
  },
  {
   "cell_type": "code",
   "execution_count": 127,
   "metadata": {},
   "outputs": [
    {
     "data": {
      "text/plain": [
       "(10525,)"
      ]
     },
     "execution_count": 127,
     "metadata": {},
     "output_type": "execute_result"
    }
   ],
   "source": [
    "new_y_train.shape"
   ]
  },
  {
   "cell_type": "markdown",
   "metadata": {},
   "source": [
    " "
   ]
  },
  {
   "cell_type": "markdown",
   "metadata": {},
   "source": [
    "#### 6.2.4. C-Support Vector Classification"
   ]
  },
  {
   "cell_type": "markdown",
   "metadata": {},
   "source": [
    "Training and Prediction:"
   ]
  },
  {
   "cell_type": "code",
   "execution_count": 128,
   "metadata": {},
   "outputs": [
    {
     "name": "stdout",
     "output_type": "stream",
     "text": [
      "[LibSVM]Elapsed time to fit the model: 5.67 seconds \n",
      "\n",
      "Elapsed time to make the prediction: 1.67 seconds \n",
      "\n"
     ]
    }
   ],
   "source": [
    "start_time = time.time()\n",
    "#print(time.time())\n",
    "\n",
    "clf_newSVC = SVC(verbose=1,kernel='rbf',gamma='scale',decision_function_shape='ovo')\n",
    "\n",
    "clf_newSVC.fit(new_X_train.drop(new_X_train.columns[-1],axis=1), new_y_train)\n",
    "\n",
    "elapsed_training_time_newSVC = time.time() - start_time\n",
    "print(\"Elapsed time to fit the model: %.2f seconds\" % elapsed_training_time_newSVC,'\\n')\n",
    "\n",
    "start_time = time.time()\n",
    "\n",
    "y_pred_newSVC = clf_newSVC.predict(new_X_test.drop(new_X_train.columns[-1],axis=1))\n",
    "\n",
    "elapsed_prediction_time_newSVC = time.time() - start_time\n",
    "print(\"Elapsed time to make the prediction: %.2f seconds\" % elapsed_prediction_time_newSVC,'\\n')"
   ]
  },
  {
   "cell_type": "markdown",
   "metadata": {},
   "source": [
    "Saving into variables useful metrics for evaluation:"
   ]
  },
  {
   "cell_type": "code",
   "execution_count": 129,
   "metadata": {},
   "outputs": [],
   "source": [
    "accuracy_score_newSVC = accuracy_score(new_y_test,y_pred_newSVC)\n",
    "\n",
    "classification_report_newSVC = classification_report(new_y_test,y_pred_newSVC,digits=5)\n",
    "\n",
    "balanced_accuracy_score_newSVC = balanced_accuracy_score(new_y_test,y_pred_newSVC)\n",
    "\n",
    "confusion_matrix_true_newSVC = confusion_matrix(new_y_test, new_y_test)   \n",
    "\n",
    "confusion_matrix_pred_newSVC = confusion_matrix(new_y_test,y_pred_newSVC)"
   ]
  },
  {
   "cell_type": "markdown",
   "metadata": {},
   "source": [
    "### 6.3. Merging columns before training"
   ]
  },
  {
   "cell_type": "markdown",
   "metadata": {},
   "source": [
    "<b> NB. This revealed to be not a good solutions because all the classifiers performed worse when we tried this </b>"
   ]
  },
  {
   "cell_type": "code",
   "execution_count": 130,
   "metadata": {},
   "outputs": [],
   "source": [
    "# new_df_dummy.columns"
   ]
  },
  {
   "cell_type": "markdown",
   "metadata": {},
   "source": [
    "Here we perform the merging, grouping the column and then creating a new dataframe called \"merged\" data."
   ]
  },
  {
   "cell_type": "code",
   "execution_count": 131,
   "metadata": {},
   "outputs": [],
   "source": [
    "merged_df = new_df_dummy.groupby(new_df_dummy.columns, axis=1).sum()"
   ]
  },
  {
   "cell_type": "code",
   "execution_count": 132,
   "metadata": {},
   "outputs": [],
   "source": [
    "merged_data = pd.DataFrame(merged_df)"
   ]
  },
  {
   "cell_type": "markdown",
   "metadata": {},
   "source": [
    "Here we are checking the shape of the new dataframe and comparing them with the shape of the class columns."
   ]
  },
  {
   "cell_type": "code",
   "execution_count": 133,
   "metadata": {},
   "outputs": [
    {
     "data": {
      "text/plain": [
       "(15036, 7)"
      ]
     },
     "execution_count": 133,
     "metadata": {},
     "output_type": "execute_result"
    }
   ],
   "source": [
    "merged_data.shape"
   ]
  },
  {
   "cell_type": "code",
   "execution_count": 134,
   "metadata": {
    "scrolled": true
   },
   "outputs": [
    {
     "data": {
      "text/plain": [
       "(15036,)"
      ]
     },
     "execution_count": 134,
     "metadata": {},
     "output_type": "execute_result"
    }
   ],
   "source": [
    "new_df['B=Benign; S=Malware'].shape"
   ]
  },
  {
   "cell_type": "markdown",
   "metadata": {},
   "source": [
    "Now we have to create the new train and test with the merged columns, the size remain always the same (70% for training and 30% for testing)."
   ]
  },
  {
   "cell_type": "code",
   "execution_count": 135,
   "metadata": {},
   "outputs": [],
   "source": [
    "merged_X_train, merged_X_test, merged_y_train, merged_y_test = train_test_split(\n",
    "    merged_data.drop('API call signature_?',axis=1), \n",
    "    new_df['B=Benign; S=Malware'], \n",
    "    test_size=0.3)"
   ]
  },
  {
   "cell_type": "code",
   "execution_count": 136,
   "metadata": {},
   "outputs": [],
   "source": [
    "# new_X_train.columns"
   ]
  },
  {
   "cell_type": "markdown",
   "metadata": {},
   "source": [
    "<b> NB. Also with this classifiers we are going to use the best combination of hyperparameters that we have found above. </b>"
   ]
  },
  {
   "cell_type": "markdown",
   "metadata": {},
   "source": [
    "#### 6.3.1. DecisionTree"
   ]
  },
  {
   "cell_type": "markdown",
   "metadata": {},
   "source": [
    "Training and Prediction:"
   ]
  },
  {
   "cell_type": "code",
   "execution_count": 137,
   "metadata": {},
   "outputs": [
    {
     "name": "stdout",
     "output_type": "stream",
     "text": [
      "Elapsed time to fit the model: 0.03 seconds \n",
      "\n",
      "Elapsed time to make the predictions: 0.00 seconds \n",
      "\n"
     ]
    }
   ],
   "source": [
    "start_time = time.time()\n",
    "#print(time.time())\n",
    "\n",
    "clf_mergedDT = DecisionTreeClassifier(criterion='entropy',max_depth=300,max_leaf_nodes=300,splitter='best').fit(merged_X_train, merged_y_train)\n",
    "\n",
    "elapsed_training_time_mergedDT = time.time() - start_time\n",
    "print(\"Elapsed time to fit the model: %.2f seconds\" % elapsed_training_time_mergedDT,'\\n')\n",
    "\n",
    "start_time = time.time()\n",
    "\n",
    "y_pred_mergedDT = clf_mergedDT.predict(merged_X_test)\n",
    "\n",
    "elapsed_prediction_time_mergedDT = time.time() - start_time\n",
    "print(\"Elapsed time to make the predictions: %.2f seconds\" % elapsed_prediction_time_mergedDT,'\\n')"
   ]
  },
  {
   "cell_type": "markdown",
   "metadata": {},
   "source": [
    "Saving variables of metrics:"
   ]
  },
  {
   "cell_type": "code",
   "execution_count": 138,
   "metadata": {},
   "outputs": [],
   "source": [
    "accuracy_score_mergedDT = accuracy_score(merged_y_test,y_pred_mergedDT)\n",
    "\n",
    "classification_report_mergedDT = classification_report(merged_y_test,y_pred_mergedDT,digits=5)\n",
    "\n",
    "balanced_accuracy_score_mergedDT = balanced_accuracy_score(merged_y_test,y_pred_mergedDT)\n",
    "\n",
    "confusion_matrix_true_mergedDT = confusion_matrix(merged_y_test, merged_y_test)   \n",
    "\n",
    "confusion_matrix_pred_mergedDT = confusion_matrix(merged_y_test,y_pred_mergedDT)"
   ]
  },
  {
   "cell_type": "code",
   "execution_count": 139,
   "metadata": {},
   "outputs": [
    {
     "name": "stdout",
     "output_type": "stream",
     "text": [
      "              precision    recall  f1-score   support\n",
      "\n",
      "           B    0.90776   0.94709   0.92701      2816\n",
      "           S    0.90528   0.84012   0.87148      1695\n",
      "\n",
      "    accuracy                        0.90689      4511\n",
      "   macro avg    0.90652   0.89360   0.89924      4511\n",
      "weighted avg    0.90683   0.90689   0.90614      4511\n",
      "\n"
     ]
    }
   ],
   "source": [
    "print(classification_report_mergedDT)"
   ]
  },
  {
   "cell_type": "markdown",
   "metadata": {},
   "source": [
    " "
   ]
  },
  {
   "cell_type": "markdown",
   "metadata": {},
   "source": [
    "#### 6.3.2. Random Forest"
   ]
  },
  {
   "cell_type": "markdown",
   "metadata": {},
   "source": [
    "Training and Prediction:"
   ]
  },
  {
   "cell_type": "code",
   "execution_count": 140,
   "metadata": {},
   "outputs": [
    {
     "name": "stderr",
     "output_type": "stream",
     "text": [
      "[Parallel(n_jobs=1)]: Using backend SequentialBackend with 1 concurrent workers.\n"
     ]
    },
    {
     "name": "stdout",
     "output_type": "stream",
     "text": [
      "Elapsed time to fit the model: 1.33 seconds \n",
      "\n",
      "Elapsed time to make the predictions: 0.16 seconds \n",
      "\n"
     ]
    },
    {
     "name": "stderr",
     "output_type": "stream",
     "text": [
      "[Parallel(n_jobs=1)]: Done 200 out of 200 | elapsed:    1.1s finished\n",
      "[Parallel(n_jobs=1)]: Using backend SequentialBackend with 1 concurrent workers.\n",
      "[Parallel(n_jobs=1)]: Done 200 out of 200 | elapsed:    0.1s finished\n"
     ]
    }
   ],
   "source": [
    "start_time = time.time()\n",
    "#print(time.time())\n",
    "\n",
    "clf_mergedRF = RandomForestClassifier(criterion='gini',verbose=1,warm_start=True,max_depth=340,max_leaf_nodes=None,n_estimators=200).fit(merged_X_train, merged_y_train)\n",
    "\n",
    "elapsed_training_time_mergedRF = time.time() - start_time\n",
    "print(\"Elapsed time to fit the model: %.2f seconds\" % elapsed_training_time_mergedRF,'\\n')\n",
    "\n",
    "start_time = time.time()\n",
    "\n",
    "y_pred_mergedRF = clf_mergedRF.predict(merged_X_test)\n",
    "\n",
    "elapsed_prediction_time_mergedRF = time.time() - start_time\n",
    "print(\"Elapsed time to make the predictions: %.2f seconds\" % elapsed_prediction_time_mergedRF,'\\n')"
   ]
  },
  {
   "cell_type": "markdown",
   "metadata": {},
   "source": [
    "Saving variables of metrics:"
   ]
  },
  {
   "cell_type": "code",
   "execution_count": 141,
   "metadata": {},
   "outputs": [],
   "source": [
    "accuracy_score_mergedRF = accuracy_score(merged_y_test,y_pred_mergedRF)\n",
    "\n",
    "classification_report_mergedRF = classification_report(merged_y_test,y_pred_mergedRF,digits=5)\n",
    "\n",
    "balanced_accuracy_score_mergedRF = balanced_accuracy_score(merged_y_test,y_pred_mergedRF)\n",
    "\n",
    "confusion_matrix_true_mergedRF = confusion_matrix(merged_y_test, merged_y_test)   \n",
    "\n",
    "confusion_matrix_pred_mergedRF = confusion_matrix(merged_y_test,y_pred_mergedRF)"
   ]
  },
  {
   "cell_type": "code",
   "execution_count": 142,
   "metadata": {},
   "outputs": [
    {
     "name": "stdout",
     "output_type": "stream",
     "text": [
      "              precision    recall  f1-score   support\n",
      "\n",
      "           B    0.92695   0.94176   0.93430      2816\n",
      "           S    0.90061   0.87670   0.88849      1695\n",
      "\n",
      "    accuracy                        0.91731      4511\n",
      "   macro avg    0.91378   0.90923   0.91139      4511\n",
      "weighted avg    0.91705   0.91731   0.91708      4511\n",
      "\n"
     ]
    }
   ],
   "source": [
    "print(classification_report_mergedRF)"
   ]
  },
  {
   "cell_type": "markdown",
   "metadata": {},
   "source": [
    "#### 6.3.3. Multi-layer Perceptron"
   ]
  },
  {
   "cell_type": "markdown",
   "metadata": {},
   "source": [
    "Training and Prediction:"
   ]
  },
  {
   "cell_type": "code",
   "execution_count": 143,
   "metadata": {
    "scrolled": false
   },
   "outputs": [
    {
     "name": "stdout",
     "output_type": "stream",
     "text": [
      "Iteration 1, loss = 0.58523826\n",
      "Iteration 2, loss = 0.45471491\n",
      "Iteration 3, loss = 0.41612381\n",
      "Iteration 4, loss = 0.39184121\n",
      "Iteration 5, loss = 0.37465838\n",
      "Iteration 6, loss = 0.36060125\n",
      "Iteration 7, loss = 0.35141289\n",
      "Iteration 8, loss = 0.34394462\n",
      "Iteration 9, loss = 0.34078807\n",
      "Iteration 10, loss = 0.33386720\n",
      "Iteration 11, loss = 0.33068018\n",
      "Iteration 12, loss = 0.32641365\n",
      "Iteration 13, loss = 0.32479327\n",
      "Iteration 14, loss = 0.32326239\n",
      "Iteration 15, loss = 0.32198624\n",
      "Iteration 16, loss = 0.31840381\n",
      "Iteration 17, loss = 0.31838220\n",
      "Iteration 18, loss = 0.31901001\n",
      "Iteration 19, loss = 0.31420558\n",
      "Iteration 20, loss = 0.31194420\n",
      "Iteration 21, loss = 0.31442975\n",
      "Iteration 22, loss = 0.31046751\n",
      "Iteration 23, loss = 0.30973343\n",
      "Iteration 24, loss = 0.30836589\n",
      "Iteration 25, loss = 0.30965179\n",
      "Iteration 26, loss = 0.30852552\n",
      "Iteration 27, loss = 0.30608716\n",
      "Iteration 28, loss = 0.30521647\n",
      "Iteration 29, loss = 0.30602496\n",
      "Iteration 30, loss = 0.30535060\n",
      "Iteration 31, loss = 0.30667558\n",
      "Iteration 32, loss = 0.30136760\n",
      "Iteration 33, loss = 0.30070875\n",
      "Iteration 34, loss = 0.30061197\n",
      "Iteration 35, loss = 0.29824854\n",
      "Iteration 36, loss = 0.30238299\n",
      "Iteration 37, loss = 0.29798386\n",
      "Iteration 38, loss = 0.29994715\n",
      "Iteration 39, loss = 0.29863296\n",
      "Iteration 40, loss = 0.29966219\n",
      "Iteration 41, loss = 0.29733985\n",
      "Iteration 42, loss = 0.29401516\n",
      "Iteration 43, loss = 0.29495737\n",
      "Iteration 44, loss = 0.29285976\n",
      "Iteration 45, loss = 0.29332520\n",
      "Iteration 46, loss = 0.29081693\n",
      "Iteration 47, loss = 0.29158703\n",
      "Iteration 48, loss = 0.29306960\n",
      "Iteration 49, loss = 0.28923113\n",
      "Iteration 50, loss = 0.29164919\n",
      "Iteration 51, loss = 0.28977748\n",
      "Iteration 52, loss = 0.29182431\n",
      "Iteration 53, loss = 0.28879111\n",
      "Iteration 54, loss = 0.28665500\n",
      "Iteration 55, loss = 0.28843013\n",
      "Iteration 56, loss = 0.28689873\n",
      "Iteration 57, loss = 0.28645182\n",
      "Iteration 58, loss = 0.28496239\n",
      "Iteration 59, loss = 0.28948092\n",
      "Iteration 60, loss = 0.28474535\n",
      "Iteration 61, loss = 0.28414357\n",
      "Iteration 62, loss = 0.28294535\n",
      "Iteration 63, loss = 0.28320659\n",
      "Iteration 64, loss = 0.28195665\n",
      "Iteration 65, loss = 0.28302683\n",
      "Iteration 66, loss = 0.28214357\n",
      "Iteration 67, loss = 0.28353928\n",
      "Iteration 68, loss = 0.28235152\n",
      "Iteration 69, loss = 0.28227819\n",
      "Iteration 70, loss = 0.27893350\n",
      "Iteration 71, loss = 0.28035303\n",
      "Iteration 72, loss = 0.27961023\n",
      "Iteration 73, loss = 0.27940364\n",
      "Iteration 74, loss = 0.27873848\n",
      "Iteration 75, loss = 0.28028296\n",
      "Iteration 76, loss = 0.27861749\n",
      "Iteration 77, loss = 0.27913559\n",
      "Iteration 78, loss = 0.27756269\n",
      "Iteration 79, loss = 0.28237074\n",
      "Iteration 80, loss = 0.27838977\n",
      "Iteration 81, loss = 0.28069373\n",
      "Iteration 82, loss = 0.27885669\n",
      "Iteration 83, loss = 0.27607302\n",
      "Iteration 84, loss = 0.27884017\n",
      "Iteration 85, loss = 0.27905747\n",
      "Iteration 86, loss = 0.27660697\n",
      "Iteration 87, loss = 0.27652637\n",
      "Iteration 88, loss = 0.27941735\n",
      "Iteration 89, loss = 0.27498336\n",
      "Iteration 90, loss = 0.27553860\n",
      "Iteration 91, loss = 0.27757600\n",
      "Iteration 92, loss = 0.27503715\n",
      "Iteration 93, loss = 0.27472362\n",
      "Iteration 94, loss = 0.27496949\n",
      "Iteration 95, loss = 0.27401546\n",
      "Iteration 96, loss = 0.27286962\n",
      "Iteration 97, loss = 0.27452807\n",
      "Iteration 98, loss = 0.27823641\n",
      "Iteration 99, loss = 0.27235430\n",
      "Iteration 100, loss = 0.27434455\n",
      "Iteration 101, loss = 0.27217692\n",
      "Iteration 102, loss = 0.27355752\n",
      "Iteration 103, loss = 0.27340716\n",
      "Iteration 104, loss = 0.27206426\n",
      "Iteration 105, loss = 0.27317416\n",
      "Iteration 106, loss = 0.27134755\n",
      "Iteration 107, loss = 0.27197831\n",
      "Iteration 108, loss = 0.27187098\n",
      "Iteration 109, loss = 0.27191440\n",
      "Iteration 110, loss = 0.27272018\n",
      "Iteration 111, loss = 0.27167832\n",
      "Iteration 112, loss = 0.27216525\n",
      "Iteration 113, loss = 0.27094806\n",
      "Iteration 114, loss = 0.27113372\n",
      "Iteration 115, loss = 0.27119747\n",
      "Iteration 116, loss = 0.27184020\n",
      "Iteration 117, loss = 0.26946421\n",
      "Iteration 118, loss = 0.27024834\n",
      "Iteration 119, loss = 0.27158073\n",
      "Iteration 120, loss = 0.26950772\n",
      "Iteration 121, loss = 0.26982320\n",
      "Iteration 122, loss = 0.26914465\n",
      "Iteration 123, loss = 0.26913029\n",
      "Iteration 124, loss = 0.27039842\n",
      "Iteration 125, loss = 0.26874678\n",
      "Iteration 126, loss = 0.26752816\n",
      "Iteration 127, loss = 0.26960414\n",
      "Iteration 128, loss = 0.26724199\n",
      "Iteration 129, loss = 0.27073429\n",
      "Iteration 130, loss = 0.26993695\n",
      "Iteration 131, loss = 0.26761875\n",
      "Iteration 132, loss = 0.26794532\n",
      "Iteration 133, loss = 0.26869971\n",
      "Iteration 134, loss = 0.27285221\n",
      "Iteration 135, loss = 0.27334855\n",
      "Iteration 136, loss = 0.26616673\n",
      "Iteration 137, loss = 0.26721831\n",
      "Iteration 138, loss = 0.26560706\n",
      "Iteration 139, loss = 0.26887665\n",
      "Iteration 140, loss = 0.26638708\n",
      "Iteration 141, loss = 0.26922005\n",
      "Iteration 142, loss = 0.26709589\n",
      "Iteration 143, loss = 0.26552044\n",
      "Iteration 144, loss = 0.26681186\n",
      "Iteration 145, loss = 0.26759668\n",
      "Iteration 146, loss = 0.26794581\n",
      "Iteration 147, loss = 0.26712126\n",
      "Iteration 148, loss = 0.26612829\n",
      "Iteration 149, loss = 0.26468675\n",
      "Iteration 150, loss = 0.26494735\n",
      "Iteration 151, loss = 0.26427676\n",
      "Iteration 152, loss = 0.26457815\n",
      "Iteration 153, loss = 0.26571539\n",
      "Iteration 154, loss = 0.26353978\n",
      "Iteration 155, loss = 0.26480959\n",
      "Iteration 156, loss = 0.26686070\n",
      "Iteration 157, loss = 0.26533876\n",
      "Iteration 158, loss = 0.26671485\n",
      "Iteration 159, loss = 0.26359387\n",
      "Iteration 160, loss = 0.26496446\n",
      "Iteration 161, loss = 0.26449122\n",
      "Iteration 162, loss = 0.26416018\n",
      "Iteration 163, loss = 0.26443725\n",
      "Iteration 164, loss = 0.26572969\n",
      "Iteration 165, loss = 0.26280249\n",
      "Iteration 166, loss = 0.26516554\n",
      "Iteration 167, loss = 0.26627538\n",
      "Iteration 168, loss = 0.26465258\n",
      "Iteration 169, loss = 0.26407931\n",
      "Iteration 170, loss = 0.26546069\n",
      "Iteration 171, loss = 0.26548976\n",
      "Iteration 172, loss = 0.26371829\n",
      "Iteration 173, loss = 0.26281130\n",
      "Iteration 174, loss = 0.26327150\n",
      "Iteration 175, loss = 0.26477157\n",
      "Iteration 176, loss = 0.26456887\n",
      "Training loss did not improve more than tol=0.000001 for 10 consecutive epochs. Stopping.\n",
      "Elapsed time to fit the model: 25.25 seconds \n",
      "\n",
      "Elapsed time to make the prediction: 0.04 seconds \n",
      "\n"
     ]
    }
   ],
   "source": [
    "start_time = time.time()\n",
    "#print(time.time())\n",
    "\n",
    "clf_mergedMLP = MLPClassifier(hidden_layer_sizes=(300, ), activation='relu', solver='adam',learning_rate='adaptive',verbose=True,tol=0.000001)\n",
    "\n",
    "clf_mergedMLP.fit(merged_X_train, merged_y_train)\n",
    "\n",
    "elapsed_training_time_mergedMLP = time.time() - start_time\n",
    "print(\"Elapsed time to fit the model: %.2f seconds\" % elapsed_training_time_mergedMLP,'\\n')\n",
    "\n",
    "start_time = time.time()\n",
    "\n",
    "y_pred_mergedMLP = clf_mergedMLP.predict(merged_X_test)\n",
    "\n",
    "elapsed_prediction_time_mergedMLP = time.time() - start_time\n",
    "print(\"Elapsed time to make the prediction: %.2f seconds\" % elapsed_prediction_time_mergedMLP,'\\n')"
   ]
  },
  {
   "cell_type": "markdown",
   "metadata": {},
   "source": [
    "Saving variables of metrics:"
   ]
  },
  {
   "cell_type": "code",
   "execution_count": 144,
   "metadata": {},
   "outputs": [],
   "source": [
    "accuracy_score_mergedMLP = accuracy_score(merged_y_test,y_pred_mergedMLP)\n",
    "\n",
    "classification_report_mergedMLP = classification_report(merged_y_test,y_pred_mergedMLP,digits=5)\n",
    "\n",
    "balanced_accuracy_score_mergedMLP = balanced_accuracy_score(merged_y_test,y_pred_mergedMLP)\n",
    "\n",
    "confusion_matrix_true_mergedMLP = confusion_matrix(merged_y_test, merged_y_test)   \n",
    "\n",
    "confusion_matrix_pred_mergedMLP = confusion_matrix(merged_y_test,y_pred_mergedMLP)"
   ]
  },
  {
   "cell_type": "code",
   "execution_count": 145,
   "metadata": {},
   "outputs": [
    {
     "name": "stdout",
     "output_type": "stream",
     "text": [
      "              precision    recall  f1-score   support\n",
      "\n",
      "           B    0.90220   0.90412   0.90316      2816\n",
      "           S    0.84014   0.83717   0.83865      1695\n",
      "\n",
      "    accuracy                        0.87896      4511\n",
      "   macro avg    0.87117   0.87064   0.87090      4511\n",
      "weighted avg    0.87888   0.87896   0.87892      4511\n",
      "\n"
     ]
    }
   ],
   "source": [
    "print(classification_report_mergedMLP)"
   ]
  },
  {
   "cell_type": "markdown",
   "metadata": {},
   "source": [
    " "
   ]
  },
  {
   "cell_type": "markdown",
   "metadata": {},
   "source": [
    "#### 6.3.4. C-Support Vector Classification"
   ]
  },
  {
   "cell_type": "markdown",
   "metadata": {},
   "source": [
    "Training and Prediction:"
   ]
  },
  {
   "cell_type": "code",
   "execution_count": 146,
   "metadata": {},
   "outputs": [
    {
     "name": "stdout",
     "output_type": "stream",
     "text": [
      "[LibSVM]Elapsed time to fit the model: 2.00 seconds \n",
      "\n",
      "Elapsed time to make the prediction: 0.44 seconds \n",
      "\n"
     ]
    }
   ],
   "source": [
    "start_time = time.time()\n",
    "#print(time.time())\n",
    "\n",
    "clf_mergedSVC = SVC(verbose=1,kernel='rbf',gamma='scale',decision_function_shape='ovo')\n",
    "\n",
    "clf_mergedSVC.fit(merged_X_train, merged_y_train)\n",
    "\n",
    "elapsed_training_time_mergedSVC = time.time() - start_time\n",
    "print(\"Elapsed time to fit the model: %.2f seconds\" % elapsed_training_time_mergedSVC,'\\n')\n",
    "\n",
    "start_time = time.time()\n",
    "\n",
    "y_pred_mergedSVC = clf_mergedSVC.predict(merged_X_test)\n",
    "\n",
    "elapsed_prediction_time_mergedSVC = time.time() - start_time\n",
    "print(\"Elapsed time to make the prediction: %.2f seconds\" % elapsed_prediction_time_mergedSVC,'\\n')"
   ]
  },
  {
   "cell_type": "markdown",
   "metadata": {},
   "source": [
    "Saving variables of metrics:"
   ]
  },
  {
   "cell_type": "code",
   "execution_count": 147,
   "metadata": {},
   "outputs": [],
   "source": [
    "accuracy_score_mergedSVC = accuracy_score(merged_y_test,y_pred_mergedSVC)\n",
    "\n",
    "classification_report_mergedSVC = classification_report(merged_y_test,y_pred_mergedSVC,digits=5)\n",
    "\n",
    "balanced_accuracy_score_mergedSVC = balanced_accuracy_score(merged_y_test,y_pred_mergedSVC)\n",
    "\n",
    "confusion_matrix_true_mergedSVC = confusion_matrix(merged_y_test, merged_y_test)   \n",
    "\n",
    "confusion_matrix_pred_mergedSVC = confusion_matrix(merged_y_test,y_pred_mergedSVC)"
   ]
  },
  {
   "cell_type": "code",
   "execution_count": 148,
   "metadata": {},
   "outputs": [
    {
     "name": "stdout",
     "output_type": "stream",
     "text": [
      "              precision    recall  f1-score   support\n",
      "\n",
      "           B    0.88355   0.84872   0.86579      2816\n",
      "           S    0.76412   0.81416   0.78835      1695\n",
      "\n",
      "    accuracy                        0.83573      4511\n",
      "   macro avg    0.82383   0.83144   0.82707      4511\n",
      "weighted avg    0.83867   0.83573   0.83669      4511\n",
      "\n"
     ]
    }
   ],
   "source": [
    "print(classification_report_mergedSVC)"
   ]
  },
  {
   "cell_type": "markdown",
   "metadata": {},
   "source": [
    "## 7. Final Results"
   ]
  },
  {
   "cell_type": "markdown",
   "metadata": {},
   "source": [
    "In this paragraph we are resuming all the results that the classifiers got but this time we mapped all the features into 10 categoreis and using the best combination of hyperparameters we can evaluate again the performances of the classifiers. This time we will look only for the top 15 features."
   ]
  },
  {
   "cell_type": "code",
   "execution_count": 149,
   "metadata": {
    "scrolled": false
   },
   "outputs": [
    {
     "name": "stdout",
     "output_type": "stream",
     "text": [
      "\n",
      "---------------------------------------------------------------------------------------------------------------------------\n",
      "\n",
      "DECISION TREE:\n",
      "\n",
      "new_DecisionTreeClassifier interesting metrics:\n",
      "\n",
      "elapsed time for training: 0.5000817775726318 \n",
      "\n",
      "elapsed time to make predictions: 0.05534815788269043 \n",
      "\n",
      "classification_report: \n",
      "               precision    recall  f1-score   support\n",
      "\n",
      "           B    0.98417   0.97456   0.97934      2870\n",
      "           S    0.95626   0.97258   0.96435      1641\n",
      "\n",
      "    accuracy                        0.97384      4511\n",
      "   macro avg    0.97021   0.97357   0.97185      4511\n",
      "weighted avg    0.97401   0.97384   0.97389      4511\n",
      " \n",
      "\n",
      "balanced_accuracy_score: 0.9735710782284109 \n",
      "\n",
      "confusion_matrix-true value: \n",
      " [[2870    0]\n",
      " [   0 1641]] \n",
      "\n",
      "confusion_matrix-pred value: \n",
      " [[2797   73]\n",
      " [  45 1596]] \n",
      "\n",
      "top 15 features for importance:\n",
      " Index(['Manifest Permission', 'API call signature', 'API call signature',\n",
      "       'Commands signature', 'API call signature', 'Intent', 'Intent',\n",
      "       'API call signature', 'Manifest Permission', 'API call signature',\n",
      "       'Intent', 'API call signature', 'Manifest Permission',\n",
      "       'Manifest Permission', 'API call signature'],\n",
      "      dtype='object')\n",
      "\n",
      "---------------------------------------------------------------------------------------------------------------------------\n",
      "\n",
      "RANDOM FOREST CLASSIFIER:\n",
      "\n",
      "new_RandomForestClassifier interesting metrics:\n",
      "\n",
      "elapsed time for training: 3.5450870990753174 \n",
      "\n",
      "elapsed time to make predictions: 0.21043777465820312 \n",
      "\n",
      "classification_report: \n",
      "               precision    recall  f1-score   support\n",
      "\n",
      "           B    0.98824   0.99512   0.99167      2870\n",
      "           S    0.99136   0.97928   0.98529      1641\n",
      "\n",
      "    accuracy                        0.98936      4511\n",
      "   macro avg    0.98980   0.98720   0.98848      4511\n",
      "weighted avg    0.98937   0.98936   0.98935      4511\n",
      " \n",
      "\n",
      "balanced_accuracy_score: 0.9872014387419925 \n",
      "\n",
      "confusion_matrix-true value: \n",
      " [[2870    0]\n",
      " [   0 1641]] \n",
      "\n",
      "confusion_matrix-pred value: \n",
      " [[2856   14]\n",
      " [  34 1607]] \n",
      "\n",
      "top 15 features for importance:\n",
      " Index(['Manifest Permission', 'API call signature', 'API call signature',\n",
      "       'API call signature', 'Intent', 'Manifest Permission',\n",
      "       'Manifest Permission', 'Manifest Permission', 'Manifest Permission',\n",
      "       'API call signature', 'Manifest Permission', 'Manifest Permission',\n",
      "       'Manifest Permission', 'Manifest Permission', 'Manifest Permission'],\n",
      "      dtype='object')\n",
      "\n",
      "---------------------------------------------------------------------------------------------------------------------------\n",
      "\n",
      "MULTI-LAYER PERCEPTRON CLASSIFIER:\n",
      "\n",
      "new_Multi-layerPerceptronClassifier interesting metrics:\n",
      "\n",
      "elapsed time for training: 49.53760528564453 \n",
      "\n",
      "elapsed time to make predictions: 0.30718207359313965 \n",
      "\n",
      "classification_report: \n",
      "               precision    recall  f1-score   support\n",
      "\n",
      "           B    0.99233   0.99129   0.99181      2870\n",
      "           S    0.98479   0.98659   0.98569      1641\n",
      "\n",
      "    accuracy                        0.98958      4511\n",
      "   macro avg    0.98856   0.98894   0.98875      4511\n",
      "weighted avg    0.98959   0.98958   0.98958      4511\n",
      " \n",
      "\n",
      "balanced_accuracy_score: 0.9889413695651712 \n",
      "\n",
      "confusion_matrix-true value: \n",
      " [[2870    0]\n",
      " [   0 1641]] \n",
      "\n",
      "confusion_matrix-pred value: \n",
      " [[2845   25]\n",
      " [  22 1619]] \n",
      "\n",
      "\n",
      "---------------------------------------------------------------------------------------------------------------------------\n",
      "\n",
      "C-SUPPORT VECTOR CLASSIFIER:\n",
      "\n",
      "new_C-SupportVectorClassifier interesting metrics:\n",
      "\n",
      "elapsed time for training: 5.67330527305603 \n",
      "\n",
      "elapsed time to make predictions: 1.6715271472930908 \n",
      "\n",
      "classification_report: \n",
      "               precision    recall  f1-score   support\n",
      "\n",
      "           B    0.98340   0.99094   0.98716      2870\n",
      "           S    0.98394   0.97075   0.97730      1641\n",
      "\n",
      "    accuracy                        0.98360      4511\n",
      "   macro avg    0.98367   0.98085   0.98223      4511\n",
      "weighted avg    0.98360   0.98360   0.98357      4511\n",
      " \n",
      "\n",
      "balanced_accuracy_score: 0.9808451547560657 \n",
      "\n",
      "confusion_matrix-true value: \n",
      " [[2870    0]\n",
      " [   0 1641]] \n",
      "\n",
      "cconfusion_matrix-pred value: \n",
      " [[2844   26]\n",
      " [  48 1593]] \n",
      "\n",
      "\n",
      "---------------------------------------------------------------------------------------------------------------------------\n",
      "\n"
     ]
    }
   ],
   "source": [
    "print('\\n---------------------------------------------------------------------------------------------------------------------------\\n')\n",
    "\n",
    "print('DECISION TREE:\\n')\n",
    "\n",
    "print('new_DecisionTreeClassifier interesting metrics:\\n')\n",
    "\n",
    "print('elapsed time for training:',elapsed_training_time_newDT,'\\n')\n",
    "print('elapsed time to make predictions:', elapsed_prediction_time_newDT,'\\n')\n",
    "\n",
    "print('classification_report: \\n', classification_report_newDT,'\\n')\n",
    "print('balanced_accuracy_score:', balanced_accuracy_score_newDT,'\\n')\n",
    "\n",
    "print('confusion_matrix-true value: \\n',confusion_matrix_true_newDT,'\\n')\n",
    "print('confusion_matrix-pred value: \\n',confusion_matrix_pred_newDT,'\\n')\n",
    "\n",
    "print('top 15 features for importance:\\n',new_X_train.columns[top_15_features_newDT])\n",
    "\n",
    "print('\\n---------------------------------------------------------------------------------------------------------------------------\\n')\n",
    "\n",
    "print('RANDOM FOREST CLASSIFIER:\\n')\n",
    "\n",
    "print('new_RandomForestClassifier interesting metrics:\\n')\n",
    "\n",
    "print('elapsed time for training:',elapsed_training_time_newRF,'\\n')\n",
    "print('elapsed time to make predictions:', elapsed_prediction_time_newRF,'\\n') \n",
    "\n",
    "print('classification_report: \\n', classification_report_newRF,'\\n')\n",
    "print('balanced_accuracy_score:', balanced_accuracy_score_newRF,'\\n')\n",
    "\n",
    "print('confusion_matrix-true value: \\n',confusion_matrix_true_newRF,'\\n')\n",
    "print('confusion_matrix-pred value: \\n',confusion_matrix_pred_newRF,'\\n')\n",
    "\n",
    "print('top 15 features for importance:\\n',new_X_train.columns[top_15_features_newRF])\n",
    "\n",
    "print('\\n---------------------------------------------------------------------------------------------------------------------------\\n')\n",
    "\n",
    "print('MULTI-LAYER PERCEPTRON CLASSIFIER:\\n')\n",
    "\n",
    "print('new_Multi-layerPerceptronClassifier interesting metrics:\\n')\n",
    "\n",
    "print('elapsed time for training:',elapsed_training_time_newMLP,'\\n')\n",
    "print('elapsed time to make predictions:', elapsed_prediction_time_newMLP,'\\n')\n",
    "\n",
    "print('classification_report: \\n', classification_report_newMLP,'\\n')\n",
    "print('balanced_accuracy_score:', balanced_accuracy_score_newMLP,'\\n')\n",
    "\n",
    "print('confusion_matrix-true value: \\n',confusion_matrix_true_newMLP,'\\n')\n",
    "print('confusion_matrix-pred value: \\n',confusion_matrix_pred_newMLP,'\\n')\n",
    "\n",
    "print('\\n---------------------------------------------------------------------------------------------------------------------------\\n')\n",
    "\n",
    "print('C-SUPPORT VECTOR CLASSIFIER:\\n')\n",
    "\n",
    "print('new_C-SupportVectorClassifier interesting metrics:\\n')\n",
    "\n",
    "print('elapsed time for training:',elapsed_training_time_newSVC,'\\n')\n",
    "print('elapsed time to make predictions:', elapsed_prediction_time_newSVC,'\\n')\n",
    "\n",
    "print('classification_report: \\n', classification_report_newSVC,'\\n')\n",
    "print('balanced_accuracy_score:', balanced_accuracy_score_newSVC,'\\n')\n",
    "\n",
    "print('confusion_matrix-true value: \\n',confusion_matrix_true_newSVC,'\\n')\n",
    "print('cconfusion_matrix-pred value: \\n',confusion_matrix_pred_newSVC,'\\n')\n",
    "\n",
    "print('\\n---------------------------------------------------------------------------------------------------------------------------\\n')\n"
   ]
  },
  {
   "cell_type": "markdown",
   "metadata": {},
   "source": [
    "We can conclude, after the training and the test phases, that the best tryed classifier is Multi-Layer Perceptron, followed by Random Forest Classifier. \n",
    "Again we gave to the \"Balanced Accuracy Score\" and to the confusion matrix more importance than to the other metrics because we were interested to the recall values of the two predicted classes. \n",
    "So, MLP had a balanced accuracy score equal to 98.718% and RF equal to 98.489%. MLP predicted 25 apps as malicious instead of bening, and 28 as bening instead of malicious. RF predicted only 14 apps as malicious instead of bening but 42 as bening instead of malicious. "
   ]
  },
  {
   "cell_type": "markdown",
   "metadata": {},
   "source": [
    " "
   ]
  },
  {
   "cell_type": "markdown",
   "metadata": {},
   "source": [
    " "
   ]
  },
  {
   "cell_type": "markdown",
   "metadata": {},
   "source": [
    " "
   ]
  },
  {
   "cell_type": "markdown",
   "metadata": {},
   "source": [
    " "
   ]
  },
  {
   "cell_type": "markdown",
   "metadata": {},
   "source": [
    " "
   ]
  },
  {
   "cell_type": "markdown",
   "metadata": {},
   "source": [
    " "
   ]
  },
  {
   "cell_type": "markdown",
   "metadata": {},
   "source": [
    " "
   ]
  },
  {
   "cell_type": "markdown",
   "metadata": {},
   "source": [
    " "
   ]
  },
  {
   "cell_type": "markdown",
   "metadata": {},
   "source": [
    " "
   ]
  },
  {
   "cell_type": "markdown",
   "metadata": {},
   "source": [
    " "
   ]
  },
  {
   "cell_type": "markdown",
   "metadata": {},
   "source": [
    " "
   ]
  },
  {
   "cell_type": "markdown",
   "metadata": {},
   "source": [
    " "
   ]
  },
  {
   "cell_type": "markdown",
   "metadata": {},
   "source": [
    " "
   ]
  },
  {
   "cell_type": "markdown",
   "metadata": {},
   "source": [
    " "
   ]
  },
  {
   "cell_type": "markdown",
   "metadata": {},
   "source": [
    " "
   ]
  },
  {
   "cell_type": "markdown",
   "metadata": {},
   "source": [
    " "
   ]
  },
  {
   "cell_type": "markdown",
   "metadata": {},
   "source": [
    " "
   ]
  },
  {
   "cell_type": "markdown",
   "metadata": {},
   "source": [
    " "
   ]
  },
  {
   "cell_type": "markdown",
   "metadata": {},
   "source": [
    " "
   ]
  },
  {
   "cell_type": "markdown",
   "metadata": {},
   "source": [
    " "
   ]
  },
  {
   "cell_type": "markdown",
   "metadata": {},
   "source": [
    " "
   ]
  },
  {
   "cell_type": "markdown",
   "metadata": {},
   "source": [
    " "
   ]
  },
  {
   "cell_type": "markdown",
   "metadata": {},
   "source": [
    " "
   ]
  },
  {
   "cell_type": "markdown",
   "metadata": {},
   "source": [
    " "
   ]
  },
  {
   "cell_type": "markdown",
   "metadata": {},
   "source": [
    " "
   ]
  },
  {
   "cell_type": "markdown",
   "metadata": {},
   "source": [
    " "
   ]
  },
  {
   "cell_type": "markdown",
   "metadata": {},
   "source": [
    " "
   ]
  },
  {
   "cell_type": "markdown",
   "metadata": {},
   "source": [
    " "
   ]
  },
  {
   "cell_type": "markdown",
   "metadata": {},
   "source": [
    " "
   ]
  },
  {
   "cell_type": "markdown",
   "metadata": {},
   "source": [
    " "
   ]
  },
  {
   "cell_type": "markdown",
   "metadata": {},
   "source": [
    " "
   ]
  },
  {
   "cell_type": "markdown",
   "metadata": {},
   "source": [
    " "
   ]
  },
  {
   "cell_type": "markdown",
   "metadata": {},
   "source": [
    " "
   ]
  },
  {
   "cell_type": "markdown",
   "metadata": {},
   "source": [
    " "
   ]
  },
  {
   "cell_type": "markdown",
   "metadata": {},
   "source": [
    " "
   ]
  },
  {
   "cell_type": "markdown",
   "metadata": {},
   "source": [
    " "
   ]
  },
  {
   "cell_type": "markdown",
   "metadata": {},
   "source": [
    " "
   ]
  },
  {
   "cell_type": "markdown",
   "metadata": {},
   "source": [
    " "
   ]
  },
  {
   "cell_type": "markdown",
   "metadata": {},
   "source": [
    " "
   ]
  },
  {
   "cell_type": "markdown",
   "metadata": {},
   "source": [
    " "
   ]
  },
  {
   "cell_type": "markdown",
   "metadata": {},
   "source": [
    " "
   ]
  },
  {
   "cell_type": "markdown",
   "metadata": {},
   "source": [
    " "
   ]
  },
  {
   "cell_type": "markdown",
   "metadata": {},
   "source": [
    " "
   ]
  },
  {
   "cell_type": "markdown",
   "metadata": {},
   "source": [
    " "
   ]
  },
  {
   "cell_type": "markdown",
   "metadata": {},
   "source": [
    " "
   ]
  },
  {
   "cell_type": "markdown",
   "metadata": {},
   "source": [
    " "
   ]
  },
  {
   "cell_type": "markdown",
   "metadata": {},
   "source": [
    " "
   ]
  },
  {
   "cell_type": "markdown",
   "metadata": {},
   "source": [
    " "
   ]
  },
  {
   "cell_type": "markdown",
   "metadata": {},
   "source": [
    " "
   ]
  },
  {
   "cell_type": "markdown",
   "metadata": {},
   "source": [
    " "
   ]
  },
  {
   "cell_type": "markdown",
   "metadata": {},
   "source": [
    " "
   ]
  },
  {
   "cell_type": "markdown",
   "metadata": {},
   "source": [
    " "
   ]
  },
  {
   "cell_type": "markdown",
   "metadata": {},
   "source": [
    " "
   ]
  },
  {
   "cell_type": "markdown",
   "metadata": {},
   "source": [
    " "
   ]
  },
  {
   "cell_type": "markdown",
   "metadata": {},
   "source": [
    " "
   ]
  },
  {
   "cell_type": "markdown",
   "metadata": {},
   "source": [
    " "
   ]
  },
  {
   "cell_type": "markdown",
   "metadata": {},
   "source": [
    " "
   ]
  },
  {
   "cell_type": "markdown",
   "metadata": {},
   "source": [
    " "
   ]
  },
  {
   "cell_type": "markdown",
   "metadata": {},
   "source": [
    " "
   ]
  },
  {
   "cell_type": "markdown",
   "metadata": {},
   "source": [
    " "
   ]
  },
  {
   "cell_type": "markdown",
   "metadata": {},
   "source": [
    " "
   ]
  },
  {
   "cell_type": "markdown",
   "metadata": {},
   "source": [
    " "
   ]
  },
  {
   "cell_type": "markdown",
   "metadata": {},
   "source": [
    " "
   ]
  },
  {
   "cell_type": "markdown",
   "metadata": {},
   "source": [
    " "
   ]
  },
  {
   "cell_type": "markdown",
   "metadata": {},
   "source": [
    " "
   ]
  },
  {
   "cell_type": "markdown",
   "metadata": {},
   "source": [
    " "
   ]
  },
  {
   "cell_type": "markdown",
   "metadata": {},
   "source": [
    " "
   ]
  },
  {
   "cell_type": "markdown",
   "metadata": {},
   "source": [
    " "
   ]
  },
  {
   "cell_type": "markdown",
   "metadata": {},
   "source": [
    " "
   ]
  },
  {
   "cell_type": "markdown",
   "metadata": {},
   "source": [
    " "
   ]
  },
  {
   "cell_type": "markdown",
   "metadata": {},
   "source": [
    " "
   ]
  },
  {
   "cell_type": "markdown",
   "metadata": {},
   "source": [
    " "
   ]
  },
  {
   "cell_type": "markdown",
   "metadata": {},
   "source": [
    " "
   ]
  },
  {
   "cell_type": "markdown",
   "metadata": {},
   "source": [
    " "
   ]
  },
  {
   "cell_type": "markdown",
   "metadata": {},
   "source": [
    " "
   ]
  },
  {
   "cell_type": "markdown",
   "metadata": {},
   "source": [
    " "
   ]
  },
  {
   "cell_type": "markdown",
   "metadata": {},
   "source": [
    " "
   ]
  },
  {
   "cell_type": "markdown",
   "metadata": {},
   "source": [
    " "
   ]
  },
  {
   "cell_type": "markdown",
   "metadata": {},
   "source": [
    " "
   ]
  },
  {
   "cell_type": "markdown",
   "metadata": {},
   "source": [
    " "
   ]
  },
  {
   "cell_type": "markdown",
   "metadata": {},
   "source": [
    " "
   ]
  },
  {
   "cell_type": "markdown",
   "metadata": {},
   "source": [
    " "
   ]
  },
  {
   "cell_type": "markdown",
   "metadata": {},
   "source": [
    " "
   ]
  },
  {
   "cell_type": "markdown",
   "metadata": {},
   "source": [
    " "
   ]
  },
  {
   "cell_type": "markdown",
   "metadata": {},
   "source": [
    " "
   ]
  },
  {
   "cell_type": "markdown",
   "metadata": {},
   "source": [
    " "
   ]
  },
  {
   "cell_type": "markdown",
   "metadata": {},
   "source": [
    " "
   ]
  },
  {
   "cell_type": "markdown",
   "metadata": {},
   "source": [
    " "
   ]
  },
  {
   "cell_type": "markdown",
   "metadata": {},
   "source": [
    " "
   ]
  },
  {
   "cell_type": "markdown",
   "metadata": {},
   "source": [
    " "
   ]
  },
  {
   "cell_type": "markdown",
   "metadata": {},
   "source": [
    " "
   ]
  },
  {
   "cell_type": "markdown",
   "metadata": {},
   "source": [
    " "
   ]
  },
  {
   "cell_type": "markdown",
   "metadata": {},
   "source": [
    " "
   ]
  },
  {
   "cell_type": "markdown",
   "metadata": {},
   "source": [
    " "
   ]
  },
  {
   "cell_type": "markdown",
   "metadata": {},
   "source": [
    " "
   ]
  },
  {
   "cell_type": "markdown",
   "metadata": {},
   "source": [
    " "
   ]
  },
  {
   "cell_type": "markdown",
   "metadata": {},
   "source": [
    " "
   ]
  },
  {
   "cell_type": "markdown",
   "metadata": {},
   "source": [
    " "
   ]
  },
  {
   "cell_type": "markdown",
   "metadata": {},
   "source": [
    " "
   ]
  },
  {
   "cell_type": "markdown",
   "metadata": {},
   "source": [
    " "
   ]
  },
  {
   "cell_type": "markdown",
   "metadata": {},
   "source": [
    " "
   ]
  },
  {
   "cell_type": "markdown",
   "metadata": {},
   "source": [
    " "
   ]
  },
  {
   "cell_type": "markdown",
   "metadata": {},
   "source": [
    " "
   ]
  },
  {
   "cell_type": "markdown",
   "metadata": {},
   "source": [
    " "
   ]
  },
  {
   "cell_type": "markdown",
   "metadata": {},
   "source": [
    " "
   ]
  },
  {
   "cell_type": "markdown",
   "metadata": {},
   "source": [
    " "
   ]
  },
  {
   "cell_type": "markdown",
   "metadata": {},
   "source": [
    " "
   ]
  },
  {
   "cell_type": "markdown",
   "metadata": {},
   "source": [
    " "
   ]
  },
  {
   "cell_type": "markdown",
   "metadata": {},
   "source": [
    " "
   ]
  },
  {
   "cell_type": "markdown",
   "metadata": {},
   "source": [
    " "
   ]
  },
  {
   "cell_type": "markdown",
   "metadata": {},
   "source": [
    " "
   ]
  },
  {
   "cell_type": "markdown",
   "metadata": {},
   "source": [
    " "
   ]
  },
  {
   "cell_type": "markdown",
   "metadata": {},
   "source": [
    " "
   ]
  },
  {
   "cell_type": "markdown",
   "metadata": {},
   "source": [
    " "
   ]
  },
  {
   "cell_type": "markdown",
   "metadata": {},
   "source": [
    " "
   ]
  },
  {
   "cell_type": "markdown",
   "metadata": {},
   "source": [
    " "
   ]
  },
  {
   "cell_type": "markdown",
   "metadata": {},
   "source": [
    " "
   ]
  },
  {
   "cell_type": "markdown",
   "metadata": {},
   "source": [
    " "
   ]
  },
  {
   "cell_type": "markdown",
   "metadata": {},
   "source": [
    " "
   ]
  },
  {
   "cell_type": "markdown",
   "metadata": {},
   "source": [
    " "
   ]
  },
  {
   "cell_type": "markdown",
   "metadata": {},
   "source": [
    " "
   ]
  },
  {
   "cell_type": "markdown",
   "metadata": {},
   "source": [
    " "
   ]
  },
  {
   "cell_type": "markdown",
   "metadata": {},
   "source": [
    " "
   ]
  },
  {
   "cell_type": "markdown",
   "metadata": {},
   "source": [
    " "
   ]
  },
  {
   "cell_type": "markdown",
   "metadata": {},
   "source": [
    " "
   ]
  },
  {
   "cell_type": "markdown",
   "metadata": {},
   "source": [
    " "
   ]
  },
  {
   "cell_type": "markdown",
   "metadata": {},
   "source": [
    " "
   ]
  },
  {
   "cell_type": "markdown",
   "metadata": {},
   "source": [
    "###### @falble"
   ]
  },
  {
   "cell_type": "markdown",
   "metadata": {},
   "source": [
    "###### @gussr"
   ]
  },
  {
   "cell_type": "markdown",
   "metadata": {},
   "source": [
    "###### @FiloLafro"
   ]
  }
 ],
 "metadata": {
  "kernelspec": {
   "display_name": "Python 3",
   "language": "python",
   "name": "python3"
  },
  "language_info": {
   "codemirror_mode": {
    "name": "ipython",
    "version": 3
   },
   "file_extension": ".py",
   "mimetype": "text/x-python",
   "name": "python",
   "nbconvert_exporter": "python",
   "pygments_lexer": "ipython3",
   "version": "3.6.10"
  }
 },
 "nbformat": 4,
 "nbformat_minor": 2
}
