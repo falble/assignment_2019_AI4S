{
 "cells": [
  {
   "cell_type": "markdown",
   "metadata": {},
   "source": [
    "This Jupyter notebook represents an improved way to utilize our classifiers. It is created defining functions in Python that execute calculations on the dataframes just before performing the training and testing of the various classifiers. It requires, obviously, data analysis (that has not been included into the notebook because we did it for the other version of the file) but gives the possibility of a better and cleaner representation of the classifiers."
   ]
  },
  {
   "cell_type": "code",
   "execution_count": 1,
   "metadata": {},
   "outputs": [],
   "source": [
    "# import all libraries\n",
    "\n",
    "# cleaning data (we already analyzed the data in the other notebooks)\n",
    "# need to perform some operation\n",
    "\n",
    "# import data (note that this time we need to perform splitting to obtain train and test sets) - convert it into pd.DataFrame\n",
    "# work on the column -TelephonyManager.getSimCountryIso- \n",
    "# - transform its element into string object (so we solved different types in the column)\n",
    "# - dummy the column to obtain 3 columns \n",
    "\n",
    "# - NB. drop the third (the last of the new modified dataset) column obtained to drop '?' values during the definition of X and y\n",
    "\n",
    "# prepare X and y, splitting the data (0.7 train 0.3 test)\n",
    "\n",
    "# define the classifiers (with best hyperparameters found in the other notebooks)\n",
    "# print the results "
   ]
  },
  {
   "cell_type": "markdown",
   "metadata": {},
   "source": [
    "##### Libraries"
   ]
  },
  {
   "cell_type": "code",
   "execution_count": 2,
   "metadata": {},
   "outputs": [],
   "source": [
    "import pandas as pd\n",
    "import numpy as np\n",
    "import time\n",
    "\n",
    "from sklearn.model_selection import train_test_split\n",
    "\n",
    "from sklearn.tree import DecisionTreeClassifier\n",
    "from sklearn.ensemble import RandomForestClassifier\n",
    "from sklearn.svm import SVC\n",
    "from sklearn.neural_network import MLPClassifier\n",
    "from sklearn.metrics import (accuracy_score, recall_score, precision_score, confusion_matrix, classification_report, \n",
    "                            balanced_accuracy_score, f1_score)"
   ]
  },
  {
   "cell_type": "markdown",
   "metadata": {},
   "source": [
    "#####  Data"
   ]
  },
  {
   "cell_type": "code",
   "execution_count": 3,
   "metadata": {},
   "outputs": [
    {
     "name": "stderr",
     "output_type": "stream",
     "text": [
      "C:\\Users\\Utente\\Anaconda3\\lib\\site-packages\\IPython\\core\\interactiveshell.py:3051: DtypeWarning: Columns (92) have mixed types. Specify dtype option on import or set low_memory=False.\n",
      "  interactivity=interactivity, compiler=compiler, result=result)\n"
     ]
    }
   ],
   "source": [
    "dataset = pd.read_csv('../ASSIGNMENT/data/AndroidMalware/drebin-215-dataset-5560malware-9476-benign.csv')"
   ]
  },
  {
   "cell_type": "markdown",
   "metadata": {},
   "source": [
    "##### Transformation"
   ]
  },
  {
   "cell_type": "code",
   "execution_count": 4,
   "metadata": {},
   "outputs": [],
   "source": [
    "def problematic_col(data):\n",
    "    # string \n",
    "    data['TelephonyManager.getSimCountryIso'] = data['TelephonyManager.getSimCountryIso'].astype('str')\n",
    "    # dummy\n",
    "    data = pd.get_dummies(data, columns=['TelephonyManager.getSimCountryIso'])\n",
    "    \n",
    "    return data\n",
    "\n"
   ]
  },
  {
   "cell_type": "markdown",
   "metadata": {},
   "source": [
    "#####  Designer of X and y"
   ]
  },
  {
   "cell_type": "code",
   "execution_count": 5,
   "metadata": {},
   "outputs": [],
   "source": [
    "def designer_X_y(data):\n",
    "    \n",
    "    global X_train,y_train,X_test,y_test\n",
    "    \n",
    "    X_train, X_test, y_train, y_test = train_test_split(data.drop(['TelephonyManager.getSimCountryIso','class'],axis=1), data['class'], test_size=0.3)\n",
    "    \n",
    "    return X_train,y_train,X_test,y_test\n",
    "\n"
   ]
  },
  {
   "cell_type": "markdown",
   "metadata": {},
   "source": [
    "##### Data preparator"
   ]
  },
  {
   "cell_type": "code",
   "execution_count": 6,
   "metadata": {},
   "outputs": [],
   "source": [
    "def data_preparator(data):\n",
    "    \n",
    "    problematic_col(data)\n",
    "    designer_X_y(data)\n",
    "    \n",
    "    return data\n",
    "\n"
   ]
  },
  {
   "cell_type": "markdown",
   "metadata": {},
   "source": [
    "##### Classifier"
   ]
  },
  {
   "cell_type": "code",
   "execution_count": 7,
   "metadata": {},
   "outputs": [],
   "source": [
    "# Decision Trees\n",
    "def decision_trees(data):\n",
    "    print('\\ndecision tree classifier:\\n')\n",
    "    global clf_dt, y_pred_dt\n",
    "    data_preparator(data)\n",
    "    \n",
    "    start_time = time.time()\n",
    "\n",
    "\n",
    "    clf_dt = DecisionTreeClassifier(criterion='entropy',max_depth=300,max_leaf_nodes=300,splitter='best').fit(X_train,y_train)\n",
    "    y_pred_dt = clf_dt.predict(X_test)\n",
    "\n",
    "    elapsed_time = time.time() - start_time\n",
    "    print('predicting -class-:\\n')\n",
    "    print(\"elapsed for training and predict: %.2f seconds\" % elapsed_time,'\\n')\n",
    "    print('classification report:\\n',classification_report(y_pred_dt,y_test,digits=5),'\\n')\n",
    "    print('confusion matrix:\\n',confusion_matrix(y_test,y_pred_dt))\n",
    "    \n",
    "    return clf_dt,y_pred_dt\n",
    "    \n",
    "        \n",
    "# Random Forest\n",
    "def random_forest(data):\n",
    "    print('\\nrandom forest classifier:\\n')\n",
    "    global clf_rf, y_pred_rf\n",
    "    data_preparator(data)\n",
    "    \n",
    "    start_time = time.time()\n",
    "\n",
    "    clf_rf = RandomForestClassifier(criterion='gini',verbose=1,warm_start=True,max_depth=340,max_leaf_nodes=None,n_estimators=200).fit(X_train,y_train)\n",
    "    y_pred_rf = clf_rf.predict(X_test)\n",
    "\n",
    "    elapsed_time = time.time() - start_time\n",
    "    print('predicting -class-:\\n')\n",
    "    print(\"elapsed for training and predict: %.2f seconds\" % elapsed_time,'\\n')\n",
    "    print('classification report:\\n',classification_report(y_pred_rf,y_test,digits=5),'\\n')\n",
    "    print('confusion matrix:\\n',confusion_matrix(y_test,y_pred_rf))\n",
    "    \n",
    "    return clf_rf, y_pred_rf\n",
    "\n",
    "\n",
    "# MLP    \n",
    "def mlp(data):\n",
    "    print('\\nmulti-layer perceptron classifier:\\n')\n",
    "    global clf_mlp, y_pred_mlp\n",
    "    data_preparator(data)\n",
    "    \n",
    "    start_time = time.time()\n",
    "    \n",
    "    clf_mlp = MLPClassifier(hidden_layer_sizes=(300, ), activation='relu', solver='adam',learning_rate='adaptive',verbose=True,tol=0.000001).fit(X_train,y_train)\n",
    "    y_pred_mlp = clf_mlp.predict(X_test)\n",
    "\n",
    "    elapsed_time = time.time() - start_time\n",
    "    print('predicting -class-:\\n')\n",
    "    print(\"elapsed for training and predict: %.2f seconds\" % elapsed_time,'\\n')\n",
    "    print('classification report:\\n',classification_report(y_pred_mlp,y_test,digits=5),'\\n')\n",
    "    print('confusion matrix:\\n',confusion_matrix(y_test,y_pred_mlp))\n",
    "    \n",
    "    return clf_mlp,y_pred_mlp\n",
    "\n",
    "\n",
    "# SVC \n",
    "def support_vector_classifier(data):\n",
    "    print('\\nsupport vector classifier:\\n')\n",
    "    global clf_svc, y_pred_svc\n",
    "    data_preparator(data)\n",
    "    \n",
    "    start_time = time.time()\n",
    "\n",
    "    clf_svc = SVC(verbose=1,kernel='rbf',gamma='scale',decision_function_shape='ovo').fit(X_train,y_train)\n",
    "    y_pred_svc = clf_svc.predict(X_test)\n",
    "\n",
    "    elapsed_time = time.time() - start_time\n",
    "    print('predicting -class-:\\n')\n",
    "    print(\"elapsed for training and predict: %.2f seconds\" % elapsed_time,'\\n')\n",
    "    print('classification report:\\n',classification_report(y_pred_svc,y_test,digits=5),'\\n')\n",
    "    print('confusion matrix:\\n',confusion_matrix(y_test,y_pred_svc))\n",
    "    \n",
    "    return clf_mlp,y_pred_svc\n",
    "\n"
   ]
  },
  {
   "cell_type": "code",
   "execution_count": 8,
   "metadata": {},
   "outputs": [
    {
     "name": "stdout",
     "output_type": "stream",
     "text": [
      "\n",
      "decision tree classifier:\n",
      "\n",
      "predicting -class-:\n",
      "\n",
      "elapsed for training and predict: 0.31 seconds \n",
      "\n",
      "classification report:\n",
      "               precision    recall  f1-score   support\n",
      "\n",
      "           B    0.97793   0.98309   0.98050      2839\n",
      "           S    0.97103   0.96232   0.96666      1672\n",
      "\n",
      "    accuracy                        0.97539      4511\n",
      "   macro avg    0.97448   0.97271   0.97358      4511\n",
      "weighted avg    0.97537   0.97539   0.97537      4511\n",
      " \n",
      "\n",
      "confusion matrix:\n",
      " [[2791   63]\n",
      " [  48 1609]]\n"
     ]
    },
    {
     "data": {
      "text/plain": [
       "(DecisionTreeClassifier(class_weight=None, criterion='entropy', max_depth=300,\n",
       "                        max_features=None, max_leaf_nodes=300,\n",
       "                        min_impurity_decrease=0.0, min_impurity_split=None,\n",
       "                        min_samples_leaf=1, min_samples_split=2,\n",
       "                        min_weight_fraction_leaf=0.0, presort=False,\n",
       "                        random_state=None, splitter='best'),\n",
       " array(['S', 'S', 'B', ..., 'S', 'B', 'S'], dtype=object))"
      ]
     },
     "execution_count": 8,
     "metadata": {},
     "output_type": "execute_result"
    }
   ],
   "source": [
    "decision_trees(dataset)"
   ]
  },
  {
   "cell_type": "code",
   "execution_count": 9,
   "metadata": {},
   "outputs": [
    {
     "name": "stdout",
     "output_type": "stream",
     "text": [
      "\n",
      "random forest classifier:\n",
      "\n"
     ]
    },
    {
     "name": "stderr",
     "output_type": "stream",
     "text": [
      "[Parallel(n_jobs=1)]: Using backend SequentialBackend with 1 concurrent workers.\n",
      "[Parallel(n_jobs=1)]: Done 200 out of 200 | elapsed:    3.3s finished\n",
      "[Parallel(n_jobs=1)]: Using backend SequentialBackend with 1 concurrent workers.\n"
     ]
    },
    {
     "name": "stdout",
     "output_type": "stream",
     "text": [
      "predicting -class-:\n",
      "\n",
      "elapsed for training and predict: 3.75 seconds \n",
      "\n",
      "classification report:\n",
      "               precision    recall  f1-score   support\n",
      "\n",
      "           B    0.99439   0.98303   0.98868      2887\n",
      "           S    0.97043   0.99015   0.98019      1624\n",
      "\n",
      "    accuracy                        0.98559      4511\n",
      "   macro avg    0.98241   0.98659   0.98443      4511\n",
      "weighted avg    0.98577   0.98559   0.98562      4511\n",
      " \n",
      "\n",
      "confusion matrix:\n",
      " [[2838   16]\n",
      " [  49 1608]]\n"
     ]
    },
    {
     "name": "stderr",
     "output_type": "stream",
     "text": [
      "[Parallel(n_jobs=1)]: Done 200 out of 200 | elapsed:    0.1s finished\n"
     ]
    },
    {
     "data": {
      "text/plain": [
       "(RandomForestClassifier(bootstrap=True, class_weight=None, criterion='gini',\n",
       "                        max_depth=340, max_features='auto', max_leaf_nodes=None,\n",
       "                        min_impurity_decrease=0.0, min_impurity_split=None,\n",
       "                        min_samples_leaf=1, min_samples_split=2,\n",
       "                        min_weight_fraction_leaf=0.0, n_estimators=200,\n",
       "                        n_jobs=None, oob_score=False, random_state=None,\n",
       "                        verbose=1, warm_start=True),\n",
       " array(['B', 'S', 'S', ..., 'S', 'S', 'B'], dtype=object))"
      ]
     },
     "execution_count": 9,
     "metadata": {},
     "output_type": "execute_result"
    }
   ],
   "source": [
    "random_forest(dataset)"
   ]
  },
  {
   "cell_type": "code",
   "execution_count": 10,
   "metadata": {
    "scrolled": false
   },
   "outputs": [
    {
     "name": "stdout",
     "output_type": "stream",
     "text": [
      "\n",
      "multi-layer perceptron classifier:\n",
      "\n",
      "Iteration 1, loss = 0.28739907\n",
      "Iteration 2, loss = 0.11681529\n",
      "Iteration 3, loss = 0.08290392\n",
      "Iteration 4, loss = 0.06776637\n",
      "Iteration 5, loss = 0.05800263\n",
      "Iteration 6, loss = 0.05269036\n",
      "Iteration 7, loss = 0.04769571\n",
      "Iteration 8, loss = 0.04316603\n",
      "Iteration 9, loss = 0.03996329\n",
      "Iteration 10, loss = 0.03752062\n",
      "Iteration 11, loss = 0.03504785\n",
      "Iteration 12, loss = 0.03188459\n",
      "Iteration 13, loss = 0.02965732\n",
      "Iteration 14, loss = 0.02848511\n",
      "Iteration 15, loss = 0.02591183\n",
      "Iteration 16, loss = 0.02494573\n",
      "Iteration 17, loss = 0.02251050\n",
      "Iteration 18, loss = 0.02117154\n",
      "Iteration 19, loss = 0.01962463\n",
      "Iteration 20, loss = 0.01904531\n",
      "Iteration 21, loss = 0.01758673\n",
      "Iteration 22, loss = 0.01623596\n",
      "Iteration 23, loss = 0.01514944\n",
      "Iteration 24, loss = 0.01461647\n",
      "Iteration 25, loss = 0.01377075\n",
      "Iteration 26, loss = 0.01282131\n",
      "Iteration 27, loss = 0.01224537\n",
      "Iteration 28, loss = 0.01170088\n",
      "Iteration 29, loss = 0.01147859\n",
      "Iteration 30, loss = 0.01070725\n",
      "Iteration 31, loss = 0.01017491\n",
      "Iteration 32, loss = 0.00994239\n",
      "Iteration 33, loss = 0.00936975\n",
      "Iteration 34, loss = 0.00904201\n",
      "Iteration 35, loss = 0.00876982\n",
      "Iteration 36, loss = 0.00840843\n",
      "Iteration 37, loss = 0.00819151\n",
      "Iteration 38, loss = 0.00804645\n",
      "Iteration 39, loss = 0.00773936\n",
      "Iteration 40, loss = 0.00751732\n",
      "Iteration 41, loss = 0.00732203\n",
      "Iteration 42, loss = 0.00717297\n",
      "Iteration 43, loss = 0.00698852\n",
      "Iteration 44, loss = 0.00685749\n",
      "Iteration 45, loss = 0.00674961\n",
      "Iteration 46, loss = 0.00660670\n",
      "Iteration 47, loss = 0.00651788\n",
      "Iteration 48, loss = 0.00633628\n",
      "Iteration 49, loss = 0.00622186\n",
      "Iteration 50, loss = 0.00617052\n",
      "Iteration 51, loss = 0.00605561\n",
      "Iteration 52, loss = 0.00598861\n",
      "Iteration 53, loss = 0.00590237\n",
      "Iteration 54, loss = 0.00582196\n",
      "Iteration 55, loss = 0.00575978\n",
      "Iteration 56, loss = 0.00573134\n",
      "Iteration 57, loss = 0.00564168\n",
      "Iteration 58, loss = 0.00556221\n",
      "Iteration 59, loss = 0.00550861\n",
      "Iteration 60, loss = 0.00546944\n",
      "Iteration 61, loss = 0.00547956\n",
      "Iteration 62, loss = 0.00536568\n",
      "Iteration 63, loss = 0.00531485\n",
      "Iteration 64, loss = 0.00529279\n",
      "Iteration 65, loss = 0.00523291\n",
      "Iteration 66, loss = 0.00518711\n",
      "Iteration 67, loss = 0.00515836\n",
      "Iteration 68, loss = 0.00517642\n",
      "Iteration 69, loss = 0.00509400\n",
      "Iteration 70, loss = 0.00509445\n",
      "Iteration 71, loss = 0.00508747\n",
      "Iteration 72, loss = 0.00501846\n",
      "Iteration 73, loss = 0.00500677\n",
      "Iteration 74, loss = 0.00495798\n",
      "Iteration 75, loss = 0.00499709\n",
      "Iteration 76, loss = 0.00503802\n",
      "Iteration 77, loss = 0.00492817\n",
      "Iteration 78, loss = 0.00490570\n",
      "Iteration 79, loss = 0.00485862\n",
      "Iteration 80, loss = 0.00482571\n",
      "Iteration 81, loss = 0.00484012\n",
      "Iteration 82, loss = 0.00483490\n",
      "Iteration 83, loss = 0.00481791\n",
      "Iteration 84, loss = 0.00475352\n",
      "Iteration 85, loss = 0.00474592\n",
      "Iteration 86, loss = 0.00473519\n",
      "Iteration 87, loss = 0.00476327\n",
      "Iteration 88, loss = 0.00471215\n",
      "Iteration 89, loss = 0.00471168\n",
      "Iteration 90, loss = 0.00467426\n",
      "Iteration 91, loss = 0.00468543\n",
      "Iteration 92, loss = 0.00466531\n",
      "Iteration 93, loss = 0.00470020\n",
      "Iteration 94, loss = 0.00463918\n",
      "Iteration 95, loss = 0.00467727\n",
      "Iteration 96, loss = 0.00467032\n",
      "Iteration 97, loss = 0.00466719\n",
      "Iteration 98, loss = 0.00463575\n",
      "Iteration 99, loss = 0.00459124\n",
      "Iteration 100, loss = 0.00462723\n",
      "Iteration 101, loss = 0.00457950\n",
      "Iteration 102, loss = 0.00457997\n",
      "Iteration 103, loss = 0.00461512\n",
      "Iteration 104, loss = 0.00458153\n",
      "Iteration 105, loss = 0.00459638\n",
      "Iteration 106, loss = 0.00458681\n",
      "Iteration 107, loss = 0.00455038\n",
      "Iteration 108, loss = 0.00454287\n",
      "Iteration 109, loss = 0.00460856\n",
      "Iteration 110, loss = 0.00451707\n",
      "Iteration 111, loss = 0.00456209\n",
      "Iteration 112, loss = 0.00452043\n",
      "Iteration 113, loss = 0.00454248\n",
      "Iteration 114, loss = 0.00450760\n",
      "Iteration 115, loss = 0.00451586\n",
      "Iteration 116, loss = 0.00452137\n",
      "Iteration 117, loss = 0.00449218\n",
      "Iteration 118, loss = 0.00448037\n",
      "Iteration 119, loss = 0.00450213\n",
      "Iteration 120, loss = 0.00452228\n",
      "Iteration 121, loss = 0.00449411\n",
      "Iteration 122, loss = 0.00445651\n",
      "Iteration 123, loss = 0.00445432\n",
      "Iteration 124, loss = 0.00447782\n",
      "Iteration 125, loss = 0.00449255\n",
      "Iteration 126, loss = 0.00446353\n",
      "Iteration 127, loss = 0.00447557\n",
      "Iteration 128, loss = 0.00446296\n",
      "Iteration 129, loss = 0.00449265\n",
      "Iteration 130, loss = 0.00449113\n",
      "Iteration 131, loss = 0.00458720\n",
      "Iteration 132, loss = 0.00448005\n",
      "Iteration 133, loss = 0.00446519\n",
      "Iteration 134, loss = 0.00449280\n",
      "Training loss did not improve more than tol=0.000001 for 10 consecutive epochs. Stopping.\n",
      "predicting -class-:\n",
      "\n",
      "elapsed for training and predict: 39.39 seconds \n",
      "\n",
      "classification report:\n",
      "               precision    recall  f1-score   support\n",
      "\n",
      "           B    0.99033   0.98962   0.98997      2793\n",
      "           S    0.98314   0.98428   0.98371      1718\n",
      "\n",
      "    accuracy                        0.98759      4511\n",
      "   macro avg    0.98673   0.98695   0.98684      4511\n",
      "weighted avg    0.98759   0.98759   0.98759      4511\n",
      " \n",
      "\n",
      "confusion matrix:\n",
      " [[2764   27]\n",
      " [  29 1691]]\n"
     ]
    },
    {
     "data": {
      "text/plain": [
       "(MLPClassifier(activation='relu', alpha=0.0001, batch_size='auto', beta_1=0.9,\n",
       "               beta_2=0.999, early_stopping=False, epsilon=1e-08,\n",
       "               hidden_layer_sizes=(300,), learning_rate='adaptive',\n",
       "               learning_rate_init=0.001, max_iter=200, momentum=0.9,\n",
       "               n_iter_no_change=10, nesterovs_momentum=True, power_t=0.5,\n",
       "               random_state=None, shuffle=True, solver='adam', tol=1e-06,\n",
       "               validation_fraction=0.1, verbose=True, warm_start=False),\n",
       " array(['B', 'B', 'S', ..., 'S', 'B', 'B'], dtype='<U1'))"
      ]
     },
     "execution_count": 10,
     "metadata": {},
     "output_type": "execute_result"
    }
   ],
   "source": [
    "mlp(dataset)"
   ]
  },
  {
   "cell_type": "code",
   "execution_count": 11,
   "metadata": {},
   "outputs": [
    {
     "name": "stdout",
     "output_type": "stream",
     "text": [
      "\n",
      "support vector classifier:\n",
      "\n",
      "[LibSVM]predicting -class-:\n",
      "\n",
      "elapsed for training and predict: 6.96 seconds \n",
      "\n",
      "classification report:\n",
      "               precision    recall  f1-score   support\n",
      "\n",
      "           B    0.99161   0.97862   0.98507      2900\n",
      "           S    0.96240   0.98510   0.97362      1611\n",
      "\n",
      "    accuracy                        0.98094      4511\n",
      "   macro avg    0.97701   0.98186   0.97935      4511\n",
      "weighted avg    0.98118   0.98094   0.98098      4511\n",
      " \n",
      "\n",
      "confusion matrix:\n",
      " [[2838   24]\n",
      " [  62 1587]]\n"
     ]
    },
    {
     "data": {
      "text/plain": [
       "(MLPClassifier(activation='relu', alpha=0.0001, batch_size='auto', beta_1=0.9,\n",
       "               beta_2=0.999, early_stopping=False, epsilon=1e-08,\n",
       "               hidden_layer_sizes=(300,), learning_rate='adaptive',\n",
       "               learning_rate_init=0.001, max_iter=200, momentum=0.9,\n",
       "               n_iter_no_change=10, nesterovs_momentum=True, power_t=0.5,\n",
       "               random_state=None, shuffle=True, solver='adam', tol=1e-06,\n",
       "               validation_fraction=0.1, verbose=True, warm_start=False),\n",
       " array(['S', 'B', 'B', ..., 'B', 'S', 'B'], dtype=object))"
      ]
     },
     "execution_count": 11,
     "metadata": {},
     "output_type": "execute_result"
    }
   ],
   "source": [
    "support_vector_classifier(dataset)"
   ]
  },
  {
   "cell_type": "markdown",
   "metadata": {},
   "source": [
    " "
   ]
  },
  {
   "cell_type": "markdown",
   "metadata": {},
   "source": [
    " "
   ]
  },
  {
   "cell_type": "markdown",
   "metadata": {},
   "source": [
    " "
   ]
  },
  {
   "cell_type": "markdown",
   "metadata": {},
   "source": [
    " "
   ]
  },
  {
   "cell_type": "markdown",
   "metadata": {},
   "source": [
    " "
   ]
  },
  {
   "cell_type": "markdown",
   "metadata": {},
   "source": [
    " "
   ]
  },
  {
   "cell_type": "markdown",
   "metadata": {},
   "source": [
    " "
   ]
  },
  {
   "cell_type": "markdown",
   "metadata": {},
   "source": [
    " "
   ]
  },
  {
   "cell_type": "markdown",
   "metadata": {},
   "source": [
    " "
   ]
  },
  {
   "cell_type": "markdown",
   "metadata": {},
   "source": [
    " "
   ]
  },
  {
   "cell_type": "markdown",
   "metadata": {},
   "source": [
    " "
   ]
  },
  {
   "cell_type": "markdown",
   "metadata": {},
   "source": [
    " "
   ]
  },
  {
   "cell_type": "markdown",
   "metadata": {},
   "source": [
    " "
   ]
  },
  {
   "cell_type": "markdown",
   "metadata": {},
   "source": [
    " "
   ]
  },
  {
   "cell_type": "markdown",
   "metadata": {},
   "source": [
    " "
   ]
  },
  {
   "cell_type": "markdown",
   "metadata": {},
   "source": [
    " "
   ]
  },
  {
   "cell_type": "markdown",
   "metadata": {},
   "source": [
    " "
   ]
  },
  {
   "cell_type": "markdown",
   "metadata": {},
   "source": [
    " "
   ]
  },
  {
   "cell_type": "markdown",
   "metadata": {},
   "source": [
    " "
   ]
  },
  {
   "cell_type": "markdown",
   "metadata": {},
   "source": [
    " "
   ]
  },
  {
   "cell_type": "markdown",
   "metadata": {},
   "source": [
    " "
   ]
  },
  {
   "cell_type": "markdown",
   "metadata": {},
   "source": [
    " "
   ]
  },
  {
   "cell_type": "markdown",
   "metadata": {},
   "source": [
    " "
   ]
  },
  {
   "cell_type": "markdown",
   "metadata": {},
   "source": [
    " "
   ]
  },
  {
   "cell_type": "markdown",
   "metadata": {},
   "source": [
    " "
   ]
  },
  {
   "cell_type": "markdown",
   "metadata": {},
   "source": [
    " "
   ]
  },
  {
   "cell_type": "markdown",
   "metadata": {},
   "source": [
    " "
   ]
  },
  {
   "cell_type": "markdown",
   "metadata": {},
   "source": [
    " "
   ]
  },
  {
   "cell_type": "markdown",
   "metadata": {},
   "source": [
    " "
   ]
  },
  {
   "cell_type": "markdown",
   "metadata": {},
   "source": [
    " "
   ]
  },
  {
   "cell_type": "markdown",
   "metadata": {},
   "source": [
    " "
   ]
  },
  {
   "cell_type": "markdown",
   "metadata": {},
   "source": [
    " "
   ]
  },
  {
   "cell_type": "markdown",
   "metadata": {},
   "source": [
    " "
   ]
  },
  {
   "cell_type": "markdown",
   "metadata": {},
   "source": [
    " "
   ]
  },
  {
   "cell_type": "markdown",
   "metadata": {},
   "source": [
    " "
   ]
  },
  {
   "cell_type": "markdown",
   "metadata": {},
   "source": [
    " "
   ]
  },
  {
   "cell_type": "markdown",
   "metadata": {},
   "source": [
    " "
   ]
  },
  {
   "cell_type": "markdown",
   "metadata": {},
   "source": [
    " "
   ]
  },
  {
   "cell_type": "markdown",
   "metadata": {},
   "source": [
    " "
   ]
  },
  {
   "cell_type": "markdown",
   "metadata": {},
   "source": [
    " "
   ]
  },
  {
   "cell_type": "markdown",
   "metadata": {},
   "source": [
    " "
   ]
  },
  {
   "cell_type": "markdown",
   "metadata": {},
   "source": [
    " "
   ]
  },
  {
   "cell_type": "markdown",
   "metadata": {},
   "source": [
    " "
   ]
  },
  {
   "cell_type": "markdown",
   "metadata": {},
   "source": [
    " "
   ]
  },
  {
   "cell_type": "markdown",
   "metadata": {},
   "source": [
    " "
   ]
  },
  {
   "cell_type": "markdown",
   "metadata": {},
   "source": [
    " "
   ]
  },
  {
   "cell_type": "markdown",
   "metadata": {},
   "source": [
    " "
   ]
  },
  {
   "cell_type": "markdown",
   "metadata": {},
   "source": [
    " "
   ]
  },
  {
   "cell_type": "markdown",
   "metadata": {},
   "source": [
    " "
   ]
  },
  {
   "cell_type": "markdown",
   "metadata": {},
   "source": [
    " "
   ]
  },
  {
   "cell_type": "markdown",
   "metadata": {},
   "source": [
    " "
   ]
  },
  {
   "cell_type": "markdown",
   "metadata": {},
   "source": [
    " "
   ]
  },
  {
   "cell_type": "markdown",
   "metadata": {},
   "source": [
    " "
   ]
  },
  {
   "cell_type": "markdown",
   "metadata": {},
   "source": [
    " "
   ]
  },
  {
   "cell_type": "markdown",
   "metadata": {},
   "source": [
    " "
   ]
  },
  {
   "cell_type": "markdown",
   "metadata": {},
   "source": [
    " "
   ]
  },
  {
   "cell_type": "markdown",
   "metadata": {},
   "source": [
    " "
   ]
  },
  {
   "cell_type": "markdown",
   "metadata": {},
   "source": [
    " "
   ]
  },
  {
   "cell_type": "markdown",
   "metadata": {},
   "source": [
    " "
   ]
  },
  {
   "cell_type": "markdown",
   "metadata": {},
   "source": [
    " "
   ]
  },
  {
   "cell_type": "markdown",
   "metadata": {},
   "source": [
    " "
   ]
  },
  {
   "cell_type": "markdown",
   "metadata": {},
   "source": [
    " "
   ]
  },
  {
   "cell_type": "markdown",
   "metadata": {},
   "source": [
    " "
   ]
  },
  {
   "cell_type": "markdown",
   "metadata": {},
   "source": [
    " "
   ]
  },
  {
   "cell_type": "markdown",
   "metadata": {},
   "source": [
    " "
   ]
  },
  {
   "cell_type": "markdown",
   "metadata": {},
   "source": [
    " "
   ]
  },
  {
   "cell_type": "markdown",
   "metadata": {},
   "source": [
    " "
   ]
  },
  {
   "cell_type": "markdown",
   "metadata": {},
   "source": [
    " "
   ]
  },
  {
   "cell_type": "markdown",
   "metadata": {},
   "source": [
    " "
   ]
  },
  {
   "cell_type": "markdown",
   "metadata": {},
   "source": [
    " "
   ]
  },
  {
   "cell_type": "markdown",
   "metadata": {},
   "source": [
    " "
   ]
  },
  {
   "cell_type": "markdown",
   "metadata": {},
   "source": [
    " "
   ]
  },
  {
   "cell_type": "markdown",
   "metadata": {},
   "source": [
    " "
   ]
  },
  {
   "cell_type": "markdown",
   "metadata": {},
   "source": [
    " "
   ]
  },
  {
   "cell_type": "markdown",
   "metadata": {},
   "source": [
    " "
   ]
  },
  {
   "cell_type": "markdown",
   "metadata": {},
   "source": [
    " "
   ]
  },
  {
   "cell_type": "markdown",
   "metadata": {},
   "source": [
    " "
   ]
  },
  {
   "cell_type": "markdown",
   "metadata": {},
   "source": [
    " "
   ]
  },
  {
   "cell_type": "markdown",
   "metadata": {},
   "source": [
    " "
   ]
  },
  {
   "cell_type": "markdown",
   "metadata": {},
   "source": [
    " "
   ]
  },
  {
   "cell_type": "markdown",
   "metadata": {},
   "source": [
    " "
   ]
  },
  {
   "cell_type": "markdown",
   "metadata": {},
   "source": [
    " "
   ]
  },
  {
   "cell_type": "markdown",
   "metadata": {},
   "source": [
    " "
   ]
  },
  {
   "cell_type": "markdown",
   "metadata": {},
   "source": [
    " "
   ]
  },
  {
   "cell_type": "markdown",
   "metadata": {},
   "source": [
    " "
   ]
  },
  {
   "cell_type": "markdown",
   "metadata": {},
   "source": [
    " "
   ]
  },
  {
   "cell_type": "markdown",
   "metadata": {},
   "source": [
    " "
   ]
  },
  {
   "cell_type": "markdown",
   "metadata": {},
   "source": [
    " "
   ]
  },
  {
   "cell_type": "markdown",
   "metadata": {},
   "source": [
    " "
   ]
  },
  {
   "cell_type": "markdown",
   "metadata": {},
   "source": [
    " "
   ]
  },
  {
   "cell_type": "markdown",
   "metadata": {},
   "source": [
    " "
   ]
  },
  {
   "cell_type": "markdown",
   "metadata": {},
   "source": [
    " "
   ]
  },
  {
   "cell_type": "markdown",
   "metadata": {},
   "source": [
    " "
   ]
  },
  {
   "cell_type": "markdown",
   "metadata": {},
   "source": [
    " "
   ]
  },
  {
   "cell_type": "markdown",
   "metadata": {},
   "source": [
    " "
   ]
  },
  {
   "cell_type": "markdown",
   "metadata": {},
   "source": [
    " "
   ]
  },
  {
   "cell_type": "markdown",
   "metadata": {},
   "source": [
    " "
   ]
  },
  {
   "cell_type": "markdown",
   "metadata": {},
   "source": [
    " "
   ]
  },
  {
   "cell_type": "markdown",
   "metadata": {},
   "source": [
    " "
   ]
  },
  {
   "cell_type": "markdown",
   "metadata": {},
   "source": [
    " "
   ]
  },
  {
   "cell_type": "markdown",
   "metadata": {},
   "source": [
    " "
   ]
  },
  {
   "cell_type": "markdown",
   "metadata": {},
   "source": [
    " "
   ]
  },
  {
   "cell_type": "markdown",
   "metadata": {},
   "source": [
    " "
   ]
  },
  {
   "cell_type": "markdown",
   "metadata": {},
   "source": [
    " "
   ]
  },
  {
   "cell_type": "markdown",
   "metadata": {},
   "source": [
    " "
   ]
  },
  {
   "cell_type": "markdown",
   "metadata": {},
   "source": [
    " "
   ]
  },
  {
   "cell_type": "markdown",
   "metadata": {},
   "source": [
    " "
   ]
  },
  {
   "cell_type": "markdown",
   "metadata": {},
   "source": [
    " "
   ]
  },
  {
   "cell_type": "markdown",
   "metadata": {},
   "source": [
    " "
   ]
  },
  {
   "cell_type": "markdown",
   "metadata": {},
   "source": [
    " "
   ]
  },
  {
   "cell_type": "markdown",
   "metadata": {},
   "source": [
    " "
   ]
  },
  {
   "cell_type": "markdown",
   "metadata": {},
   "source": [
    " "
   ]
  },
  {
   "cell_type": "markdown",
   "metadata": {},
   "source": [
    " "
   ]
  },
  {
   "cell_type": "markdown",
   "metadata": {},
   "source": [
    " "
   ]
  },
  {
   "cell_type": "markdown",
   "metadata": {},
   "source": [
    " "
   ]
  },
  {
   "cell_type": "markdown",
   "metadata": {},
   "source": [
    " "
   ]
  },
  {
   "cell_type": "markdown",
   "metadata": {},
   "source": [
    " "
   ]
  },
  {
   "cell_type": "markdown",
   "metadata": {},
   "source": [
    " "
   ]
  },
  {
   "cell_type": "markdown",
   "metadata": {},
   "source": [
    " "
   ]
  },
  {
   "cell_type": "markdown",
   "metadata": {},
   "source": [
    " "
   ]
  },
  {
   "cell_type": "markdown",
   "metadata": {},
   "source": [
    " "
   ]
  },
  {
   "cell_type": "markdown",
   "metadata": {},
   "source": [
    " "
   ]
  },
  {
   "cell_type": "markdown",
   "metadata": {},
   "source": [
    " "
   ]
  },
  {
   "cell_type": "markdown",
   "metadata": {},
   "source": [
    " "
   ]
  },
  {
   "cell_type": "markdown",
   "metadata": {},
   "source": [
    " "
   ]
  },
  {
   "cell_type": "markdown",
   "metadata": {},
   "source": [
    " "
   ]
  },
  {
   "cell_type": "markdown",
   "metadata": {},
   "source": [
    " "
   ]
  },
  {
   "cell_type": "markdown",
   "metadata": {},
   "source": [
    "###### @falble"
   ]
  },
  {
   "cell_type": "markdown",
   "metadata": {},
   "source": [
    "###### @gussr"
   ]
  },
  {
   "cell_type": "markdown",
   "metadata": {},
   "source": [
    "###### @FiloLafro"
   ]
  }
 ],
 "metadata": {
  "kernelspec": {
   "display_name": "Python 3",
   "language": "python",
   "name": "python3"
  },
  "language_info": {
   "codemirror_mode": {
    "name": "ipython",
    "version": 3
   },
   "file_extension": ".py",
   "mimetype": "text/x-python",
   "name": "python",
   "nbconvert_exporter": "python",
   "pygments_lexer": "ipython3",
   "version": "3.6.9"
  }
 },
 "nbformat": 4,
 "nbformat_minor": 2
}
